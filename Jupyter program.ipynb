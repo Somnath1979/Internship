{
 "cells": [
  {
   "cell_type": "code",
   "execution_count": 1,
   "id": "d7f203b2",
   "metadata": {},
   "outputs": [
    {
     "name": "stdout",
     "output_type": "stream",
     "text": [
      "Enter the number:5\n",
      "factorial: 120\n"
     ]
    }
   ],
   "source": [
    "#python program to find the factorial of a number.\n",
    "\n",
    "#For example we find the factorial of a any number \n",
    "\n",
    "n=int(input(\"Enter the number:\"))\n",
    "\n",
    "fact=1\n",
    "\n",
    "while (n >= 1):\n",
    "    fact = fact*n\n",
    "    n-=1\n",
    "    \n",
    "print(\"factorial:\", fact)"
   ]
  },
  {
   "cell_type": "code",
   "execution_count": 3,
   "id": "d0f1e526",
   "metadata": {},
   "outputs": [
    {
     "name": "stdout",
     "output_type": "stream",
     "text": [
      "Enter the number:16\n",
      "its a composite no.\n"
     ]
    }
   ],
   "source": [
    "#python program to find whether a number is prime or composite.\n",
    "\n",
    "num=int(input(\"Enter the number:\"))\n",
    "count=0\n",
    "i=1\n",
    "while i<=num:\n",
    "    if num%i==0:\n",
    "        count=count+1\n",
    "    i=i+1\n",
    "            \n",
    "if count==2:\n",
    "    print(\"its a prime no.\")\n",
    "elif count>2:\n",
    "    print(\"its a composite no.\")\n",
    "else:\n",
    "    print(\"the number is neither prime nor composite\")"
   ]
  },
  {
   "cell_type": "code",
   "execution_count": 7,
   "id": "0958dcaa",
   "metadata": {
    "scrolled": false
   },
   "outputs": [
    {
     "name": "stdout",
     "output_type": "stream",
     "text": [
      "Enter a string:matrix\n",
      "it is not a palindrome\n"
     ]
    }
   ],
   "source": [
    "#python program to check whether a given string is palindrome or not\n",
    "\n",
    "a=input(\"Enter a string:\")\n",
    "b=a[-1 : : -1]\n",
    "if(a==b):\n",
    "    print(\"it is a palindrome\")\n",
    "else:\n",
    "    print(\"it is not a palindrome\")"
   ]
  },
  {
   "cell_type": "code",
   "execution_count": 1,
   "id": "8de48080",
   "metadata": {},
   "outputs": [
    {
     "name": "stdout",
     "output_type": "stream",
     "text": [
      "Enter a string: India is my country\n",
      "Enter a character: i\n",
      "Number of time found= 2\n"
     ]
    }
   ],
   "source": [
    "#python program to print the frequency of each of the characters present in a given string\n",
    "\n",
    "abc=input(\"Enter a string: \")\n",
    "ch = input(\"Enter a character: \")\n",
    "f=0\n",
    "for i in abc:\n",
    "        if i == ch:\n",
    "            f=f+1\n",
    "print(\"Number of time found=\",f)"
   ]
  },
  {
   "cell_type": "code",
   "execution_count": 1,
   "id": "760c1b63",
   "metadata": {},
   "outputs": [
    {
     "name": "stdout",
     "output_type": "stream",
     "text": [
      "Base=4\n",
      "Perpendicular=3\n",
      "Hypotenuse 5.0\n"
     ]
    }
   ],
   "source": [
    "#Python program to get the third side of right-angled triangle from two given sides.\n",
    "\n",
    "import math\n",
    "B=int(input(\"Base=\"))\n",
    "P=int(input(\"Perpendicular=\"))\n",
    "H=math.sqrt(B*B+P*P)\n",
    "print(\"Hypotenuse\",H)"
   ]
  },
  {
   "cell_type": "code",
   "execution_count": null,
   "id": "4fcd5af4",
   "metadata": {},
   "outputs": [],
   "source": []
  }
 ],
 "metadata": {
  "kernelspec": {
   "display_name": "Python 3",
   "language": "python",
   "name": "python3"
  },
  "language_info": {
   "codemirror_mode": {
    "name": "ipython",
    "version": 3
   },
   "file_extension": ".py",
   "mimetype": "text/x-python",
   "name": "python",
   "nbconvert_exporter": "python",
   "pygments_lexer": "ipython3",
   "version": "3.8.8"
  }
 },
 "nbformat": 4,
 "nbformat_minor": 5
}
