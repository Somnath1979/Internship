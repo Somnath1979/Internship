{
 "cells": [
  {
   "cell_type": "markdown",
   "id": "1f67a204",
   "metadata": {},
   "source": [
    "# WEB SCRAPING – ASSIGNMENT 2"
   ]
  },
  {
   "cell_type": "markdown",
   "id": "f0775103",
   "metadata": {},
   "source": [
    "# Q1. python program to scrape data for “Data Analyst” Job position in “Bangalore” location."
   ]
  },
  {
   "cell_type": "markdown",
   "id": "d0391020",
   "metadata": {},
   "source": [
    "We will Scrap data from https://www.naukri.com/ website for \"Data Analyst\" job role in Bangalore location:\n",
    "We scrap 4 field for \"Data Analyst\" job as mention below:\n",
    "a)job-title\n",
    "b)job-location\n",
    "c)company_name\n",
    "d)experience_required"
   ]
  },
  {
   "cell_type": "code",
   "execution_count": 34,
   "id": "03bfcd7c",
   "metadata": {},
   "outputs": [
    {
     "name": "stdout",
     "output_type": "stream",
     "text": [
      "Requirement already satisfied: selenium in c:\\users\\dell\\anaconda3\\lib\\site-packages (4.1.0)\n",
      "Requirement already satisfied: trio-websocket~=0.9 in c:\\users\\dell\\anaconda3\\lib\\site-packages (from selenium) (0.9.2)\n",
      "Requirement already satisfied: trio~=0.17 in c:\\users\\dell\\anaconda3\\lib\\site-packages (from selenium) (0.19.0)\n",
      "Requirement already satisfied: urllib3[secure]~=1.26 in c:\\users\\dell\\anaconda3\\lib\\site-packages (from selenium) (1.26.4)\n",
      "Requirement already satisfied: async-generator>=1.9 in c:\\users\\dell\\anaconda3\\lib\\site-packages (from trio~=0.17->selenium) (1.10)\n",
      "Requirement already satisfied: outcome in c:\\users\\dell\\anaconda3\\lib\\site-packages (from trio~=0.17->selenium) (1.1.0)\n",
      "Requirement already satisfied: attrs>=19.2.0 in c:\\users\\dell\\anaconda3\\lib\\site-packages (from trio~=0.17->selenium) (20.3.0)\n",
      "Requirement already satisfied: sniffio in c:\\users\\dell\\anaconda3\\lib\\site-packages (from trio~=0.17->selenium) (1.2.0)\n",
      "Requirement already satisfied: sortedcontainers in c:\\users\\dell\\anaconda3\\lib\\site-packages (from trio~=0.17->selenium) (2.3.0)\n",
      "Requirement already satisfied: cffi>=1.14 in c:\\users\\dell\\anaconda3\\lib\\site-packages (from trio~=0.17->selenium) (1.14.5)\n",
      "Requirement already satisfied: idna in c:\\users\\dell\\anaconda3\\lib\\site-packages (from trio~=0.17->selenium) (2.10)\n",
      "Requirement already satisfied: pycparser in c:\\users\\dell\\anaconda3\\lib\\site-packages (from cffi>=1.14->trio~=0.17->selenium) (2.20)\n",
      "Requirement already satisfied: wsproto>=0.14 in c:\\users\\dell\\anaconda3\\lib\\site-packages (from trio-websocket~=0.9->selenium) (1.0.0)\n",
      "Requirement already satisfied: pyOpenSSL>=0.14 in c:\\users\\dell\\anaconda3\\lib\\site-packages (from urllib3[secure]~=1.26->selenium) (20.0.1)\n",
      "Requirement already satisfied: certifi in c:\\users\\dell\\anaconda3\\lib\\site-packages (from urllib3[secure]~=1.26->selenium) (2020.12.5)\n",
      "Requirement already satisfied: cryptography>=1.3.4 in c:\\users\\dell\\anaconda3\\lib\\site-packages (from urllib3[secure]~=1.26->selenium) (3.4.7)\n",
      "Requirement already satisfied: six>=1.5.2 in c:\\users\\dell\\anaconda3\\lib\\site-packages (from pyOpenSSL>=0.14->urllib3[secure]~=1.26->selenium) (1.15.0)\n",
      "Requirement already satisfied: h11<1,>=0.9.0 in c:\\users\\dell\\anaconda3\\lib\\site-packages (from wsproto>=0.14->trio-websocket~=0.9->selenium) (0.12.0)\n"
     ]
    }
   ],
   "source": [
    "#First install selenium library\n",
    "!pip install selenium"
   ]
  },
  {
   "cell_type": "code",
   "execution_count": 35,
   "id": "65953af5",
   "metadata": {},
   "outputs": [],
   "source": [
    "#Import all required liabraries\n",
    "import selenium\n",
    "from selenium import webdriver\n",
    "import pandas as pd\n",
    "import warnings\n",
    "warnings.filterwarnings(\"ignore\")"
   ]
  },
  {
   "cell_type": "code",
   "execution_count": null,
   "id": "abbfffc5",
   "metadata": {},
   "outputs": [],
   "source": [
    "#First connect to web driver\n",
    "driver=webdriver.Chrome(r'C:\\Users\\Dell\\Downloads\\chromedriver_win32\\chromedriver.exe')"
   ]
  },
  {
   "cell_type": "code",
   "execution_count": null,
   "id": "1465ab01",
   "metadata": {},
   "outputs": [],
   "source": [
    "url='https://www.naukri.com/'\n",
    "driver.get(url)"
   ]
  },
  {
   "cell_type": "code",
   "execution_count": 51,
   "id": "24fdc157",
   "metadata": {},
   "outputs": [
    {
     "data": {
      "text/plain": [
       "<selenium.webdriver.remote.webelement.WebElement (session=\"211abe3783c666026516f89ddb04f6da\", element=\"09e826a3-f4ac-4ed7-959b-9ec5868935f3\")>"
      ]
     },
     "execution_count": 51,
     "metadata": {},
     "output_type": "execute_result"
    }
   ],
   "source": [
    "#finding web element for search bar using id\n",
    "search_job=driver.find_element_by_id(\"qsb-keyword-sugg\")\n",
    "search_job"
   ]
  },
  {
   "cell_type": "code",
   "execution_count": 121,
   "id": "2215de86",
   "metadata": {},
   "outputs": [
    {
     "ename": "WebDriverException",
     "evalue": "Message: chrome not reachable\n  (Session info: chrome=97.0.4692.71)\nStacktrace:\nBacktrace:\n\tOrdinal0 [0x00F5FDC3+2555331]\n\tOrdinal0 [0x00EF77F1+2127857]\n\tOrdinal0 [0x00DF2CD0+1060048]\n\tOrdinal0 [0x00DE7BE2+1014754]\n\tOrdinal0 [0x00DE83E8+1016808]\n\tOrdinal0 [0x00DE9C02+1022978]\n\tOrdinal0 [0x00DE3AB9+998073]\n\tOrdinal0 [0x00DF4040+1065024]\n\tOrdinal0 [0x00E46DC2+1404354]\n\tOrdinal0 [0x00E37976+1341814]\n\tOrdinal0 [0x00E136B6+1193654]\n\tOrdinal0 [0x00E14546+1197382]\n\tGetHandleVerifier [0x010F9622+1619522]\n\tGetHandleVerifier [0x011A882C+2336844]\n\tGetHandleVerifier [0x00FF23E1+541697]\n\tGetHandleVerifier [0x00FF1443+537699]\n\tOrdinal0 [0x00EFD18E+2150798]\n\tOrdinal0 [0x00F01518+2168088]\n\tOrdinal0 [0x00F01660+2168416]\n\tOrdinal0 [0x00F0B330+2208560]\n\tBaseThreadInitThunk [0x763EFA29+25]\n\tRtlGetAppContainerNamedObjectPath [0x777D7A9E+286]\n\tRtlGetAppContainerNamedObjectPath [0x777D7A6E+238]\n",
     "output_type": "error",
     "traceback": [
      "\u001b[1;31m---------------------------------------------------------------------------\u001b[0m",
      "\u001b[1;31mWebDriverException\u001b[0m                        Traceback (most recent call last)",
      "\u001b[1;32m<ipython-input-121-467d2f725a27>\u001b[0m in \u001b[0;36m<module>\u001b[1;34m\u001b[0m\n\u001b[0;32m      1\u001b[0m \u001b[1;31m#write on search bar\u001b[0m\u001b[1;33m\u001b[0m\u001b[1;33m\u001b[0m\u001b[1;33m\u001b[0m\u001b[0m\n\u001b[1;32m----> 2\u001b[1;33m \u001b[0msearch_job\u001b[0m\u001b[1;33m.\u001b[0m\u001b[0msend_keys\u001b[0m\u001b[1;33m(\u001b[0m\u001b[1;34m\"Data Analyst\"\u001b[0m\u001b[1;33m)\u001b[0m\u001b[1;33m\u001b[0m\u001b[1;33m\u001b[0m\u001b[0m\n\u001b[0m",
      "\u001b[1;32m~\\anaconda3\\lib\\site-packages\\selenium\\webdriver\\remote\\webelement.py\u001b[0m in \u001b[0;36msend_keys\u001b[1;34m(self, *value)\u001b[0m\n\u001b[0;32m    538\u001b[0m                 \u001b[0mvalue\u001b[0m \u001b[1;33m=\u001b[0m \u001b[1;34m'\\n'\u001b[0m\u001b[1;33m.\u001b[0m\u001b[0mjoin\u001b[0m\u001b[1;33m(\u001b[0m\u001b[0mremote_files\u001b[0m\u001b[1;33m)\u001b[0m\u001b[1;33m\u001b[0m\u001b[1;33m\u001b[0m\u001b[0m\n\u001b[0;32m    539\u001b[0m \u001b[1;33m\u001b[0m\u001b[0m\n\u001b[1;32m--> 540\u001b[1;33m         self._execute(Command.SEND_KEYS_TO_ELEMENT,\n\u001b[0m\u001b[0;32m    541\u001b[0m                       {'text': \"\".join(keys_to_typing(value)),\n\u001b[0;32m    542\u001b[0m                        'value': keys_to_typing(value)})\n",
      "\u001b[1;32m~\\anaconda3\\lib\\site-packages\\selenium\\webdriver\\remote\\webelement.py\u001b[0m in \u001b[0;36m_execute\u001b[1;34m(self, command, params)\u001b[0m\n\u001b[0;32m    708\u001b[0m             \u001b[0mparams\u001b[0m \u001b[1;33m=\u001b[0m \u001b[1;33m{\u001b[0m\u001b[1;33m}\u001b[0m\u001b[1;33m\u001b[0m\u001b[1;33m\u001b[0m\u001b[0m\n\u001b[0;32m    709\u001b[0m         \u001b[0mparams\u001b[0m\u001b[1;33m[\u001b[0m\u001b[1;34m'id'\u001b[0m\u001b[1;33m]\u001b[0m \u001b[1;33m=\u001b[0m \u001b[0mself\u001b[0m\u001b[1;33m.\u001b[0m\u001b[0m_id\u001b[0m\u001b[1;33m\u001b[0m\u001b[1;33m\u001b[0m\u001b[0m\n\u001b[1;32m--> 710\u001b[1;33m         \u001b[1;32mreturn\u001b[0m \u001b[0mself\u001b[0m\u001b[1;33m.\u001b[0m\u001b[0m_parent\u001b[0m\u001b[1;33m.\u001b[0m\u001b[0mexecute\u001b[0m\u001b[1;33m(\u001b[0m\u001b[0mcommand\u001b[0m\u001b[1;33m,\u001b[0m \u001b[0mparams\u001b[0m\u001b[1;33m)\u001b[0m\u001b[1;33m\u001b[0m\u001b[1;33m\u001b[0m\u001b[0m\n\u001b[0m\u001b[0;32m    711\u001b[0m \u001b[1;33m\u001b[0m\u001b[0m\n\u001b[0;32m    712\u001b[0m     \u001b[1;32mdef\u001b[0m \u001b[0mfind_element\u001b[0m\u001b[1;33m(\u001b[0m\u001b[0mself\u001b[0m\u001b[1;33m,\u001b[0m \u001b[0mby\u001b[0m\u001b[1;33m=\u001b[0m\u001b[0mBy\u001b[0m\u001b[1;33m.\u001b[0m\u001b[0mID\u001b[0m\u001b[1;33m,\u001b[0m \u001b[0mvalue\u001b[0m\u001b[1;33m=\u001b[0m\u001b[1;32mNone\u001b[0m\u001b[1;33m)\u001b[0m\u001b[1;33m:\u001b[0m\u001b[1;33m\u001b[0m\u001b[1;33m\u001b[0m\u001b[0m\n",
      "\u001b[1;32m~\\anaconda3\\lib\\site-packages\\selenium\\webdriver\\remote\\webdriver.py\u001b[0m in \u001b[0;36mexecute\u001b[1;34m(self, driver_command, params)\u001b[0m\n\u001b[0;32m    422\u001b[0m         \u001b[0mresponse\u001b[0m \u001b[1;33m=\u001b[0m \u001b[0mself\u001b[0m\u001b[1;33m.\u001b[0m\u001b[0mcommand_executor\u001b[0m\u001b[1;33m.\u001b[0m\u001b[0mexecute\u001b[0m\u001b[1;33m(\u001b[0m\u001b[0mdriver_command\u001b[0m\u001b[1;33m,\u001b[0m \u001b[0mparams\u001b[0m\u001b[1;33m)\u001b[0m\u001b[1;33m\u001b[0m\u001b[1;33m\u001b[0m\u001b[0m\n\u001b[0;32m    423\u001b[0m         \u001b[1;32mif\u001b[0m \u001b[0mresponse\u001b[0m\u001b[1;33m:\u001b[0m\u001b[1;33m\u001b[0m\u001b[1;33m\u001b[0m\u001b[0m\n\u001b[1;32m--> 424\u001b[1;33m             \u001b[0mself\u001b[0m\u001b[1;33m.\u001b[0m\u001b[0merror_handler\u001b[0m\u001b[1;33m.\u001b[0m\u001b[0mcheck_response\u001b[0m\u001b[1;33m(\u001b[0m\u001b[0mresponse\u001b[0m\u001b[1;33m)\u001b[0m\u001b[1;33m\u001b[0m\u001b[1;33m\u001b[0m\u001b[0m\n\u001b[0m\u001b[0;32m    425\u001b[0m             response['value'] = self._unwrap_value(\n\u001b[0;32m    426\u001b[0m                 response.get('value', None))\n",
      "\u001b[1;32m~\\anaconda3\\lib\\site-packages\\selenium\\webdriver\\remote\\errorhandler.py\u001b[0m in \u001b[0;36mcheck_response\u001b[1;34m(self, response)\u001b[0m\n\u001b[0;32m    245\u001b[0m                 \u001b[0malert_text\u001b[0m \u001b[1;33m=\u001b[0m \u001b[0mvalue\u001b[0m\u001b[1;33m[\u001b[0m\u001b[1;34m'alert'\u001b[0m\u001b[1;33m]\u001b[0m\u001b[1;33m.\u001b[0m\u001b[0mget\u001b[0m\u001b[1;33m(\u001b[0m\u001b[1;34m'text'\u001b[0m\u001b[1;33m)\u001b[0m\u001b[1;33m\u001b[0m\u001b[1;33m\u001b[0m\u001b[0m\n\u001b[0;32m    246\u001b[0m             \u001b[1;32mraise\u001b[0m \u001b[0mexception_class\u001b[0m\u001b[1;33m(\u001b[0m\u001b[0mmessage\u001b[0m\u001b[1;33m,\u001b[0m \u001b[0mscreen\u001b[0m\u001b[1;33m,\u001b[0m \u001b[0mstacktrace\u001b[0m\u001b[1;33m,\u001b[0m \u001b[0malert_text\u001b[0m\u001b[1;33m)\u001b[0m  \u001b[1;31m# type: ignore[call-arg]  # mypy is not smart enough here\u001b[0m\u001b[1;33m\u001b[0m\u001b[1;33m\u001b[0m\u001b[0m\n\u001b[1;32m--> 247\u001b[1;33m         \u001b[1;32mraise\u001b[0m \u001b[0mexception_class\u001b[0m\u001b[1;33m(\u001b[0m\u001b[0mmessage\u001b[0m\u001b[1;33m,\u001b[0m \u001b[0mscreen\u001b[0m\u001b[1;33m,\u001b[0m \u001b[0mstacktrace\u001b[0m\u001b[1;33m)\u001b[0m\u001b[1;33m\u001b[0m\u001b[1;33m\u001b[0m\u001b[0m\n\u001b[0m\u001b[0;32m    248\u001b[0m \u001b[1;33m\u001b[0m\u001b[0m\n\u001b[0;32m    249\u001b[0m     \u001b[1;32mdef\u001b[0m \u001b[0m_value_or_default\u001b[0m\u001b[1;33m(\u001b[0m\u001b[0mself\u001b[0m\u001b[1;33m,\u001b[0m \u001b[0mobj\u001b[0m\u001b[1;33m:\u001b[0m \u001b[0mMapping\u001b[0m\u001b[1;33m[\u001b[0m\u001b[0m_KT\u001b[0m\u001b[1;33m,\u001b[0m \u001b[0m_VT\u001b[0m\u001b[1;33m]\u001b[0m\u001b[1;33m,\u001b[0m \u001b[0mkey\u001b[0m\u001b[1;33m:\u001b[0m \u001b[0m_KT\u001b[0m\u001b[1;33m,\u001b[0m \u001b[0mdefault\u001b[0m\u001b[1;33m:\u001b[0m \u001b[0m_VT\u001b[0m\u001b[1;33m)\u001b[0m \u001b[1;33m->\u001b[0m \u001b[0m_VT\u001b[0m\u001b[1;33m:\u001b[0m\u001b[1;33m\u001b[0m\u001b[1;33m\u001b[0m\u001b[0m\n",
      "\u001b[1;31mWebDriverException\u001b[0m: Message: chrome not reachable\n  (Session info: chrome=97.0.4692.71)\nStacktrace:\nBacktrace:\n\tOrdinal0 [0x00F5FDC3+2555331]\n\tOrdinal0 [0x00EF77F1+2127857]\n\tOrdinal0 [0x00DF2CD0+1060048]\n\tOrdinal0 [0x00DE7BE2+1014754]\n\tOrdinal0 [0x00DE83E8+1016808]\n\tOrdinal0 [0x00DE9C02+1022978]\n\tOrdinal0 [0x00DE3AB9+998073]\n\tOrdinal0 [0x00DF4040+1065024]\n\tOrdinal0 [0x00E46DC2+1404354]\n\tOrdinal0 [0x00E37976+1341814]\n\tOrdinal0 [0x00E136B6+1193654]\n\tOrdinal0 [0x00E14546+1197382]\n\tGetHandleVerifier [0x010F9622+1619522]\n\tGetHandleVerifier [0x011A882C+2336844]\n\tGetHandleVerifier [0x00FF23E1+541697]\n\tGetHandleVerifier [0x00FF1443+537699]\n\tOrdinal0 [0x00EFD18E+2150798]\n\tOrdinal0 [0x00F01518+2168088]\n\tOrdinal0 [0x00F01660+2168416]\n\tOrdinal0 [0x00F0B330+2208560]\n\tBaseThreadInitThunk [0x763EFA29+25]\n\tRtlGetAppContainerNamedObjectPath [0x777D7A9E+286]\n\tRtlGetAppContainerNamedObjectPath [0x777D7A6E+238]\n"
     ]
    }
   ],
   "source": [
    "#write on search bar\n",
    "search_job.send_keys(\"Data Analyst\")"
   ]
  },
  {
   "cell_type": "code",
   "execution_count": null,
   "id": "91bdf7f4",
   "metadata": {},
   "outputs": [],
   "source": [
    "#finding web element for search location bar using relative xpath\n",
    "search_location=driver.find_element_by_xpath(\"/html/body/div[1]/div[3]/div[2]/section/div/form/div[2]/div/div/div/div[1]/div[2]/input\")\n",
    "search_location"
   ]
  },
  {
   "cell_type": "code",
   "execution_count": null,
   "id": "16483205",
   "metadata": {},
   "outputs": [],
   "source": [
    "#finding web element for job location bar\n",
    "search_location.send_keys(\"Bangalore\")"
   ]
  },
  {
   "cell_type": "code",
   "execution_count": null,
   "id": "dc5830a9",
   "metadata": {},
   "outputs": [],
   "source": [
    "#Clicking using relative xpath function\n",
    "search_button=driver.find_element_by_xpath(\"/html/body/div[1]/div[3]/div[2]/section/div/form/div[3]/button\")\n",
    "search_button"
   ]
  },
  {
   "cell_type": "code",
   "execution_count": null,
   "id": "f3eac4c2",
   "metadata": {},
   "outputs": [],
   "source": [
    "search_button.click()"
   ]
  },
  {
   "cell_type": "markdown",
   "id": "49173d07",
   "metadata": {},
   "source": [
    "# Extracting Job Titles"
   ]
  },
  {
   "cell_type": "code",
   "execution_count": 92,
   "id": "d22dfe50",
   "metadata": {},
   "outputs": [
    {
     "data": {
      "text/plain": [
       "[<selenium.webdriver.remote.webelement.WebElement (session=\"f5345670c1f7d2624c9397e3c7a52fcc\", element=\"99711ea9-1c88-451c-a26f-41d4d87a44f7\")>,\n",
       " <selenium.webdriver.remote.webelement.WebElement (session=\"f5345670c1f7d2624c9397e3c7a52fcc\", element=\"301d85de-c7e6-49e5-aa46-3462d3901f3e\")>,\n",
       " <selenium.webdriver.remote.webelement.WebElement (session=\"f5345670c1f7d2624c9397e3c7a52fcc\", element=\"4e0bd612-4e49-4fd8-a5a4-22634a8d999f\")>]"
      ]
     },
     "execution_count": 92,
     "metadata": {},
     "output_type": "execute_result"
    }
   ],
   "source": [
    "#extract all web element having job titles\n",
    "title_tags=driver.find_elements_by_xpath('//a[@class=\"title fw500 ellipsis\"]')\n",
    "len(title_tags)\n",
    "title_tags[0:3]   "
   ]
  },
  {
   "cell_type": "code",
   "execution_count": 101,
   "id": "c594de76",
   "metadata": {},
   "outputs": [
    {
     "data": {
      "text/plain": [
       "['Lead - Data Analyst / Scientist',\n",
       " 'Research - Data Analyst / Associate',\n",
       " 'Data Analyst - CRM Platform',\n",
       " 'Senior Data Analyst - Supporting Audits',\n",
       " 'Senior Data Analyst - KPO',\n",
       " 'Data Analyst',\n",
       " 'Financial Data Analyst',\n",
       " 'Tcs Hiring For Data Analyst / Engineers',\n",
       " 'Business Data Analyst - Database Design/Mining',\n",
       " 'Senior Analyst, Data Engineering']"
      ]
     },
     "execution_count": 101,
     "metadata": {},
     "output_type": "execute_result"
    }
   ],
   "source": [
    "#we will run for loop to iterate over the tags and will extract text\n",
    "job_titles=[]\n",
    "\n",
    "for i in title_tags[:10]:\n",
    "    job_titles.append(i.text)\n",
    "len(job_titles)\n",
    "job_titles[0:10]"
   ]
  },
  {
   "cell_type": "markdown",
   "id": "cab7597f",
   "metadata": {},
   "source": [
    "# Extracting Company Names"
   ]
  },
  {
   "cell_type": "code",
   "execution_count": 94,
   "id": "3f062877",
   "metadata": {},
   "outputs": [
    {
     "data": {
      "text/plain": [
       "[<selenium.webdriver.remote.webelement.WebElement (session=\"f5345670c1f7d2624c9397e3c7a52fcc\", element=\"45cb2440-d494-491e-adfd-99826a0931a1\")>,\n",
       " <selenium.webdriver.remote.webelement.WebElement (session=\"f5345670c1f7d2624c9397e3c7a52fcc\", element=\"1c0e6df7-3ce2-4b40-a329-94c32cd3f932\")>,\n",
       " <selenium.webdriver.remote.webelement.WebElement (session=\"f5345670c1f7d2624c9397e3c7a52fcc\", element=\"ab3672f8-f6e5-4b0e-bd99-db011c668428\")>]"
      ]
     },
     "execution_count": 94,
     "metadata": {},
     "output_type": "execute_result"
    }
   ],
   "source": [
    "#extract all web element having company names\n",
    "company_tags=driver.find_elements_by_xpath('//a[@class=\"subTitle ellipsis fleft\"]')\n",
    "len(company_tags)\n",
    "company_tags[0:3] "
   ]
  },
  {
   "cell_type": "code",
   "execution_count": 95,
   "id": "6050230f",
   "metadata": {},
   "outputs": [
    {
     "data": {
      "text/plain": [
       "['Axim Technologies',\n",
       " 'AXL HR Tech',\n",
       " 'Artech infosystem',\n",
       " 'Visa',\n",
       " 'Huquo Consulting Pvt. Ltd',\n",
       " 'Snaphunt',\n",
       " \"Moody's\",\n",
       " 'TCS',\n",
       " 'AugmatrixGo',\n",
       " 'Dell']"
      ]
     },
     "execution_count": 95,
     "metadata": {},
     "output_type": "execute_result"
    }
   ],
   "source": [
    "#we will run for loop to iterate over the tags and will extract text\n",
    "company_names=[]\n",
    "\n",
    "for i in company_tags[:10]:\n",
    "    company_names.append(i.text)\n",
    "len(company_names)\n",
    "company_names[0:10]"
   ]
  },
  {
   "cell_type": "markdown",
   "id": "3b2ffa07",
   "metadata": {},
   "source": [
    "# Extracting Job Experience"
   ]
  },
  {
   "cell_type": "code",
   "execution_count": 96,
   "id": "3067ae25",
   "metadata": {},
   "outputs": [
    {
     "data": {
      "text/plain": [
       "[<selenium.webdriver.remote.webelement.WebElement (session=\"f5345670c1f7d2624c9397e3c7a52fcc\", element=\"80e70e34-7158-499d-bd5d-fab97783b920\")>,\n",
       " <selenium.webdriver.remote.webelement.WebElement (session=\"f5345670c1f7d2624c9397e3c7a52fcc\", element=\"9068cb54-9773-421e-be85-791917077cde\")>,\n",
       " <selenium.webdriver.remote.webelement.WebElement (session=\"f5345670c1f7d2624c9397e3c7a52fcc\", element=\"99411a8a-8efb-4ba0-b9cd-41c50ed1dcb4\")>]"
      ]
     },
     "execution_count": 96,
     "metadata": {},
     "output_type": "execute_result"
    }
   ],
   "source": [
    "#extract all web element having experience using parent tag\n",
    "exp_tags=driver.find_elements_by_xpath('//li[@class=\"fleft grey-text br2 placeHolderLi experience\"]')\n",
    "len(exp_tags)\n",
    "exp_tags[0:3] "
   ]
  },
  {
   "cell_type": "code",
   "execution_count": 97,
   "id": "fcea4d3f",
   "metadata": {},
   "outputs": [
    {
     "data": {
      "text/plain": [
       "['12-14 Yrs',\n",
       " '0-2 Yrs',\n",
       " '1-6 Yrs',\n",
       " '5-8 Yrs',\n",
       " '7-12 Yrs',\n",
       " '0-2 Yrs',\n",
       " '0-2 Yrs',\n",
       " '4-9 Yrs',\n",
       " '2-5 Yrs',\n",
       " '5-10 Yrs']"
      ]
     },
     "execution_count": 97,
     "metadata": {},
     "output_type": "execute_result"
    }
   ],
   "source": [
    "#we will run for loop to iterate over the tags and will extract text\n",
    "experience=[]\n",
    "\n",
    "for i in exp_tags[:10]:\n",
    "    experience.append(i.text)\n",
    "len(experience)\n",
    "experience[0:10]"
   ]
  },
  {
   "cell_type": "markdown",
   "id": "90894c93",
   "metadata": {},
   "source": [
    "# Extracting Company Location"
   ]
  },
  {
   "cell_type": "code",
   "execution_count": 98,
   "id": "d39e9caf",
   "metadata": {},
   "outputs": [
    {
     "data": {
      "text/plain": [
       "[<selenium.webdriver.remote.webelement.WebElement (session=\"f5345670c1f7d2624c9397e3c7a52fcc\", element=\"80e70e34-7158-499d-bd5d-fab97783b920\")>,\n",
       " <selenium.webdriver.remote.webelement.WebElement (session=\"f5345670c1f7d2624c9397e3c7a52fcc\", element=\"9068cb54-9773-421e-be85-791917077cde\")>,\n",
       " <selenium.webdriver.remote.webelement.WebElement (session=\"f5345670c1f7d2624c9397e3c7a52fcc\", element=\"99411a8a-8efb-4ba0-b9cd-41c50ed1dcb4\")>]"
      ]
     },
     "execution_count": 98,
     "metadata": {},
     "output_type": "execute_result"
    }
   ],
   "source": [
    "#extract all web element having company location\n",
    "locs_tags=driver.find_elements_by_xpath('//li[@class=\"fleft grey-text br2 placeHolderLi location\"]')\n",
    "len(exp_tags)\n",
    "exp_tags[0:3] "
   ]
  },
  {
   "cell_type": "code",
   "execution_count": 99,
   "id": "3e3544fb",
   "metadata": {},
   "outputs": [
    {
     "data": {
      "text/plain": [
       "['Bangalore/Bengaluru',\n",
       " 'Mumbai, Delhi / NCR, Bangalore/Bengaluru',\n",
       " 'Kolkata, Mumbai, Hyderabad/Secunderabad, Pune, Chennai, Bangalore/Bengaluru, Delhi / NCR',\n",
       " 'Bangalore/Bengaluru',\n",
       " 'Gurgaon/Gurugram, Bangalore/Bengaluru',\n",
       " 'Bangalore/Bengaluru',\n",
       " 'Bangalore/Bengaluru',\n",
       " 'Pune, Bangalore/Bengaluru, Delhi / NCR',\n",
       " 'Bangalore/Bengaluru',\n",
       " 'Bangalore/Bengaluru']"
      ]
     },
     "execution_count": 99,
     "metadata": {},
     "output_type": "execute_result"
    }
   ],
   "source": [
    "location=[]\n",
    "\n",
    "for i in locs_tags[:10]:\n",
    "    location.append(i.text)\n",
    "len(location)\n",
    "location[0:10]"
   ]
  },
  {
   "cell_type": "code",
   "execution_count": 102,
   "id": "7c854750",
   "metadata": {},
   "outputs": [
    {
     "data": {
      "text/plain": [
       "(10, 10, 10, 10)"
      ]
     },
     "execution_count": 102,
     "metadata": {},
     "output_type": "execute_result"
    }
   ],
   "source": [
    "len(job_titles),len(company_names),len(experience),len(location)"
   ]
  },
  {
   "cell_type": "markdown",
   "id": "be30ca1d",
   "metadata": {},
   "source": [
    "# Making Dataframe"
   ]
  },
  {
   "cell_type": "code",
   "execution_count": 105,
   "id": "bb799614",
   "metadata": {},
   "outputs": [
    {
     "data": {
      "text/html": [
       "<div>\n",
       "<style scoped>\n",
       "    .dataframe tbody tr th:only-of-type {\n",
       "        vertical-align: middle;\n",
       "    }\n",
       "\n",
       "    .dataframe tbody tr th {\n",
       "        vertical-align: top;\n",
       "    }\n",
       "\n",
       "    .dataframe thead th {\n",
       "        text-align: right;\n",
       "    }\n",
       "</style>\n",
       "<table border=\"1\" class=\"dataframe\">\n",
       "  <thead>\n",
       "    <tr style=\"text-align: right;\">\n",
       "      <th></th>\n",
       "      <th>Job Title</th>\n",
       "      <th>Comapny Name</th>\n",
       "      <th>Work Experience</th>\n",
       "      <th>Company Location</th>\n",
       "    </tr>\n",
       "  </thead>\n",
       "  <tbody>\n",
       "    <tr>\n",
       "      <th>0</th>\n",
       "      <td>Lead - Data Analyst / Scientist</td>\n",
       "      <td>Axim Technologies</td>\n",
       "      <td>12-14 Yrs</td>\n",
       "      <td>Bangalore/Bengaluru</td>\n",
       "    </tr>\n",
       "    <tr>\n",
       "      <th>1</th>\n",
       "      <td>Research - Data Analyst / Associate</td>\n",
       "      <td>AXL HR Tech</td>\n",
       "      <td>0-2 Yrs</td>\n",
       "      <td>Mumbai, Delhi / NCR, Bangalore/Bengaluru</td>\n",
       "    </tr>\n",
       "    <tr>\n",
       "      <th>2</th>\n",
       "      <td>Data Analyst - CRM Platform</td>\n",
       "      <td>Artech infosystem</td>\n",
       "      <td>1-6 Yrs</td>\n",
       "      <td>Kolkata, Mumbai, Hyderabad/Secunderabad, Pune,...</td>\n",
       "    </tr>\n",
       "    <tr>\n",
       "      <th>3</th>\n",
       "      <td>Senior Data Analyst - Supporting Audits</td>\n",
       "      <td>Visa</td>\n",
       "      <td>5-8 Yrs</td>\n",
       "      <td>Bangalore/Bengaluru</td>\n",
       "    </tr>\n",
       "    <tr>\n",
       "      <th>4</th>\n",
       "      <td>Senior Data Analyst - KPO</td>\n",
       "      <td>Huquo Consulting Pvt. Ltd</td>\n",
       "      <td>7-12 Yrs</td>\n",
       "      <td>Gurgaon/Gurugram, Bangalore/Bengaluru</td>\n",
       "    </tr>\n",
       "    <tr>\n",
       "      <th>5</th>\n",
       "      <td>Data Analyst</td>\n",
       "      <td>Snaphunt</td>\n",
       "      <td>0-2 Yrs</td>\n",
       "      <td>Bangalore/Bengaluru</td>\n",
       "    </tr>\n",
       "    <tr>\n",
       "      <th>6</th>\n",
       "      <td>Financial Data Analyst</td>\n",
       "      <td>Moody's</td>\n",
       "      <td>0-2 Yrs</td>\n",
       "      <td>Bangalore/Bengaluru</td>\n",
       "    </tr>\n",
       "    <tr>\n",
       "      <th>7</th>\n",
       "      <td>Tcs Hiring For Data Analyst / Engineers</td>\n",
       "      <td>TCS</td>\n",
       "      <td>4-9 Yrs</td>\n",
       "      <td>Pune, Bangalore/Bengaluru, Delhi / NCR</td>\n",
       "    </tr>\n",
       "    <tr>\n",
       "      <th>8</th>\n",
       "      <td>Business Data Analyst - Database Design/Mining</td>\n",
       "      <td>AugmatrixGo</td>\n",
       "      <td>2-5 Yrs</td>\n",
       "      <td>Bangalore/Bengaluru</td>\n",
       "    </tr>\n",
       "    <tr>\n",
       "      <th>9</th>\n",
       "      <td>Senior Analyst, Data Engineering</td>\n",
       "      <td>Dell</td>\n",
       "      <td>5-10 Yrs</td>\n",
       "      <td>Bangalore/Bengaluru</td>\n",
       "    </tr>\n",
       "  </tbody>\n",
       "</table>\n",
       "</div>"
      ],
      "text/plain": [
       "                                        Job Title               Comapny Name  \\\n",
       "0                 Lead - Data Analyst / Scientist          Axim Technologies   \n",
       "1             Research - Data Analyst / Associate                AXL HR Tech   \n",
       "2                     Data Analyst - CRM Platform          Artech infosystem   \n",
       "3         Senior Data Analyst - Supporting Audits                       Visa   \n",
       "4                       Senior Data Analyst - KPO  Huquo Consulting Pvt. Ltd   \n",
       "5                                    Data Analyst                   Snaphunt   \n",
       "6                          Financial Data Analyst                    Moody's   \n",
       "7         Tcs Hiring For Data Analyst / Engineers                        TCS   \n",
       "8  Business Data Analyst - Database Design/Mining                AugmatrixGo   \n",
       "9                Senior Analyst, Data Engineering                       Dell   \n",
       "\n",
       "  Work Experience                                    Company Location  \n",
       "0        12-14 Yrs                                Bangalore/Bengaluru  \n",
       "1          0-2 Yrs           Mumbai, Delhi / NCR, Bangalore/Bengaluru  \n",
       "2          1-6 Yrs  Kolkata, Mumbai, Hyderabad/Secunderabad, Pune,...  \n",
       "3          5-8 Yrs                                Bangalore/Bengaluru  \n",
       "4         7-12 Yrs              Gurgaon/Gurugram, Bangalore/Bengaluru  \n",
       "5          0-2 Yrs                                Bangalore/Bengaluru  \n",
       "6          0-2 Yrs                                Bangalore/Bengaluru  \n",
       "7          4-9 Yrs             Pune, Bangalore/Bengaluru, Delhi / NCR  \n",
       "8          2-5 Yrs                                Bangalore/Bengaluru  \n",
       "9         5-10 Yrs                                Bangalore/Bengaluru  "
      ]
     },
     "execution_count": 105,
     "metadata": {},
     "output_type": "execute_result"
    }
   ],
   "source": [
    "jobs=pd.DataFrame()\n",
    "jobs['Job Title']=job_titles\n",
    "jobs['Comapny Name']=company_names\n",
    "jobs['Work Experience ']=experience\n",
    "jobs['Company Location']=location\n",
    "jobs"
   ]
  },
  {
   "cell_type": "markdown",
   "id": "813ff20d",
   "metadata": {},
   "source": [
    "# Q2)python program to scrape data for “Data Scientist” Job position in “Bangalore” location. "
   ]
  },
  {
   "cell_type": "markdown",
   "id": "4864e0ad",
   "metadata": {},
   "source": [
    "We will Scrap data from https://www.naukri.com/ website for \"Data Scientist\" job role in Bangalore location.\n",
    "We scrap first 10 jobs data and 3 field for \"Data Scientist\" job as mention below:\n",
    "a)job-title\n",
    "b)job-location\n",
    "c)company_name"
   ]
  },
  {
   "cell_type": "code",
   "execution_count": 122,
   "id": "32f69023",
   "metadata": {},
   "outputs": [],
   "source": [
    "#First connect to web driver\n",
    "driver=webdriver.Chrome(r'C:\\Users\\Dell\\Downloads\\chromedriver_win32\\chromedriver.exe')"
   ]
  },
  {
   "cell_type": "code",
   "execution_count": 123,
   "id": "93d7549a",
   "metadata": {},
   "outputs": [],
   "source": [
    "url='https://www.naukri.com/'\n",
    "driver.get(url)"
   ]
  },
  {
   "cell_type": "code",
   "execution_count": 124,
   "id": "36024a87",
   "metadata": {},
   "outputs": [
    {
     "data": {
      "text/plain": [
       "<selenium.webdriver.remote.webelement.WebElement (session=\"faf62b745e5a6c0f96ee2d080aa3b335\", element=\"5670abc0-c593-4f50-bd12-0f1f7512679f\")>"
      ]
     },
     "execution_count": 124,
     "metadata": {},
     "output_type": "execute_result"
    }
   ],
   "source": [
    "#finding web element for search bar using id\n",
    "search_job=driver.find_element_by_id(\"qsb-keyword-sugg\")\n",
    "search_job"
   ]
  },
  {
   "cell_type": "code",
   "execution_count": 125,
   "id": "25380181",
   "metadata": {},
   "outputs": [],
   "source": [
    "#write on search bar\n",
    "search_job.send_keys(\"Data Scientist\")"
   ]
  },
  {
   "cell_type": "code",
   "execution_count": 126,
   "id": "3c557e64",
   "metadata": {},
   "outputs": [
    {
     "data": {
      "text/plain": [
       "<selenium.webdriver.remote.webelement.WebElement (session=\"faf62b745e5a6c0f96ee2d080aa3b335\", element=\"bd4ae309-e550-47d7-9c57-c5e630e6da8c\")>"
      ]
     },
     "execution_count": 126,
     "metadata": {},
     "output_type": "execute_result"
    }
   ],
   "source": [
    "#finding web element for search location bar using relative xpath\n",
    "search_location=driver.find_element_by_xpath(\"/html/body/div[1]/div[3]/div[2]/section/div/form/div[2]/div/div/div/div[1]/div[2]/input\")\n",
    "search_location"
   ]
  },
  {
   "cell_type": "code",
   "execution_count": 128,
   "id": "47e4ce1d",
   "metadata": {},
   "outputs": [],
   "source": [
    "#finding web element for job location bar\n",
    "search_location.send_keys(\"Bangalore\")"
   ]
  },
  {
   "cell_type": "code",
   "execution_count": 129,
   "id": "05dea6e0",
   "metadata": {},
   "outputs": [
    {
     "data": {
      "text/plain": [
       "<selenium.webdriver.remote.webelement.WebElement (session=\"faf62b745e5a6c0f96ee2d080aa3b335\", element=\"e9ce5789-ceb0-4116-b463-e0b83130e8ae\")>"
      ]
     },
     "execution_count": 129,
     "metadata": {},
     "output_type": "execute_result"
    }
   ],
   "source": [
    "#Clicking using relative xpath function\n",
    "search_button=driver.find_element_by_xpath(\"/html/body/div[1]/div[3]/div[2]/section/div/form/div[3]/button\")\n",
    "search_button"
   ]
  },
  {
   "cell_type": "code",
   "execution_count": 130,
   "id": "13e0f4ae",
   "metadata": {},
   "outputs": [],
   "source": [
    "search_button.click()"
   ]
  },
  {
   "cell_type": "markdown",
   "id": "b1723711",
   "metadata": {},
   "source": [
    "# Extracting Job Titles"
   ]
  },
  {
   "cell_type": "code",
   "execution_count": 131,
   "id": "614e2b3f",
   "metadata": {},
   "outputs": [
    {
     "data": {
      "text/plain": [
       "[<selenium.webdriver.remote.webelement.WebElement (session=\"faf62b745e5a6c0f96ee2d080aa3b335\", element=\"cd3f8a0c-2ebc-43ab-bfa5-1a27c8249321\")>,\n",
       " <selenium.webdriver.remote.webelement.WebElement (session=\"faf62b745e5a6c0f96ee2d080aa3b335\", element=\"b72b0565-2b58-48be-bd8b-d786c6b74420\")>,\n",
       " <selenium.webdriver.remote.webelement.WebElement (session=\"faf62b745e5a6c0f96ee2d080aa3b335\", element=\"34e38d56-71e2-4f10-b7a1-4bb45f8569e5\")>]"
      ]
     },
     "execution_count": 131,
     "metadata": {},
     "output_type": "execute_result"
    }
   ],
   "source": [
    "#extract all web element having job titles\n",
    "title_tags=driver.find_elements_by_xpath('//a[@class=\"title fw500 ellipsis\"]')\n",
    "len(title_tags)\n",
    "title_tags[0:3]"
   ]
  },
  {
   "cell_type": "code",
   "execution_count": 133,
   "id": "a3362a72",
   "metadata": {},
   "outputs": [
    {
     "data": {
      "text/plain": [
       "['Lead/Senior Data Scientist (NLP)',\n",
       " 'Commercial Analytics Data Scientist',\n",
       " 'Senior Data Scientist - Logistics',\n",
       " 'Lead Data Scientist - NLP/OpenCV',\n",
       " 'Lead Data Scientist',\n",
       " 'Lead Data Scientist - Prescriptive Analytics/Predictive Modeling',\n",
       " 'Lead - Data Analyst / Scientist',\n",
       " 'Hiring For Data Scientist @ Bangalore',\n",
       " 'Data Scientist - Logistics',\n",
       " 'Job opening with Wipro For Data Scientist']"
      ]
     },
     "execution_count": 133,
     "metadata": {},
     "output_type": "execute_result"
    }
   ],
   "source": [
    "#we will run for loop to iterate over the tags and will extract text\n",
    "job_titles=[]\n",
    "\n",
    "for i in title_tags[:10]:\n",
    "    job_titles.append(i.text)\n",
    "job_titles"
   ]
  },
  {
   "cell_type": "markdown",
   "id": "5ac26321",
   "metadata": {},
   "source": [
    "# Extracting Company Names"
   ]
  },
  {
   "cell_type": "code",
   "execution_count": 134,
   "id": "2de81815",
   "metadata": {},
   "outputs": [
    {
     "data": {
      "text/plain": [
       "[<selenium.webdriver.remote.webelement.WebElement (session=\"faf62b745e5a6c0f96ee2d080aa3b335\", element=\"bca38841-2c1d-4157-a182-c9f98f993dea\")>,\n",
       " <selenium.webdriver.remote.webelement.WebElement (session=\"faf62b745e5a6c0f96ee2d080aa3b335\", element=\"c7c63a94-1602-4cf0-9dd1-d90cfff2b6b7\")>,\n",
       " <selenium.webdriver.remote.webelement.WebElement (session=\"faf62b745e5a6c0f96ee2d080aa3b335\", element=\"fc6a5ffc-d73e-417d-9619-6f399a8be78f\")>]"
      ]
     },
     "execution_count": 134,
     "metadata": {},
     "output_type": "execute_result"
    }
   ],
   "source": [
    "#extract all web element having company names\n",
    "company_tags=driver.find_elements_by_xpath('//a[@class=\"subTitle ellipsis fleft\"]')\n",
    "len(company_tags)\n",
    "company_tags[0:3]"
   ]
  },
  {
   "cell_type": "code",
   "execution_count": 138,
   "id": "c3e737d0",
   "metadata": {},
   "outputs": [
    {
     "data": {
      "text/plain": [
       "['Samya.AI A FRACTAL Entity',\n",
       " 'Dell',\n",
       " 'GO-JEK India',\n",
       " 'Codersbrain',\n",
       " 'First American',\n",
       " 'Codersbrain',\n",
       " 'Axim Technologies',\n",
       " 'West Pharmaceutical Packaging India Pvt. Ltd.',\n",
       " 'Gojek Tech',\n",
       " 'Wipro']"
      ]
     },
     "execution_count": 138,
     "metadata": {},
     "output_type": "execute_result"
    }
   ],
   "source": [
    "#we will run for loop to iterate over the tags and will extract text\n",
    "company_names=[]\n",
    "\n",
    "for i in company_tags[:10]:\n",
    "    company_names.append(i.text)\n",
    "\n",
    "company_names"
   ]
  },
  {
   "cell_type": "markdown",
   "id": "18e49776",
   "metadata": {},
   "source": [
    "# Extracting Company Location"
   ]
  },
  {
   "cell_type": "code",
   "execution_count": 139,
   "id": "af923605",
   "metadata": {},
   "outputs": [
    {
     "data": {
      "text/plain": [
       "[<selenium.webdriver.remote.webelement.WebElement (session=\"f5345670c1f7d2624c9397e3c7a52fcc\", element=\"80e70e34-7158-499d-bd5d-fab97783b920\")>,\n",
       " <selenium.webdriver.remote.webelement.WebElement (session=\"f5345670c1f7d2624c9397e3c7a52fcc\", element=\"9068cb54-9773-421e-be85-791917077cde\")>,\n",
       " <selenium.webdriver.remote.webelement.WebElement (session=\"f5345670c1f7d2624c9397e3c7a52fcc\", element=\"99411a8a-8efb-4ba0-b9cd-41c50ed1dcb4\")>]"
      ]
     },
     "execution_count": 139,
     "metadata": {},
     "output_type": "execute_result"
    }
   ],
   "source": [
    "#extract all wb element having company location\n",
    "locs_tags=driver.find_elements_by_xpath('//li[@class=\"fleft grey-text br2 placeHolderLi location\"]')\n",
    "len(exp_tags)\n",
    "exp_tags[0:3]"
   ]
  },
  {
   "cell_type": "code",
   "execution_count": 142,
   "id": "f78992d3",
   "metadata": {},
   "outputs": [
    {
     "data": {
      "text/plain": [
       "['Bangalore/Bengaluru(WFH during Covid)',\n",
       " 'Bangalore/Bengaluru',\n",
       " 'Bangalore/Bengaluru',\n",
       " 'Hyderabad/Secunderabad, Bangalore/Bengaluru',\n",
       " 'Bangalore/Bengaluru',\n",
       " 'Hyderabad/Secunderabad, Bangalore/Bengaluru',\n",
       " 'Bangalore/Bengaluru',\n",
       " 'Bangalore/Bengaluru(WFH during Covid)',\n",
       " 'Bangalore/Bengaluru',\n",
       " 'Hyderabad/Secunderabad, Pune, Chennai, Bangalore/Bengaluru']"
      ]
     },
     "execution_count": 142,
     "metadata": {},
     "output_type": "execute_result"
    }
   ],
   "source": [
    "location=[]\n",
    "\n",
    "for i in locs_tags[:10]:\n",
    "    location.append(i.text.replace('\\n', ''))\n",
    "\n",
    "location"
   ]
  },
  {
   "cell_type": "code",
   "execution_count": 144,
   "id": "f2c92285",
   "metadata": {},
   "outputs": [
    {
     "data": {
      "text/plain": [
       "(10, 10, 10)"
      ]
     },
     "execution_count": 144,
     "metadata": {},
     "output_type": "execute_result"
    }
   ],
   "source": [
    "len(job_titles),len(company_names),len(location)"
   ]
  },
  {
   "cell_type": "markdown",
   "id": "5a43154c",
   "metadata": {},
   "source": [
    "# Making Dataframe"
   ]
  },
  {
   "cell_type": "code",
   "execution_count": 146,
   "id": "c659c75e",
   "metadata": {},
   "outputs": [
    {
     "data": {
      "text/html": [
       "<div>\n",
       "<style scoped>\n",
       "    .dataframe tbody tr th:only-of-type {\n",
       "        vertical-align: middle;\n",
       "    }\n",
       "\n",
       "    .dataframe tbody tr th {\n",
       "        vertical-align: top;\n",
       "    }\n",
       "\n",
       "    .dataframe thead th {\n",
       "        text-align: right;\n",
       "    }\n",
       "</style>\n",
       "<table border=\"1\" class=\"dataframe\">\n",
       "  <thead>\n",
       "    <tr style=\"text-align: right;\">\n",
       "      <th></th>\n",
       "      <th>Job Title</th>\n",
       "      <th>Comapny Name</th>\n",
       "      <th>Company Location</th>\n",
       "    </tr>\n",
       "  </thead>\n",
       "  <tbody>\n",
       "    <tr>\n",
       "      <th>0</th>\n",
       "      <td>Lead/Senior Data Scientist (NLP)</td>\n",
       "      <td>Samya.AI A FRACTAL Entity</td>\n",
       "      <td>Bangalore/Bengaluru(WFH during Covid)</td>\n",
       "    </tr>\n",
       "    <tr>\n",
       "      <th>1</th>\n",
       "      <td>Commercial Analytics Data Scientist</td>\n",
       "      <td>Dell</td>\n",
       "      <td>Bangalore/Bengaluru</td>\n",
       "    </tr>\n",
       "    <tr>\n",
       "      <th>2</th>\n",
       "      <td>Senior Data Scientist - Logistics</td>\n",
       "      <td>GO-JEK India</td>\n",
       "      <td>Bangalore/Bengaluru</td>\n",
       "    </tr>\n",
       "    <tr>\n",
       "      <th>3</th>\n",
       "      <td>Lead Data Scientist - NLP/OpenCV</td>\n",
       "      <td>Codersbrain</td>\n",
       "      <td>Hyderabad/Secunderabad, Bangalore/Bengaluru</td>\n",
       "    </tr>\n",
       "    <tr>\n",
       "      <th>4</th>\n",
       "      <td>Lead Data Scientist</td>\n",
       "      <td>First American</td>\n",
       "      <td>Bangalore/Bengaluru</td>\n",
       "    </tr>\n",
       "    <tr>\n",
       "      <th>5</th>\n",
       "      <td>Lead Data Scientist - Prescriptive Analytics/P...</td>\n",
       "      <td>Codersbrain</td>\n",
       "      <td>Hyderabad/Secunderabad, Bangalore/Bengaluru</td>\n",
       "    </tr>\n",
       "    <tr>\n",
       "      <th>6</th>\n",
       "      <td>Lead - Data Analyst / Scientist</td>\n",
       "      <td>Axim Technologies</td>\n",
       "      <td>Bangalore/Bengaluru</td>\n",
       "    </tr>\n",
       "    <tr>\n",
       "      <th>7</th>\n",
       "      <td>Hiring For Data Scientist @ Bangalore</td>\n",
       "      <td>West Pharmaceutical Packaging India Pvt. Ltd.</td>\n",
       "      <td>Bangalore/Bengaluru(WFH during Covid)</td>\n",
       "    </tr>\n",
       "    <tr>\n",
       "      <th>8</th>\n",
       "      <td>Data Scientist - Logistics</td>\n",
       "      <td>Gojek Tech</td>\n",
       "      <td>Bangalore/Bengaluru</td>\n",
       "    </tr>\n",
       "    <tr>\n",
       "      <th>9</th>\n",
       "      <td>Job opening with Wipro For Data Scientist</td>\n",
       "      <td>Wipro</td>\n",
       "      <td>Hyderabad/Secunderabad, Pune, Chennai, Bangalo...</td>\n",
       "    </tr>\n",
       "  </tbody>\n",
       "</table>\n",
       "</div>"
      ],
      "text/plain": [
       "                                           Job Title  \\\n",
       "0                   Lead/Senior Data Scientist (NLP)   \n",
       "1                Commercial Analytics Data Scientist   \n",
       "2                  Senior Data Scientist - Logistics   \n",
       "3                   Lead Data Scientist - NLP/OpenCV   \n",
       "4                                Lead Data Scientist   \n",
       "5  Lead Data Scientist - Prescriptive Analytics/P...   \n",
       "6                    Lead - Data Analyst / Scientist   \n",
       "7              Hiring For Data Scientist @ Bangalore   \n",
       "8                         Data Scientist - Logistics   \n",
       "9          Job opening with Wipro For Data Scientist   \n",
       "\n",
       "                                    Comapny Name  \\\n",
       "0                      Samya.AI A FRACTAL Entity   \n",
       "1                                           Dell   \n",
       "2                                   GO-JEK India   \n",
       "3                                    Codersbrain   \n",
       "4                                 First American   \n",
       "5                                    Codersbrain   \n",
       "6                              Axim Technologies   \n",
       "7  West Pharmaceutical Packaging India Pvt. Ltd.   \n",
       "8                                     Gojek Tech   \n",
       "9                                          Wipro   \n",
       "\n",
       "                                    Company Location  \n",
       "0              Bangalore/Bengaluru(WFH during Covid)  \n",
       "1                                Bangalore/Bengaluru  \n",
       "2                                Bangalore/Bengaluru  \n",
       "3        Hyderabad/Secunderabad, Bangalore/Bengaluru  \n",
       "4                                Bangalore/Bengaluru  \n",
       "5        Hyderabad/Secunderabad, Bangalore/Bengaluru  \n",
       "6                                Bangalore/Bengaluru  \n",
       "7              Bangalore/Bengaluru(WFH during Covid)  \n",
       "8                                Bangalore/Bengaluru  \n",
       "9  Hyderabad/Secunderabad, Pune, Chennai, Bangalo...  "
      ]
     },
     "execution_count": 146,
     "metadata": {},
     "output_type": "execute_result"
    }
   ],
   "source": [
    "jobs=pd.DataFrame()\n",
    "jobs['Job Title']=job_titles\n",
    "jobs['Comapny Name']=company_names\n",
    "jobs['Company Location']=location\n",
    "jobs"
   ]
  },
  {
   "cell_type": "markdown",
   "id": "b89c3753",
   "metadata": {},
   "source": [
    "# Q3)python program to scrape data using the filters available on the webpage as shown below:"
   ]
  },
  {
   "cell_type": "markdown",
   "id": "a2123527",
   "metadata": {},
   "source": [
    "You have to use the location and salary filter.\n",
    "You have to scrape data for “Data Scientist” designation for first 10 job results.\n",
    "You have to scrape the job-title, job-location, company name, experience required.\n",
    "The location filter to be used is “Delhi/NCR”. The salary filter to be used is “3-6” lakhs"
   ]
  },
  {
   "cell_type": "code",
   "execution_count": 185,
   "id": "fd6e2653",
   "metadata": {},
   "outputs": [],
   "source": [
    "#First connect to web driver\n",
    "driver=webdriver.Chrome(r'C:\\Users\\Dell\\Downloads\\chromedriver_win32\\chromedriver.exe')"
   ]
  },
  {
   "cell_type": "code",
   "execution_count": 186,
   "id": "a372b979",
   "metadata": {},
   "outputs": [],
   "source": [
    "url='https://www.naukri.com/'\n",
    "driver.get(url)"
   ]
  },
  {
   "cell_type": "code",
   "execution_count": 187,
   "id": "5766c731",
   "metadata": {},
   "outputs": [
    {
     "data": {
      "text/plain": [
       "<selenium.webdriver.remote.webelement.WebElement (session=\"de8837a78562639383dfe983a64db42a\", element=\"5582e29b-6f23-4f6e-9569-39bcb5001e54\")>"
      ]
     },
     "execution_count": 187,
     "metadata": {},
     "output_type": "execute_result"
    }
   ],
   "source": [
    "#finding web element or search bar using id\n",
    "search_job=driver.find_element_by_id(\"qsb-keyword-sugg\")\n",
    "search_job"
   ]
  },
  {
   "cell_type": "code",
   "execution_count": 188,
   "id": "9e2dacf3",
   "metadata": {},
   "outputs": [],
   "source": [
    "#write on search bar\n",
    "search_job.send_keys(\"Data Scientist\")"
   ]
  },
  {
   "cell_type": "code",
   "execution_count": 191,
   "id": "e284971d",
   "metadata": {},
   "outputs": [
    {
     "data": {
      "text/plain": [
       "<selenium.webdriver.remote.webelement.WebElement (session=\"de8837a78562639383dfe983a64db42a\", element=\"1af6d822-4ab7-4a62-ad31-f7dde725934e\")>"
      ]
     },
     "execution_count": 191,
     "metadata": {},
     "output_type": "execute_result"
    }
   ],
   "source": [
    "#finding web element for search location bar using relative xpath\n",
    "search_location=driver.find_element_by_xpath(\"/html/body/div[1]/div[3]/div[2]/section/div/form/div[2]/div/div/div/div[1]/div[2]/input\")\n",
    "search_location"
   ]
  },
  {
   "cell_type": "code",
   "execution_count": 192,
   "id": "5fc3e879",
   "metadata": {},
   "outputs": [],
   "source": [
    "#finding web element for job location bar\n",
    "search_location.send_keys(\"Delhi/NCR\")"
   ]
  },
  {
   "cell_type": "code",
   "execution_count": 193,
   "id": "5fd2a1bd",
   "metadata": {},
   "outputs": [
    {
     "data": {
      "text/plain": [
       "<selenium.webdriver.remote.webelement.WebElement (session=\"de8837a78562639383dfe983a64db42a\", element=\"9d90d57d-34f1-4c33-bbba-69a8b6152898\")>"
      ]
     },
     "execution_count": 193,
     "metadata": {},
     "output_type": "execute_result"
    }
   ],
   "source": [
    "#Clicking usin absolute xpath function\n",
    "search_button=driver.find_element_by_xpath(\"/html/body/div[1]/div[3]/div[2]/section/div/form/div[3]/button\")\n",
    "search_button"
   ]
  },
  {
   "cell_type": "code",
   "execution_count": 194,
   "id": "dbca0d88",
   "metadata": {},
   "outputs": [],
   "source": [
    "search_button.click()"
   ]
  },
  {
   "cell_type": "markdown",
   "id": "443e37fb",
   "metadata": {},
   "source": [
    "Clicking filters by selecting check boxes using absolute xpath "
   ]
  },
  {
   "cell_type": "code",
   "execution_count": 196,
   "id": "5b70c384",
   "metadata": {},
   "outputs": [
    {
     "data": {
      "text/plain": [
       "<selenium.webdriver.remote.webelement.WebElement (session=\"de8837a78562639383dfe983a64db42a\", element=\"42a45e7c-cf51-4a7e-afdc-89ece9518c7d\")>"
      ]
     },
     "execution_count": 196,
     "metadata": {},
     "output_type": "execute_result"
    }
   ],
   "source": [
    "location=driver.find_element_by_xpath('/html/body/div[1]/div[3]/div[2]/section[1]/div[2]/div[1]/div[2]/div[2]/label/p/span[1]')\n",
    "location"
   ]
  },
  {
   "cell_type": "code",
   "execution_count": 197,
   "id": "9b6e6f6f",
   "metadata": {},
   "outputs": [
    {
     "data": {
      "text/plain": [
       "<selenium.webdriver.remote.webelement.WebElement (session=\"de8837a78562639383dfe983a64db42a\", element=\"2f6f7609-f9b8-4488-88c9-0f1433d89903\")>"
      ]
     },
     "execution_count": 197,
     "metadata": {},
     "output_type": "execute_result"
    }
   ],
   "source": [
    "salary_check=driver.find_element_by_xpath('/html/body/div[1]/div[3]/div[2]/section[1]/div[2]/div[2]/div[2]/div[1]/label/p/span[1]')\n",
    "salary_check"
   ]
  },
  {
   "cell_type": "markdown",
   "id": "59e7d27e",
   "metadata": {},
   "source": [
    "Now first create 4 empty lists. In thee lists the data will be stored while scrapping"
   ]
  },
  {
   "cell_type": "markdown",
   "id": "4478be77",
   "metadata": {},
   "source": [
    "# Extracting Job Titles"
   ]
  },
  {
   "cell_type": "code",
   "execution_count": 199,
   "id": "4f876a3e",
   "metadata": {},
   "outputs": [
    {
     "data": {
      "text/plain": [
       "[<selenium.webdriver.remote.webelement.WebElement (session=\"de8837a78562639383dfe983a64db42a\", element=\"d832e77f-caa9-47d4-ac68-264f84cf53a7\")>,\n",
       " <selenium.webdriver.remote.webelement.WebElement (session=\"de8837a78562639383dfe983a64db42a\", element=\"a0738928-328f-4188-93cd-7c63e000a933\")>,\n",
       " <selenium.webdriver.remote.webelement.WebElement (session=\"de8837a78562639383dfe983a64db42a\", element=\"838e927e-aa6d-49d1-8e98-bc97678b8347\")>]"
      ]
     },
     "execution_count": 199,
     "metadata": {},
     "output_type": "execute_result"
    }
   ],
   "source": [
    "#extract all web element having job titles\n",
    "title_tags=driver.find_elements_by_xpath('//a[@class=\"title fw500 ellipsis\"]')\n",
    "len(title_tags)\n",
    "title_tags[0:3]"
   ]
  },
  {
   "cell_type": "code",
   "execution_count": 201,
   "id": "289f4985",
   "metadata": {},
   "outputs": [
    {
     "data": {
      "text/plain": [
       "['Data Scientist | Python | Machine Learning | Deep Learning- Fresher',\n",
       " 'Senior Data Scientist I',\n",
       " 'Openings For Jr/mid/Sr level data Scientists',\n",
       " 'Urgent Hiring For Data Scientist',\n",
       " 'Urgent Hiring For Data Scientist',\n",
       " 'Data Analyst/Scientist',\n",
       " 'Data Scientist role',\n",
       " 'Data Scientist role',\n",
       " 'Data Analyst/Scientist Big Data, Statistical Techniques',\n",
       " 'Data Scientist']"
      ]
     },
     "execution_count": 201,
     "metadata": {},
     "output_type": "execute_result"
    }
   ],
   "source": [
    "#we will run for loop to iterate over the tags and will extract text\n",
    "job_titles=[]\n",
    "\n",
    "for i in title_tags[:10]:\n",
    "    job_titles.append(i.text)\n",
    "len(job_titles)\n",
    "job_titles"
   ]
  },
  {
   "cell_type": "markdown",
   "id": "f5aeec3a",
   "metadata": {},
   "source": [
    "# Extracting Company Names"
   ]
  },
  {
   "cell_type": "code",
   "execution_count": 202,
   "id": "0d2c55d7",
   "metadata": {},
   "outputs": [
    {
     "data": {
      "text/plain": [
       "[<selenium.webdriver.remote.webelement.WebElement (session=\"de8837a78562639383dfe983a64db42a\", element=\"5ca5f3fe-a103-49a3-8eff-bf181827d9f9\")>,\n",
       " <selenium.webdriver.remote.webelement.WebElement (session=\"de8837a78562639383dfe983a64db42a\", element=\"62e56ede-ff22-45a5-961d-8ecf62c21781\")>,\n",
       " <selenium.webdriver.remote.webelement.WebElement (session=\"de8837a78562639383dfe983a64db42a\", element=\"8cc1bd44-503d-40db-8fc4-d60b5b704c68\")>]"
      ]
     },
     "execution_count": 202,
     "metadata": {},
     "output_type": "execute_result"
    }
   ],
   "source": [
    "#extract all web element having company names\n",
    "company_tags=driver.find_elements_by_xpath('//a[@class=\"subTitle ellipsis fleft\"]')\n",
    "len(company_tags)\n",
    "company_tags[0:3]"
   ]
  },
  {
   "cell_type": "code",
   "execution_count": 205,
   "id": "21e292e6",
   "metadata": {},
   "outputs": [
    {
     "data": {
      "text/plain": [
       "['Schlesinger Group',\n",
       " 'Delhivery',\n",
       " 'Pluto seven business solutions (p) limited',\n",
       " 'Mount Talent Consulting Private Limited',\n",
       " 'Mount Talent Consulting Private Limited',\n",
       " 'itForte Staffing Services Private Ltd.',\n",
       " 'Mount Talent Consulting Private Limited',\n",
       " 'Mount Talent Consulting Private Limited',\n",
       " 'The Search House (A Div of JSD Search House Pvt. L td.)',\n",
       " 'Teleperformance']"
      ]
     },
     "execution_count": 205,
     "metadata": {},
     "output_type": "execute_result"
    }
   ],
   "source": [
    "#we will run for loop to iterate over the tags and will extract text\n",
    "company_names=[]\n",
    "\n",
    "for i in company_tags[:10]:\n",
    "    company_names.append(i.text)\n",
    "len(company_names)\n",
    "company_names"
   ]
  },
  {
   "cell_type": "markdown",
   "id": "ed0ea745",
   "metadata": {},
   "source": [
    "# Extracting Job Experience"
   ]
  },
  {
   "cell_type": "code",
   "execution_count": 206,
   "id": "63545ce5",
   "metadata": {},
   "outputs": [
    {
     "data": {
      "text/plain": [
       "[<selenium.webdriver.remote.webelement.WebElement (session=\"de8837a78562639383dfe983a64db42a\", element=\"48c5bdca-53ea-426e-9489-48c12a4bed32\")>,\n",
       " <selenium.webdriver.remote.webelement.WebElement (session=\"de8837a78562639383dfe983a64db42a\", element=\"94c89560-0ffa-4764-a3f6-1f96642164f0\")>,\n",
       " <selenium.webdriver.remote.webelement.WebElement (session=\"de8837a78562639383dfe983a64db42a\", element=\"a67957aa-e5be-4930-b0fc-5955338d8d8c\")>]"
      ]
     },
     "execution_count": 206,
     "metadata": {},
     "output_type": "execute_result"
    }
   ],
   "source": [
    "#extract all web element having experience using parent tag\n",
    "exp_tags=driver.find_elements_by_xpath('//li[@class=\"fleft grey-text br2 placeHolderLi experience\"]')\n",
    "len(exp_tags)\n",
    "exp_tags[0:3]"
   ]
  },
  {
   "cell_type": "code",
   "execution_count": 207,
   "id": "1d298257",
   "metadata": {},
   "outputs": [
    {
     "data": {
      "text/plain": [
       "['0-3 Yrs',\n",
       " '3-7 Yrs',\n",
       " '2-6 Yrs',\n",
       " '1-6 Yrs',\n",
       " '1-6 Yrs',\n",
       " '3-7 Yrs',\n",
       " '1-3 Yrs',\n",
       " '1-3 Yrs',\n",
       " '2-7 Yrs',\n",
       " '4-9 Yrs']"
      ]
     },
     "execution_count": 207,
     "metadata": {},
     "output_type": "execute_result"
    }
   ],
   "source": [
    "#we will run for loop to iterate over the tags and will extract text\n",
    "experience=[]\n",
    "\n",
    "for i in exp_tags[:10]:\n",
    "    experience.append(i.text)\n",
    "len(experience)\n",
    "experience"
   ]
  },
  {
   "cell_type": "markdown",
   "id": "f9c2e958",
   "metadata": {},
   "source": [
    "# Extracting Company Location"
   ]
  },
  {
   "cell_type": "code",
   "execution_count": 208,
   "id": "2dfdc724",
   "metadata": {},
   "outputs": [
    {
     "data": {
      "text/plain": [
       "[<selenium.webdriver.remote.webelement.WebElement (session=\"de8837a78562639383dfe983a64db42a\", element=\"48c5bdca-53ea-426e-9489-48c12a4bed32\")>,\n",
       " <selenium.webdriver.remote.webelement.WebElement (session=\"de8837a78562639383dfe983a64db42a\", element=\"94c89560-0ffa-4764-a3f6-1f96642164f0\")>,\n",
       " <selenium.webdriver.remote.webelement.WebElement (session=\"de8837a78562639383dfe983a64db42a\", element=\"a67957aa-e5be-4930-b0fc-5955338d8d8c\")>]"
      ]
     },
     "execution_count": 208,
     "metadata": {},
     "output_type": "execute_result"
    }
   ],
   "source": [
    "#extract all web element having company location\n",
    "locs_tags=driver.find_elements_by_xpath('//li[@class=\"fleft grey-text br2 placeHolderLi location\"]')\n",
    "len(exp_tags)\n",
    "exp_tags[0:3]"
   ]
  },
  {
   "cell_type": "code",
   "execution_count": 209,
   "id": "be50fb5a",
   "metadata": {},
   "outputs": [
    {
     "data": {
      "text/plain": [
       "['Noida, Gurgaon/Gurugram, Delhi / NCR',\n",
       " 'Gurgaon/Gurugram',\n",
       " 'Kolkata, Hyderabad/Secunderabad, Pune, Ahmedabad, Chennai, Bangalore/Bengaluru, Delhi / NCR, Mumbai (All Areas)\\n(WFH during Covid)',\n",
       " 'Gurgaon/Gurugram, Bangalore/Bengaluru',\n",
       " 'Gurgaon/Gurugram, Bangalore/Bengaluru',\n",
       " 'Gurgaon',\n",
       " 'Noida, Hyderabad/Secunderabad, Pune, Gurgaon/Gurugram, Bangalore/Bengaluru, Delhi / NCR\\n(WFH during Covid)',\n",
       " 'Noida, Hyderabad/Secunderabad, Pune, Gurgaon/Gurugram, Bangalore/Bengaluru, Delhi / NCR\\n(WFH during Covid)',\n",
       " 'Gurgaon/Gurugram',\n",
       " 'Gurgaon/Gurugram, Chennai']"
      ]
     },
     "execution_count": 209,
     "metadata": {},
     "output_type": "execute_result"
    }
   ],
   "source": [
    "location=[]\n",
    "\n",
    "for i in locs_tags[:10]:\n",
    "    location.append(i.text)\n",
    "len(location)\n",
    "location"
   ]
  },
  {
   "cell_type": "code",
   "execution_count": 210,
   "id": "cbccd845",
   "metadata": {},
   "outputs": [
    {
     "data": {
      "text/plain": [
       "(10, 10, 10, 10)"
      ]
     },
     "execution_count": 210,
     "metadata": {},
     "output_type": "execute_result"
    }
   ],
   "source": [
    "len(job_titles),len(company_names),len(experience),len(location)"
   ]
  },
  {
   "cell_type": "markdown",
   "id": "564a7e54",
   "metadata": {},
   "source": [
    "# Making Dataframe"
   ]
  },
  {
   "cell_type": "code",
   "execution_count": 211,
   "id": "88263208",
   "metadata": {},
   "outputs": [
    {
     "data": {
      "text/html": [
       "<div>\n",
       "<style scoped>\n",
       "    .dataframe tbody tr th:only-of-type {\n",
       "        vertical-align: middle;\n",
       "    }\n",
       "\n",
       "    .dataframe tbody tr th {\n",
       "        vertical-align: top;\n",
       "    }\n",
       "\n",
       "    .dataframe thead th {\n",
       "        text-align: right;\n",
       "    }\n",
       "</style>\n",
       "<table border=\"1\" class=\"dataframe\">\n",
       "  <thead>\n",
       "    <tr style=\"text-align: right;\">\n",
       "      <th></th>\n",
       "      <th>Job Title</th>\n",
       "      <th>Comapny Name</th>\n",
       "      <th>Work Experience</th>\n",
       "      <th>Company Location</th>\n",
       "    </tr>\n",
       "  </thead>\n",
       "  <tbody>\n",
       "    <tr>\n",
       "      <th>0</th>\n",
       "      <td>Data Scientist | Python | Machine Learning | D...</td>\n",
       "      <td>Schlesinger Group</td>\n",
       "      <td>0-3 Yrs</td>\n",
       "      <td>Noida, Gurgaon/Gurugram, Delhi / NCR</td>\n",
       "    </tr>\n",
       "    <tr>\n",
       "      <th>1</th>\n",
       "      <td>Senior Data Scientist I</td>\n",
       "      <td>Delhivery</td>\n",
       "      <td>3-7 Yrs</td>\n",
       "      <td>Gurgaon/Gurugram</td>\n",
       "    </tr>\n",
       "    <tr>\n",
       "      <th>2</th>\n",
       "      <td>Openings For Jr/mid/Sr level data Scientists</td>\n",
       "      <td>Pluto seven business solutions (p) limited</td>\n",
       "      <td>2-6 Yrs</td>\n",
       "      <td>Kolkata, Hyderabad/Secunderabad, Pune, Ahmedab...</td>\n",
       "    </tr>\n",
       "    <tr>\n",
       "      <th>3</th>\n",
       "      <td>Urgent Hiring For Data Scientist</td>\n",
       "      <td>Mount Talent Consulting Private Limited</td>\n",
       "      <td>1-6 Yrs</td>\n",
       "      <td>Gurgaon/Gurugram, Bangalore/Bengaluru</td>\n",
       "    </tr>\n",
       "    <tr>\n",
       "      <th>4</th>\n",
       "      <td>Urgent Hiring For Data Scientist</td>\n",
       "      <td>Mount Talent Consulting Private Limited</td>\n",
       "      <td>1-6 Yrs</td>\n",
       "      <td>Gurgaon/Gurugram, Bangalore/Bengaluru</td>\n",
       "    </tr>\n",
       "    <tr>\n",
       "      <th>5</th>\n",
       "      <td>Data Analyst/Scientist</td>\n",
       "      <td>itForte Staffing Services Private Ltd.</td>\n",
       "      <td>3-7 Yrs</td>\n",
       "      <td>Gurgaon</td>\n",
       "    </tr>\n",
       "    <tr>\n",
       "      <th>6</th>\n",
       "      <td>Data Scientist role</td>\n",
       "      <td>Mount Talent Consulting Private Limited</td>\n",
       "      <td>1-3 Yrs</td>\n",
       "      <td>Noida, Hyderabad/Secunderabad, Pune, Gurgaon/G...</td>\n",
       "    </tr>\n",
       "    <tr>\n",
       "      <th>7</th>\n",
       "      <td>Data Scientist role</td>\n",
       "      <td>Mount Talent Consulting Private Limited</td>\n",
       "      <td>1-3 Yrs</td>\n",
       "      <td>Noida, Hyderabad/Secunderabad, Pune, Gurgaon/G...</td>\n",
       "    </tr>\n",
       "    <tr>\n",
       "      <th>8</th>\n",
       "      <td>Data Analyst/Scientist Big Data, Statistical T...</td>\n",
       "      <td>The Search House (A Div of JSD Search House Pv...</td>\n",
       "      <td>2-7 Yrs</td>\n",
       "      <td>Gurgaon/Gurugram</td>\n",
       "    </tr>\n",
       "    <tr>\n",
       "      <th>9</th>\n",
       "      <td>Data Scientist</td>\n",
       "      <td>Teleperformance</td>\n",
       "      <td>4-9 Yrs</td>\n",
       "      <td>Gurgaon/Gurugram, Chennai</td>\n",
       "    </tr>\n",
       "  </tbody>\n",
       "</table>\n",
       "</div>"
      ],
      "text/plain": [
       "                                           Job Title  \\\n",
       "0  Data Scientist | Python | Machine Learning | D...   \n",
       "1                            Senior Data Scientist I   \n",
       "2       Openings For Jr/mid/Sr level data Scientists   \n",
       "3                   Urgent Hiring For Data Scientist   \n",
       "4                   Urgent Hiring For Data Scientist   \n",
       "5                             Data Analyst/Scientist   \n",
       "6                                Data Scientist role   \n",
       "7                                Data Scientist role   \n",
       "8  Data Analyst/Scientist Big Data, Statistical T...   \n",
       "9                                     Data Scientist   \n",
       "\n",
       "                                        Comapny Name Work Experience   \\\n",
       "0                                  Schlesinger Group          0-3 Yrs   \n",
       "1                                          Delhivery          3-7 Yrs   \n",
       "2         Pluto seven business solutions (p) limited          2-6 Yrs   \n",
       "3            Mount Talent Consulting Private Limited          1-6 Yrs   \n",
       "4            Mount Talent Consulting Private Limited          1-6 Yrs   \n",
       "5             itForte Staffing Services Private Ltd.          3-7 Yrs   \n",
       "6            Mount Talent Consulting Private Limited          1-3 Yrs   \n",
       "7            Mount Talent Consulting Private Limited          1-3 Yrs   \n",
       "8  The Search House (A Div of JSD Search House Pv...          2-7 Yrs   \n",
       "9                                    Teleperformance          4-9 Yrs   \n",
       "\n",
       "                                    Company Location  \n",
       "0               Noida, Gurgaon/Gurugram, Delhi / NCR  \n",
       "1                                   Gurgaon/Gurugram  \n",
       "2  Kolkata, Hyderabad/Secunderabad, Pune, Ahmedab...  \n",
       "3              Gurgaon/Gurugram, Bangalore/Bengaluru  \n",
       "4              Gurgaon/Gurugram, Bangalore/Bengaluru  \n",
       "5                                            Gurgaon  \n",
       "6  Noida, Hyderabad/Secunderabad, Pune, Gurgaon/G...  \n",
       "7  Noida, Hyderabad/Secunderabad, Pune, Gurgaon/G...  \n",
       "8                                   Gurgaon/Gurugram  \n",
       "9                          Gurgaon/Gurugram, Chennai  "
      ]
     },
     "execution_count": 211,
     "metadata": {},
     "output_type": "execute_result"
    }
   ],
   "source": [
    "jobs=pd.DataFrame()\n",
    "jobs['Job Title']=job_titles\n",
    "jobs['Comapny Name']=company_names\n",
    "jobs['Work Experience ']=experience\n",
    "jobs['Company Location']=location\n",
    "jobs"
   ]
  },
  {
   "cell_type": "markdown",
   "id": "a79e93e0",
   "metadata": {},
   "source": [
    "# Q4)python program for scrape data of first 100 sunglasses listings on flipkart.com. "
   ]
  },
  {
   "cell_type": "markdown",
   "id": "ebac4457",
   "metadata": {},
   "source": [
    "You have to scrape below attributes:\n",
    "1. Brand\n",
    "2. Product Description\n",
    "3. Price"
   ]
  },
  {
   "cell_type": "code",
   "execution_count": 20,
   "id": "5b568a14",
   "metadata": {},
   "outputs": [],
   "source": [
    "#Firstconnect to web driver\n",
    "driver=webdriver.Chrome(r'C:\\Users\\Dell\\Downloads\\chromedriver_win32\\chromedriver.exe')"
   ]
  },
  {
   "cell_type": "code",
   "execution_count": 21,
   "id": "58c44acf",
   "metadata": {},
   "outputs": [],
   "source": [
    "url='http://www.flipkart.com/'\n",
    "\n",
    "driver.get(url)"
   ]
  },
  {
   "cell_type": "code",
   "execution_count": 15,
   "id": "e13d9dc4",
   "metadata": {},
   "outputs": [
    {
     "data": {
      "text/plain": [
       "<selenium.webdriver.remote.webelement.WebElement (session=\"e0006a846d0d66dd3b9c823e6b09258a\", element=\"42b5032b-c426-4ff4-896a-9ff92e327c62\")>"
      ]
     },
     "execution_count": 15,
     "metadata": {},
     "output_type": "execute_result"
    }
   ],
   "source": [
    "#finding web element for search bar using class name\n",
    "search_product=driver.find_element_by_class_name(\"_3704LK\")\n",
    "search_product"
   ]
  },
  {
   "cell_type": "code",
   "execution_count": 16,
   "id": "660138bb",
   "metadata": {},
   "outputs": [],
   "source": [
    "#write on search bar\n",
    "search_product.send_keys(\"sunglasses\")"
   ]
  },
  {
   "cell_type": "code",
   "execution_count": 18,
   "id": "0ed041f4",
   "metadata": {},
   "outputs": [
    {
     "data": {
      "text/plain": [
       "<selenium.webdriver.remote.webelement.WebElement (session=\"e0006a846d0d66dd3b9c823e6b09258a\", element=\"d1f8b376-1d92-4712-998c-1b1ad62c3621\")>"
      ]
     },
     "execution_count": 18,
     "metadata": {},
     "output_type": "execute_result"
    }
   ],
   "source": [
    "#Clicking using class name\n",
    "search_button=driver.find_element_by_class_name(\"_34RNph\")\n",
    "search_button"
   ]
  },
  {
   "cell_type": "code",
   "execution_count": 19,
   "id": "a03366ab",
   "metadata": {},
   "outputs": [],
   "source": [
    "search_button.click()"
   ]
  },
  {
   "cell_type": "markdown",
   "id": "969c0843",
   "metadata": {},
   "source": [
    "# Extracting brand name"
   ]
  },
  {
   "cell_type": "code",
   "execution_count": 36,
   "id": "4fab8f68",
   "metadata": {},
   "outputs": [
    {
     "data": {
      "text/plain": [
       "[<selenium.webdriver.remote.webelement.WebElement (session=\"5a0bde3e283f6ca05203a53c28888382\", element=\"d3bf39fb-1ce7-4208-b121-a594fdf9a537\")>,\n",
       " <selenium.webdriver.remote.webelement.WebElement (session=\"5a0bde3e283f6ca05203a53c28888382\", element=\"56abdf6f-9b45-4fb9-9a95-ab64e3b3efef\")>,\n",
       " <selenium.webdriver.remote.webelement.WebElement (session=\"5a0bde3e283f6ca05203a53c28888382\", element=\"c4ea5267-4653-4197-8bc2-3e5c3ddc36d5\")>]"
      ]
     },
     "execution_count": 36,
     "metadata": {},
     "output_type": "execute_result"
    }
   ],
   "source": [
    "#extract all web element having brand name\n",
    "brand_name=driver.find_elements_by_xpath('//div[@class=\"_2WkVRV\"]')\n",
    "len(brand_name)\n",
    "brand_name[0:3]"
   ]
  },
  {
   "cell_type": "code",
   "execution_count": 38,
   "id": "c5d32a4f",
   "metadata": {},
   "outputs": [
    {
     "data": {
      "text/plain": [
       "['VINCENT CHASE', 'AISLIN', 'SRPM']"
      ]
     },
     "execution_count": 38,
     "metadata": {},
     "output_type": "execute_result"
    }
   ],
   "source": [
    "#we will run for loop to iterate over the tags and will extract text\n",
    "brand_titles=[]\n",
    "\n",
    "for i in brand_name:\n",
    "    brand_titles.append(i.text)\n",
    "len(brand_titles)\n",
    "brand_titles[0:3]"
   ]
  },
  {
   "cell_type": "markdown",
   "id": "1ed862d9",
   "metadata": {},
   "source": [
    "# Extracting Product Description"
   ]
  },
  {
   "cell_type": "code",
   "execution_count": 39,
   "id": "06c8c2f5",
   "metadata": {},
   "outputs": [
    {
     "data": {
      "text/plain": [
       "[<selenium.webdriver.remote.webelement.WebElement (session=\"5a0bde3e283f6ca05203a53c28888382\", element=\"366e1b1e-b4a3-414f-b5dd-d081794bfd5e\")>,\n",
       " <selenium.webdriver.remote.webelement.WebElement (session=\"5a0bde3e283f6ca05203a53c28888382\", element=\"edb34bd1-65d7-4c75-85ea-a1821f4cb72a\")>,\n",
       " <selenium.webdriver.remote.webelement.WebElement (session=\"5a0bde3e283f6ca05203a53c28888382\", element=\"21af6c62-7db6-4e38-8654-ee38f0aa5807\")>]"
      ]
     },
     "execution_count": 39,
     "metadata": {},
     "output_type": "execute_result"
    }
   ],
   "source": [
    "#extract all web element having Product Description\n",
    "product_description=driver.find_elements_by_xpath('//a[@class=\"IRpwTa\"]')\n",
    "len(product_description)\n",
    "product_description[0:3]"
   ]
  },
  {
   "cell_type": "code",
   "execution_count": 40,
   "id": "daed61c8",
   "metadata": {},
   "outputs": [
    {
     "data": {
      "text/plain": [
       "['by Lenskart UV Protection Aviator Sunglasses (Free Size...',\n",
       " 'UV Protection, Gradient Butterfly, Wayfarer Sunglasses ...',\n",
       " 'UV Protection Wayfarer Sunglasses (56)']"
      ]
     },
     "execution_count": 40,
     "metadata": {},
     "output_type": "execute_result"
    }
   ],
   "source": [
    "#we will run for loop to iterate over the tags and will extract text\n",
    "product_descsriptions=[]\n",
    "\n",
    "for i in product_description:\n",
    "    product_descsriptions.append(i.text)\n",
    "len(product_descsriptions)\n",
    "product_descsriptions[0:3]"
   ]
  },
  {
   "cell_type": "markdown",
   "id": "8b25c8b9",
   "metadata": {},
   "source": [
    "# Extracting price"
   ]
  },
  {
   "cell_type": "code",
   "execution_count": 41,
   "id": "424208a7",
   "metadata": {},
   "outputs": [
    {
     "data": {
      "text/plain": [
       "[<selenium.webdriver.remote.webelement.WebElement (session=\"5a0bde3e283f6ca05203a53c28888382\", element=\"9a518e08-7614-4734-85df-2f201989264b\")>,\n",
       " <selenium.webdriver.remote.webelement.WebElement (session=\"5a0bde3e283f6ca05203a53c28888382\", element=\"8acdbd3a-be5f-45cb-84a0-9f3ef01baac1\")>,\n",
       " <selenium.webdriver.remote.webelement.WebElement (session=\"5a0bde3e283f6ca05203a53c28888382\", element=\"e3bec5b1-8c5d-416a-ae02-0e2c54cdcfc5\")>]"
      ]
     },
     "execution_count": 41,
     "metadata": {},
     "output_type": "execute_result"
    }
   ],
   "source": [
    "#extract all web element having price\n",
    "product_price=driver.find_elements_by_xpath('//div[@class=\"_30jeq3\"]')\n",
    "len(product_price)\n",
    "product_price[0:3]"
   ]
  },
  {
   "cell_type": "code",
   "execution_count": 48,
   "id": "0fecdad9",
   "metadata": {},
   "outputs": [
    {
     "data": {
      "text/plain": [
       "['₹999', '₹459', '₹188']"
      ]
     },
     "execution_count": 48,
     "metadata": {},
     "output_type": "execute_result"
    }
   ],
   "source": [
    "#we will run for loop to iterate over the tags and will extract text\n",
    "rate=[]\n",
    "\n",
    "for i in product_price:\n",
    "    rate.append(i.text)\n",
    "len(rate)\n",
    "rate[0:3]"
   ]
  },
  {
   "cell_type": "code",
   "execution_count": 43,
   "id": "ebb99d0a",
   "metadata": {},
   "outputs": [
    {
     "data": {
      "text/plain": [
       "(40, 40, 40)"
      ]
     },
     "execution_count": 43,
     "metadata": {},
     "output_type": "execute_result"
    }
   ],
   "source": [
    "len(brand_titles),len(product_descsriptions),len(rate)"
   ]
  },
  {
   "cell_type": "markdown",
   "id": "e7e7ea68",
   "metadata": {},
   "source": [
    "# Making Dataframe"
   ]
  },
  {
   "cell_type": "code",
   "execution_count": 49,
   "id": "ed2a4f03",
   "metadata": {},
   "outputs": [
    {
     "data": {
      "text/html": [
       "<div>\n",
       "<style scoped>\n",
       "    .dataframe tbody tr th:only-of-type {\n",
       "        vertical-align: middle;\n",
       "    }\n",
       "\n",
       "    .dataframe tbody tr th {\n",
       "        vertical-align: top;\n",
       "    }\n",
       "\n",
       "    .dataframe thead th {\n",
       "        text-align: right;\n",
       "    }\n",
       "</style>\n",
       "<table border=\"1\" class=\"dataframe\">\n",
       "  <thead>\n",
       "    <tr style=\"text-align: right;\">\n",
       "      <th></th>\n",
       "      <th>Brand Name</th>\n",
       "      <th>Product Description</th>\n",
       "      <th>Price</th>\n",
       "    </tr>\n",
       "  </thead>\n",
       "  <tbody>\n",
       "    <tr>\n",
       "      <th>0</th>\n",
       "      <td>VINCENT CHASE</td>\n",
       "      <td>by Lenskart UV Protection Aviator Sunglasses (...</td>\n",
       "      <td>₹999</td>\n",
       "    </tr>\n",
       "    <tr>\n",
       "      <th>1</th>\n",
       "      <td>AISLIN</td>\n",
       "      <td>UV Protection, Gradient Butterfly, Wayfarer Su...</td>\n",
       "      <td>₹459</td>\n",
       "    </tr>\n",
       "    <tr>\n",
       "      <th>2</th>\n",
       "      <td>SRPM</td>\n",
       "      <td>UV Protection Wayfarer Sunglasses (56)</td>\n",
       "      <td>₹188</td>\n",
       "    </tr>\n",
       "    <tr>\n",
       "      <th>3</th>\n",
       "      <td>Fastrack</td>\n",
       "      <td>UV Protection Wayfarer Sunglasses (Free Size)</td>\n",
       "      <td>₹759</td>\n",
       "    </tr>\n",
       "    <tr>\n",
       "      <th>4</th>\n",
       "      <td>kingsunglasses</td>\n",
       "      <td>UV Protection Round Sunglasses (54)</td>\n",
       "      <td>₹188</td>\n",
       "    </tr>\n",
       "    <tr>\n",
       "      <th>5</th>\n",
       "      <td>Elligator</td>\n",
       "      <td>UV Protection Round Sunglasses (54)</td>\n",
       "      <td>₹248</td>\n",
       "    </tr>\n",
       "    <tr>\n",
       "      <th>6</th>\n",
       "      <td>PIRASO</td>\n",
       "      <td>UV Protection Aviator Sunglasses (54)</td>\n",
       "      <td>₹200</td>\n",
       "    </tr>\n",
       "    <tr>\n",
       "      <th>7</th>\n",
       "      <td>AISLIN</td>\n",
       "      <td>UV Protection, Gradient Round Sunglasses (58)</td>\n",
       "      <td>₹498</td>\n",
       "    </tr>\n",
       "    <tr>\n",
       "      <th>8</th>\n",
       "      <td>SHAAH COLLECTIONS</td>\n",
       "      <td>UV Protection, Polarized, Mirrored Rectangular...</td>\n",
       "      <td>₹165</td>\n",
       "    </tr>\n",
       "    <tr>\n",
       "      <th>9</th>\n",
       "      <td>New Specs</td>\n",
       "      <td>UV Protection Rectangular Sunglasses (Free Size)</td>\n",
       "      <td>₹259</td>\n",
       "    </tr>\n",
       "    <tr>\n",
       "      <th>10</th>\n",
       "      <td>PIRASO</td>\n",
       "      <td>UV Protection Aviator Sunglasses (54)</td>\n",
       "      <td>₹200</td>\n",
       "    </tr>\n",
       "    <tr>\n",
       "      <th>11</th>\n",
       "      <td>VINCENT CHASE</td>\n",
       "      <td>by Lenskart Polarized, UV Protection Aviator S...</td>\n",
       "      <td>₹999</td>\n",
       "    </tr>\n",
       "    <tr>\n",
       "      <th>12</th>\n",
       "      <td>New Specs</td>\n",
       "      <td>Mirrored, UV Protection, Riding Glasses, Other...</td>\n",
       "      <td>₹262</td>\n",
       "    </tr>\n",
       "    <tr>\n",
       "      <th>13</th>\n",
       "      <td>ROZZETTA CRAFT</td>\n",
       "      <td>UV Protection Retro Square Sunglasses (Free Size)</td>\n",
       "      <td>₹474</td>\n",
       "    </tr>\n",
       "    <tr>\n",
       "      <th>14</th>\n",
       "      <td>SUNBEE</td>\n",
       "      <td>UV Protection, Polarized, Mirrored Round Sungl...</td>\n",
       "      <td>₹271</td>\n",
       "    </tr>\n",
       "    <tr>\n",
       "      <th>15</th>\n",
       "      <td>ROZZETTA CRAFT</td>\n",
       "      <td>UV Protection, Gradient Round Sunglasses (Free...</td>\n",
       "      <td>₹426</td>\n",
       "    </tr>\n",
       "    <tr>\n",
       "      <th>16</th>\n",
       "      <td>ROZZETTA CRAFT</td>\n",
       "      <td>UV Protection, Gradient Rectangular Sunglasses...</td>\n",
       "      <td>₹383</td>\n",
       "    </tr>\n",
       "    <tr>\n",
       "      <th>17</th>\n",
       "      <td>kingsunglasses</td>\n",
       "      <td>Mirrored, UV Protection Wayfarer Sunglasses (53)</td>\n",
       "      <td>₹274</td>\n",
       "    </tr>\n",
       "    <tr>\n",
       "      <th>18</th>\n",
       "      <td>SHAAH COLLECTIONS</td>\n",
       "      <td>UV Protection, Polarized, Mirrored Rectangular...</td>\n",
       "      <td>₹181</td>\n",
       "    </tr>\n",
       "    <tr>\n",
       "      <th>19</th>\n",
       "      <td>ROZZETTA CRAFT</td>\n",
       "      <td>Gradient Round Sunglasses (Free Size)</td>\n",
       "      <td>₹426</td>\n",
       "    </tr>\n",
       "    <tr>\n",
       "      <th>20</th>\n",
       "      <td>PHENOMENAL</td>\n",
       "      <td>UV Protection Retro Square Sunglasses (Free Size)</td>\n",
       "      <td>₹309</td>\n",
       "    </tr>\n",
       "    <tr>\n",
       "      <th>21</th>\n",
       "      <td>PIRASO</td>\n",
       "      <td>UV Protection Wayfarer Sunglasses (32)</td>\n",
       "      <td>₹190</td>\n",
       "    </tr>\n",
       "    <tr>\n",
       "      <th>22</th>\n",
       "      <td>ROYAL SON</td>\n",
       "      <td>Mirrored Aviator Sunglasses (55)</td>\n",
       "      <td>₹359</td>\n",
       "    </tr>\n",
       "    <tr>\n",
       "      <th>23</th>\n",
       "      <td>NuVew</td>\n",
       "      <td>UV Protection Aviator Sunglasses (57)</td>\n",
       "      <td>₹325</td>\n",
       "    </tr>\n",
       "    <tr>\n",
       "      <th>24</th>\n",
       "      <td>ROZZETTA CRAFT</td>\n",
       "      <td>UV Protection, Gradient Rectangular Sunglasses...</td>\n",
       "      <td>₹348</td>\n",
       "    </tr>\n",
       "    <tr>\n",
       "      <th>25</th>\n",
       "      <td>kingsunglasses</td>\n",
       "      <td>UV Protection, Riding Glasses, Mirrored Wayfar...</td>\n",
       "      <td>₹187</td>\n",
       "    </tr>\n",
       "    <tr>\n",
       "      <th>26</th>\n",
       "      <td>Johaena</td>\n",
       "      <td>Riding Glasses, UV Protection Oval Sunglasses ...</td>\n",
       "      <td>₹156</td>\n",
       "    </tr>\n",
       "    <tr>\n",
       "      <th>27</th>\n",
       "      <td>NuVew</td>\n",
       "      <td>UV Protection, Mirrored Aviator Sunglasses (58)</td>\n",
       "      <td>₹235</td>\n",
       "    </tr>\n",
       "    <tr>\n",
       "      <th>28</th>\n",
       "      <td>Rich Club</td>\n",
       "      <td>UV Protection Round Sunglasses (50)</td>\n",
       "      <td>₹355</td>\n",
       "    </tr>\n",
       "    <tr>\n",
       "      <th>29</th>\n",
       "      <td>PHENOMENAL</td>\n",
       "      <td>UV Protection, Mirrored Retro Square Sunglasse...</td>\n",
       "      <td>₹299</td>\n",
       "    </tr>\n",
       "    <tr>\n",
       "      <th>30</th>\n",
       "      <td>Lee Topper</td>\n",
       "      <td>Riding Glasses, Night Vision Wrap-around Sungl...</td>\n",
       "      <td>₹276</td>\n",
       "    </tr>\n",
       "    <tr>\n",
       "      <th>31</th>\n",
       "      <td>AISLIN</td>\n",
       "      <td>UV Protection Wayfarer, Rectangular Sunglasses...</td>\n",
       "      <td>₹1,040</td>\n",
       "    </tr>\n",
       "    <tr>\n",
       "      <th>32</th>\n",
       "      <td>Elligator</td>\n",
       "      <td>UV Protection Round Sunglasses (53)</td>\n",
       "      <td>₹179</td>\n",
       "    </tr>\n",
       "    <tr>\n",
       "      <th>33</th>\n",
       "      <td>PIRASO</td>\n",
       "      <td>UV Protection Aviator Sunglasses (58)</td>\n",
       "      <td>₹299</td>\n",
       "    </tr>\n",
       "    <tr>\n",
       "      <th>34</th>\n",
       "      <td>ROYAL SON</td>\n",
       "      <td>UV Protection Rectangular Sunglasses (58)</td>\n",
       "      <td>₹449</td>\n",
       "    </tr>\n",
       "    <tr>\n",
       "      <th>35</th>\n",
       "      <td>AISLIN</td>\n",
       "      <td>UV Protection, Gradient Cat-eye Sunglasses (58)</td>\n",
       "      <td>₹459</td>\n",
       "    </tr>\n",
       "    <tr>\n",
       "      <th>36</th>\n",
       "      <td>ROZZETTA CRAFT</td>\n",
       "      <td>UV Protection, Gradient Round Sunglasses (Free...</td>\n",
       "      <td>₹360</td>\n",
       "    </tr>\n",
       "    <tr>\n",
       "      <th>37</th>\n",
       "      <td>ROZZETTA CRAFT</td>\n",
       "      <td>UV Protection, Gradient Retro Square Sunglasse...</td>\n",
       "      <td>₹349</td>\n",
       "    </tr>\n",
       "    <tr>\n",
       "      <th>38</th>\n",
       "      <td>Fastrack</td>\n",
       "      <td>UV Protection Shield Sunglasses (Free Size)</td>\n",
       "      <td>₹789</td>\n",
       "    </tr>\n",
       "    <tr>\n",
       "      <th>39</th>\n",
       "      <td>AISLIN</td>\n",
       "      <td>UV Protection Wayfarer Sunglasses (61)</td>\n",
       "      <td>₹698</td>\n",
       "    </tr>\n",
       "  </tbody>\n",
       "</table>\n",
       "</div>"
      ],
      "text/plain": [
       "           Brand Name                                Product Description  \\\n",
       "0       VINCENT CHASE  by Lenskart UV Protection Aviator Sunglasses (...   \n",
       "1              AISLIN  UV Protection, Gradient Butterfly, Wayfarer Su...   \n",
       "2                SRPM             UV Protection Wayfarer Sunglasses (56)   \n",
       "3            Fastrack      UV Protection Wayfarer Sunglasses (Free Size)   \n",
       "4      kingsunglasses                UV Protection Round Sunglasses (54)   \n",
       "5           Elligator                UV Protection Round Sunglasses (54)   \n",
       "6              PIRASO              UV Protection Aviator Sunglasses (54)   \n",
       "7              AISLIN      UV Protection, Gradient Round Sunglasses (58)   \n",
       "8   SHAAH COLLECTIONS  UV Protection, Polarized, Mirrored Rectangular...   \n",
       "9           New Specs   UV Protection Rectangular Sunglasses (Free Size)   \n",
       "10             PIRASO              UV Protection Aviator Sunglasses (54)   \n",
       "11      VINCENT CHASE  by Lenskart Polarized, UV Protection Aviator S...   \n",
       "12          New Specs  Mirrored, UV Protection, Riding Glasses, Other...   \n",
       "13     ROZZETTA CRAFT  UV Protection Retro Square Sunglasses (Free Size)   \n",
       "14             SUNBEE  UV Protection, Polarized, Mirrored Round Sungl...   \n",
       "15     ROZZETTA CRAFT  UV Protection, Gradient Round Sunglasses (Free...   \n",
       "16     ROZZETTA CRAFT  UV Protection, Gradient Rectangular Sunglasses...   \n",
       "17     kingsunglasses   Mirrored, UV Protection Wayfarer Sunglasses (53)   \n",
       "18  SHAAH COLLECTIONS  UV Protection, Polarized, Mirrored Rectangular...   \n",
       "19     ROZZETTA CRAFT              Gradient Round Sunglasses (Free Size)   \n",
       "20         PHENOMENAL  UV Protection Retro Square Sunglasses (Free Size)   \n",
       "21             PIRASO             UV Protection Wayfarer Sunglasses (32)   \n",
       "22          ROYAL SON                   Mirrored Aviator Sunglasses (55)   \n",
       "23              NuVew              UV Protection Aviator Sunglasses (57)   \n",
       "24     ROZZETTA CRAFT  UV Protection, Gradient Rectangular Sunglasses...   \n",
       "25     kingsunglasses  UV Protection, Riding Glasses, Mirrored Wayfar...   \n",
       "26            Johaena  Riding Glasses, UV Protection Oval Sunglasses ...   \n",
       "27              NuVew    UV Protection, Mirrored Aviator Sunglasses (58)   \n",
       "28          Rich Club                UV Protection Round Sunglasses (50)   \n",
       "29         PHENOMENAL  UV Protection, Mirrored Retro Square Sunglasse...   \n",
       "30         Lee Topper  Riding Glasses, Night Vision Wrap-around Sungl...   \n",
       "31             AISLIN  UV Protection Wayfarer, Rectangular Sunglasses...   \n",
       "32          Elligator                UV Protection Round Sunglasses (53)   \n",
       "33             PIRASO              UV Protection Aviator Sunglasses (58)   \n",
       "34          ROYAL SON          UV Protection Rectangular Sunglasses (58)   \n",
       "35             AISLIN    UV Protection, Gradient Cat-eye Sunglasses (58)   \n",
       "36     ROZZETTA CRAFT  UV Protection, Gradient Round Sunglasses (Free...   \n",
       "37     ROZZETTA CRAFT  UV Protection, Gradient Retro Square Sunglasse...   \n",
       "38           Fastrack        UV Protection Shield Sunglasses (Free Size)   \n",
       "39             AISLIN             UV Protection Wayfarer Sunglasses (61)   \n",
       "\n",
       "     Price  \n",
       "0     ₹999  \n",
       "1     ₹459  \n",
       "2     ₹188  \n",
       "3     ₹759  \n",
       "4     ₹188  \n",
       "5     ₹248  \n",
       "6     ₹200  \n",
       "7     ₹498  \n",
       "8     ₹165  \n",
       "9     ₹259  \n",
       "10    ₹200  \n",
       "11    ₹999  \n",
       "12    ₹262  \n",
       "13    ₹474  \n",
       "14    ₹271  \n",
       "15    ₹426  \n",
       "16    ₹383  \n",
       "17    ₹274  \n",
       "18    ₹181  \n",
       "19    ₹426  \n",
       "20    ₹309  \n",
       "21    ₹190  \n",
       "22    ₹359  \n",
       "23    ₹325  \n",
       "24    ₹348  \n",
       "25    ₹187  \n",
       "26    ₹156  \n",
       "27    ₹235  \n",
       "28    ₹355  \n",
       "29    ₹299  \n",
       "30    ₹276  \n",
       "31  ₹1,040  \n",
       "32    ₹179  \n",
       "33    ₹299  \n",
       "34    ₹449  \n",
       "35    ₹459  \n",
       "36    ₹360  \n",
       "37    ₹349  \n",
       "38    ₹789  \n",
       "39    ₹698  "
      ]
     },
     "execution_count": 49,
     "metadata": {},
     "output_type": "execute_result"
    }
   ],
   "source": [
    "product=pd.DataFrame()\n",
    "product['Brand Name']=brand_titles\n",
    "product['Product Description']=product_descsriptions\n",
    "product['Price']=rate\n",
    "\n",
    "product\n"
   ]
  },
  {
   "cell_type": "markdown",
   "id": "69092c5f",
   "metadata": {},
   "source": [
    "# Extracting next page brand name"
   ]
  },
  {
   "cell_type": "code",
   "execution_count": 50,
   "id": "7e874914",
   "metadata": {},
   "outputs": [
    {
     "data": {
      "text/plain": [
       "[<selenium.webdriver.remote.webelement.WebElement (session=\"5a0bde3e283f6ca05203a53c28888382\", element=\"7b734938-6365-40f3-840d-3a046afa04c4\")>,\n",
       " <selenium.webdriver.remote.webelement.WebElement (session=\"5a0bde3e283f6ca05203a53c28888382\", element=\"d5552061-6158-4056-9045-81ca62c31242\")>,\n",
       " <selenium.webdriver.remote.webelement.WebElement (session=\"5a0bde3e283f6ca05203a53c28888382\", element=\"614d312e-b484-46ae-b675-bd1d71102f25\")>]"
      ]
     },
     "execution_count": 50,
     "metadata": {},
     "output_type": "execute_result"
    }
   ],
   "source": [
    "#extract all web element having brand name\n",
    "brand_name=driver.find_elements_by_xpath('//div[@class=\"_2WkVRV\"]')\n",
    "len(brand_name)\n",
    "brand_name[0:3]"
   ]
  },
  {
   "cell_type": "code",
   "execution_count": 51,
   "id": "23af3616",
   "metadata": {},
   "outputs": [
    {
     "data": {
      "text/plain": [
       "['SUNBEE', 'Fastrack', 'kingsunglasses']"
      ]
     },
     "execution_count": 51,
     "metadata": {},
     "output_type": "execute_result"
    }
   ],
   "source": [
    "#we will run for loop to iterate over the tags and will extract text\n",
    "brand_titles=[]\n",
    "\n",
    "for i in brand_name:\n",
    "    brand_titles.append(i.text)\n",
    "len(brand_titles)\n",
    "brand_titles[0:3]"
   ]
  },
  {
   "cell_type": "markdown",
   "id": "35cb49bd",
   "metadata": {},
   "source": [
    "# Extracting next page Product Description"
   ]
  },
  {
   "cell_type": "code",
   "execution_count": 52,
   "id": "ce55786b",
   "metadata": {},
   "outputs": [
    {
     "data": {
      "text/plain": [
       "[<selenium.webdriver.remote.webelement.WebElement (session=\"5a0bde3e283f6ca05203a53c28888382\", element=\"15739ca7-2050-4895-9681-fdfa7cc32a03\")>,\n",
       " <selenium.webdriver.remote.webelement.WebElement (session=\"5a0bde3e283f6ca05203a53c28888382\", element=\"7516b64b-0e30-4eda-a852-7bc9f016c554\")>,\n",
       " <selenium.webdriver.remote.webelement.WebElement (session=\"5a0bde3e283f6ca05203a53c28888382\", element=\"4a04269b-df5c-494b-a406-704ca4b3e0ec\")>]"
      ]
     },
     "execution_count": 52,
     "metadata": {},
     "output_type": "execute_result"
    }
   ],
   "source": [
    "#extract all web element having Product Description\n",
    "product_description=driver.find_elements_by_xpath('//a[@class=\"IRpwTa\"]')\n",
    "len(product_description)\n",
    "product_description[0:3]"
   ]
  },
  {
   "cell_type": "code",
   "execution_count": 53,
   "id": "68c2e83f",
   "metadata": {},
   "outputs": [
    {
     "data": {
      "text/plain": [
       "['UV Protection, Polarized Wayfarer Sunglasses (Free Size...',\n",
       " 'UV Protection Aviator Sunglasses (58)',\n",
       " 'UV Protection, Night Vision Wayfarer Sunglasses (Free S...']"
      ]
     },
     "execution_count": 53,
     "metadata": {},
     "output_type": "execute_result"
    }
   ],
   "source": [
    "#we will run for loop to iterate over the tags and will extract text\n",
    "product_descsriptions=[]\n",
    "\n",
    "for i in product_description:\n",
    "    product_descsriptions.append(i.text)\n",
    "len(product_descsriptions)\n",
    "product_descsriptions[0:3]"
   ]
  },
  {
   "cell_type": "markdown",
   "id": "e3d70515",
   "metadata": {},
   "source": [
    "# Extracting next page brand price"
   ]
  },
  {
   "cell_type": "code",
   "execution_count": 56,
   "id": "c0e27c3d",
   "metadata": {},
   "outputs": [
    {
     "data": {
      "text/plain": [
       "[<selenium.webdriver.remote.webelement.WebElement (session=\"5a0bde3e283f6ca05203a53c28888382\", element=\"d9f3a729-c97c-4de2-af44-8f681dd4a229\")>,\n",
       " <selenium.webdriver.remote.webelement.WebElement (session=\"5a0bde3e283f6ca05203a53c28888382\", element=\"72f69452-64a1-4f46-9829-645afe9d1d0b\")>,\n",
       " <selenium.webdriver.remote.webelement.WebElement (session=\"5a0bde3e283f6ca05203a53c28888382\", element=\"d2d3c1cc-c9ed-4804-9b5d-087aca482c20\")>]"
      ]
     },
     "execution_count": 56,
     "metadata": {},
     "output_type": "execute_result"
    }
   ],
   "source": [
    "#extract all web element having price\n",
    "product_price=driver.find_elements_by_xpath('//div[@class=\"_30jeq3\"]')\n",
    "len(product_price)\n",
    "product_price[0:3]"
   ]
  },
  {
   "cell_type": "code",
   "execution_count": 57,
   "id": "d8de4903",
   "metadata": {},
   "outputs": [
    {
     "data": {
      "text/plain": [
       "['₹243', '₹1,089', '₹273']"
      ]
     },
     "execution_count": 57,
     "metadata": {},
     "output_type": "execute_result"
    }
   ],
   "source": [
    "#we will run for loop to iterate over the tags and will extract text\n",
    "rate=[]\n",
    "\n",
    "for i in product_price:\n",
    "    rate.append(i.text)\n",
    "len(rate)\n",
    "rate[0:3]"
   ]
  },
  {
   "cell_type": "code",
   "execution_count": 58,
   "id": "b23f4fdf",
   "metadata": {},
   "outputs": [
    {
     "data": {
      "text/plain": [
       "(40, 40, 40)"
      ]
     },
     "execution_count": 58,
     "metadata": {},
     "output_type": "execute_result"
    }
   ],
   "source": [
    "len(brand_titles),len(product_descsriptions),len(rate)"
   ]
  },
  {
   "cell_type": "markdown",
   "id": "391f76c8",
   "metadata": {},
   "source": [
    "# Making Dataframe"
   ]
  },
  {
   "cell_type": "code",
   "execution_count": 59,
   "id": "a640dd79",
   "metadata": {},
   "outputs": [
    {
     "data": {
      "text/html": [
       "<div>\n",
       "<style scoped>\n",
       "    .dataframe tbody tr th:only-of-type {\n",
       "        vertical-align: middle;\n",
       "    }\n",
       "\n",
       "    .dataframe tbody tr th {\n",
       "        vertical-align: top;\n",
       "    }\n",
       "\n",
       "    .dataframe thead th {\n",
       "        text-align: right;\n",
       "    }\n",
       "</style>\n",
       "<table border=\"1\" class=\"dataframe\">\n",
       "  <thead>\n",
       "    <tr style=\"text-align: right;\">\n",
       "      <th></th>\n",
       "      <th>Brand Name</th>\n",
       "      <th>Product Description</th>\n",
       "      <th>Price</th>\n",
       "    </tr>\n",
       "  </thead>\n",
       "  <tbody>\n",
       "    <tr>\n",
       "      <th>0</th>\n",
       "      <td>SUNBEE</td>\n",
       "      <td>UV Protection, Polarized Wayfarer Sunglasses (...</td>\n",
       "      <td>₹243</td>\n",
       "    </tr>\n",
       "    <tr>\n",
       "      <th>1</th>\n",
       "      <td>Fastrack</td>\n",
       "      <td>UV Protection Aviator Sunglasses (58)</td>\n",
       "      <td>₹1,089</td>\n",
       "    </tr>\n",
       "    <tr>\n",
       "      <th>2</th>\n",
       "      <td>kingsunglasses</td>\n",
       "      <td>UV Protection, Night Vision Wayfarer Sunglasse...</td>\n",
       "      <td>₹273</td>\n",
       "    </tr>\n",
       "    <tr>\n",
       "      <th>3</th>\n",
       "      <td>VINCENT CHASE</td>\n",
       "      <td>by Lenskart UV Protection Aviator Sunglasses (53)</td>\n",
       "      <td>₹999</td>\n",
       "    </tr>\n",
       "    <tr>\n",
       "      <th>4</th>\n",
       "      <td>agera</td>\n",
       "      <td>Gradient Aviator Sunglasses (55)</td>\n",
       "      <td>₹196</td>\n",
       "    </tr>\n",
       "    <tr>\n",
       "      <th>5</th>\n",
       "      <td>Rich Club</td>\n",
       "      <td>Polarized Round Sunglasses (48)</td>\n",
       "      <td>₹165</td>\n",
       "    </tr>\n",
       "    <tr>\n",
       "      <th>6</th>\n",
       "      <td>Singco India</td>\n",
       "      <td>Riding Glasses, UV Protection, Others Aviator ...</td>\n",
       "      <td>₹201</td>\n",
       "    </tr>\n",
       "    <tr>\n",
       "      <th>7</th>\n",
       "      <td>AISLIN</td>\n",
       "      <td>UV Protection, Gradient Butterfly, Wayfarer Su...</td>\n",
       "      <td>₹459</td>\n",
       "    </tr>\n",
       "    <tr>\n",
       "      <th>8</th>\n",
       "      <td>PHENOMENAL</td>\n",
       "      <td>UV Protection, Mirrored Retro Square Sunglasse...</td>\n",
       "      <td>₹299</td>\n",
       "    </tr>\n",
       "    <tr>\n",
       "      <th>9</th>\n",
       "      <td>PIRASO</td>\n",
       "      <td>UV Protection Butterfly Sunglasses (65)</td>\n",
       "      <td>₹349</td>\n",
       "    </tr>\n",
       "    <tr>\n",
       "      <th>10</th>\n",
       "      <td>DEIXELS</td>\n",
       "      <td>UV Protection Aviator, Wayfarer Sunglasses (Fr...</td>\n",
       "      <td>₹202</td>\n",
       "    </tr>\n",
       "    <tr>\n",
       "      <th>11</th>\n",
       "      <td>AISLIN</td>\n",
       "      <td>UV Protection, Gradient Round Sunglasses (58)</td>\n",
       "      <td>₹498</td>\n",
       "    </tr>\n",
       "    <tr>\n",
       "      <th>12</th>\n",
       "      <td>ROYAL SON</td>\n",
       "      <td>Mirrored Aviator Sunglasses (55)</td>\n",
       "      <td>₹359</td>\n",
       "    </tr>\n",
       "    <tr>\n",
       "      <th>13</th>\n",
       "      <td>kingsunglasses</td>\n",
       "      <td>UV Protection Round Sunglasses (Free Size)</td>\n",
       "      <td>₹289</td>\n",
       "    </tr>\n",
       "    <tr>\n",
       "      <th>14</th>\n",
       "      <td>PIRASO</td>\n",
       "      <td>UV Protection Aviator Sunglasses (54)</td>\n",
       "      <td>₹200</td>\n",
       "    </tr>\n",
       "    <tr>\n",
       "      <th>15</th>\n",
       "      <td>VINCENT CHASE</td>\n",
       "      <td>by Lenskart UV Protection Aviator Sunglasses (...</td>\n",
       "      <td>₹999</td>\n",
       "    </tr>\n",
       "    <tr>\n",
       "      <th>16</th>\n",
       "      <td>Fastrack</td>\n",
       "      <td>UV Protection Aviator Sunglasses (Free Size)</td>\n",
       "      <td>₹639</td>\n",
       "    </tr>\n",
       "    <tr>\n",
       "      <th>17</th>\n",
       "      <td>hipe</td>\n",
       "      <td>Mirrored, Gradient, UV Protection Aviator Sung...</td>\n",
       "      <td>₹178</td>\n",
       "    </tr>\n",
       "    <tr>\n",
       "      <th>18</th>\n",
       "      <td>kingsunglasses</td>\n",
       "      <td>UV Protection Rectangular Sunglasses (Free Size)</td>\n",
       "      <td>₹192</td>\n",
       "    </tr>\n",
       "    <tr>\n",
       "      <th>19</th>\n",
       "      <td>ROZZETTA CRAFT</td>\n",
       "      <td>UV Protection, Gradient Round Sunglasses (Free...</td>\n",
       "      <td>₹426</td>\n",
       "    </tr>\n",
       "    <tr>\n",
       "      <th>20</th>\n",
       "      <td>hipe</td>\n",
       "      <td>UV Protection, Gradient, Mirrored, Riding Glas...</td>\n",
       "      <td>₹209</td>\n",
       "    </tr>\n",
       "    <tr>\n",
       "      <th>21</th>\n",
       "      <td>New Specs</td>\n",
       "      <td>UV Protection Rectangular Sunglasses (Free Size)</td>\n",
       "      <td>₹169</td>\n",
       "    </tr>\n",
       "    <tr>\n",
       "      <th>22</th>\n",
       "      <td>ROYAL SON</td>\n",
       "      <td>Mirrored Aviator Sunglasses (55)</td>\n",
       "      <td>₹359</td>\n",
       "    </tr>\n",
       "    <tr>\n",
       "      <th>23</th>\n",
       "      <td>VINCENT CHASE</td>\n",
       "      <td>by Lenskart Polarized, UV Protection Aviator S...</td>\n",
       "      <td>₹999</td>\n",
       "    </tr>\n",
       "    <tr>\n",
       "      <th>24</th>\n",
       "      <td>GANSTA</td>\n",
       "      <td>UV Protection, Riding Glasses Wayfarer Sunglas...</td>\n",
       "      <td>₹209</td>\n",
       "    </tr>\n",
       "    <tr>\n",
       "      <th>25</th>\n",
       "      <td>Fastrack</td>\n",
       "      <td>UV Protection Wayfarer Sunglasses (55)</td>\n",
       "      <td>₹549</td>\n",
       "    </tr>\n",
       "    <tr>\n",
       "      <th>26</th>\n",
       "      <td>SUNBEE</td>\n",
       "      <td>UV Protection, Polarized, Mirrored Wayfarer Su...</td>\n",
       "      <td>₹276</td>\n",
       "    </tr>\n",
       "    <tr>\n",
       "      <th>27</th>\n",
       "      <td>ROZZETTA CRAFT</td>\n",
       "      <td>Gradient Round Sunglasses (Free Size)</td>\n",
       "      <td>₹426</td>\n",
       "    </tr>\n",
       "    <tr>\n",
       "      <th>28</th>\n",
       "      <td>Elligator</td>\n",
       "      <td>UV Protection Retro Square, Round Sunglasses (54)</td>\n",
       "      <td>₹291</td>\n",
       "    </tr>\n",
       "    <tr>\n",
       "      <th>29</th>\n",
       "      <td>PHENOMENAL</td>\n",
       "      <td>UV Protection, Mirrored Clubmaster Sunglasses ...</td>\n",
       "      <td>₹287</td>\n",
       "    </tr>\n",
       "    <tr>\n",
       "      <th>30</th>\n",
       "      <td>hipe</td>\n",
       "      <td>UV Protection Sports Sunglasses (Free Size)</td>\n",
       "      <td>₹287</td>\n",
       "    </tr>\n",
       "    <tr>\n",
       "      <th>31</th>\n",
       "      <td>NuVew</td>\n",
       "      <td>UV Protection Aviator Sunglasses (57)</td>\n",
       "      <td>₹325</td>\n",
       "    </tr>\n",
       "    <tr>\n",
       "      <th>32</th>\n",
       "      <td>Silver Kartz</td>\n",
       "      <td>UV Protection Wayfarer Sunglasses (Free Size)</td>\n",
       "      <td>₹246</td>\n",
       "    </tr>\n",
       "    <tr>\n",
       "      <th>33</th>\n",
       "      <td>ROZZETTA CRAFT</td>\n",
       "      <td>Mirrored, UV Protection Round Sunglasses (Free...</td>\n",
       "      <td>₹360</td>\n",
       "    </tr>\n",
       "    <tr>\n",
       "      <th>34</th>\n",
       "      <td>ROZZETTA CRAFT</td>\n",
       "      <td>UV Protection Round Sunglasses (Free Size)</td>\n",
       "      <td>₹426</td>\n",
       "    </tr>\n",
       "    <tr>\n",
       "      <th>35</th>\n",
       "      <td>NuVew</td>\n",
       "      <td>UV Protection, Mirrored Aviator Sunglasses (58)</td>\n",
       "      <td>₹235</td>\n",
       "    </tr>\n",
       "    <tr>\n",
       "      <th>36</th>\n",
       "      <td>ROYAL SON</td>\n",
       "      <td>Mirrored Aviator Sunglasses (Free Size)</td>\n",
       "      <td>₹359</td>\n",
       "    </tr>\n",
       "    <tr>\n",
       "      <th>37</th>\n",
       "      <td>maxa</td>\n",
       "      <td>UV Protection, Riding Glasses Rectangular, Way...</td>\n",
       "      <td>₹144</td>\n",
       "    </tr>\n",
       "    <tr>\n",
       "      <th>38</th>\n",
       "      <td>Fastrack</td>\n",
       "      <td>UV Protection Rectangular Sunglasses (Free Size)</td>\n",
       "      <td>₹639</td>\n",
       "    </tr>\n",
       "    <tr>\n",
       "      <th>39</th>\n",
       "      <td>AISLIN</td>\n",
       "      <td>UV Protection Wayfarer, Rectangular Sunglasses...</td>\n",
       "      <td>₹1,040</td>\n",
       "    </tr>\n",
       "  </tbody>\n",
       "</table>\n",
       "</div>"
      ],
      "text/plain": [
       "        Brand Name                                Product Description   Price\n",
       "0           SUNBEE  UV Protection, Polarized Wayfarer Sunglasses (...    ₹243\n",
       "1         Fastrack              UV Protection Aviator Sunglasses (58)  ₹1,089\n",
       "2   kingsunglasses  UV Protection, Night Vision Wayfarer Sunglasse...    ₹273\n",
       "3    VINCENT CHASE  by Lenskart UV Protection Aviator Sunglasses (53)    ₹999\n",
       "4            agera                   Gradient Aviator Sunglasses (55)    ₹196\n",
       "5        Rich Club                    Polarized Round Sunglasses (48)    ₹165\n",
       "6     Singco India  Riding Glasses, UV Protection, Others Aviator ...    ₹201\n",
       "7           AISLIN  UV Protection, Gradient Butterfly, Wayfarer Su...    ₹459\n",
       "8       PHENOMENAL  UV Protection, Mirrored Retro Square Sunglasse...    ₹299\n",
       "9           PIRASO            UV Protection Butterfly Sunglasses (65)    ₹349\n",
       "10         DEIXELS  UV Protection Aviator, Wayfarer Sunglasses (Fr...    ₹202\n",
       "11          AISLIN      UV Protection, Gradient Round Sunglasses (58)    ₹498\n",
       "12       ROYAL SON                   Mirrored Aviator Sunglasses (55)    ₹359\n",
       "13  kingsunglasses         UV Protection Round Sunglasses (Free Size)    ₹289\n",
       "14          PIRASO              UV Protection Aviator Sunglasses (54)    ₹200\n",
       "15   VINCENT CHASE  by Lenskart UV Protection Aviator Sunglasses (...    ₹999\n",
       "16        Fastrack       UV Protection Aviator Sunglasses (Free Size)    ₹639\n",
       "17            hipe  Mirrored, Gradient, UV Protection Aviator Sung...    ₹178\n",
       "18  kingsunglasses   UV Protection Rectangular Sunglasses (Free Size)    ₹192\n",
       "19  ROZZETTA CRAFT  UV Protection, Gradient Round Sunglasses (Free...    ₹426\n",
       "20            hipe  UV Protection, Gradient, Mirrored, Riding Glas...    ₹209\n",
       "21       New Specs   UV Protection Rectangular Sunglasses (Free Size)    ₹169\n",
       "22       ROYAL SON                   Mirrored Aviator Sunglasses (55)    ₹359\n",
       "23   VINCENT CHASE  by Lenskart Polarized, UV Protection Aviator S...    ₹999\n",
       "24          GANSTA  UV Protection, Riding Glasses Wayfarer Sunglas...    ₹209\n",
       "25        Fastrack             UV Protection Wayfarer Sunglasses (55)    ₹549\n",
       "26          SUNBEE  UV Protection, Polarized, Mirrored Wayfarer Su...    ₹276\n",
       "27  ROZZETTA CRAFT              Gradient Round Sunglasses (Free Size)    ₹426\n",
       "28       Elligator  UV Protection Retro Square, Round Sunglasses (54)    ₹291\n",
       "29      PHENOMENAL  UV Protection, Mirrored Clubmaster Sunglasses ...    ₹287\n",
       "30            hipe        UV Protection Sports Sunglasses (Free Size)    ₹287\n",
       "31           NuVew              UV Protection Aviator Sunglasses (57)    ₹325\n",
       "32    Silver Kartz      UV Protection Wayfarer Sunglasses (Free Size)    ₹246\n",
       "33  ROZZETTA CRAFT  Mirrored, UV Protection Round Sunglasses (Free...    ₹360\n",
       "34  ROZZETTA CRAFT         UV Protection Round Sunglasses (Free Size)    ₹426\n",
       "35           NuVew    UV Protection, Mirrored Aviator Sunglasses (58)    ₹235\n",
       "36       ROYAL SON            Mirrored Aviator Sunglasses (Free Size)    ₹359\n",
       "37            maxa  UV Protection, Riding Glasses Rectangular, Way...    ₹144\n",
       "38        Fastrack   UV Protection Rectangular Sunglasses (Free Size)    ₹639\n",
       "39          AISLIN  UV Protection Wayfarer, Rectangular Sunglasses...  ₹1,040"
      ]
     },
     "execution_count": 59,
     "metadata": {},
     "output_type": "execute_result"
    }
   ],
   "source": [
    "nextpage=pd.DataFrame()\n",
    "nextpage['Brand Name']=brand_titles\n",
    "nextpage['Product Description']=product_descsriptions\n",
    "nextpage['Price']=rate\n",
    "\n",
    "nextpage"
   ]
  },
  {
   "cell_type": "markdown",
   "id": "c38aced9",
   "metadata": {},
   "source": [
    "# Q5)python program for 100 reviews data from flipkart.com for iphone11 phone."
   ]
  },
  {
   "cell_type": "markdown",
   "id": "b6e2d452",
   "metadata": {},
   "source": [
    "You have to go the link:\n",
    "https://www.flipkart.com/apple-iphone-11-black-64-gb-includes- earpods-power\u0002adapter/p/itm0f37c2240b217?pid=MOBFKCTSVZAXUHGR&lid=LSTMOBFKC\n",
    "TSVZAXUHGREPBFGI&marketplace."
   ]
  },
  {
   "cell_type": "markdown",
   "id": "fe308d67",
   "metadata": {},
   "source": [
    "you have to scrape the tick marked attributes.These are:\n",
    "1. Rating\n",
    "2. Review summary\n",
    "3. Full review\n",
    "4. You have to scrape this data for first 100 reviews."
   ]
  },
  {
   "cell_type": "code",
   "execution_count": 3,
   "id": "e4f8a7b6",
   "metadata": {},
   "outputs": [],
   "source": [
    "#First connect driver\n",
    "driver=webdriver.Chrome(r'C:\\Users\\Dell\\Downloads\\chromedriver_win32\\chromedriver.exe')"
   ]
  },
  {
   "cell_type": "code",
   "execution_count": 4,
   "id": "6fbe170e",
   "metadata": {},
   "outputs": [],
   "source": [
    "url='https://www.flipkart.com/apple-iphone-11-black-64-gb-includes-earpods-power-adapter/p/itm0f37c2240b217?pid=MOBFKCTSVZAXUHGR&lid=LSTMOBFKCTSVZAXUHGREPBFGI&marketplace'\n",
    "\n",
    "driver.get(url)"
   ]
  },
  {
   "cell_type": "markdown",
   "id": "80a5b5e0",
   "metadata": {},
   "source": [
    "# Extracting product rating"
   ]
  },
  {
   "cell_type": "code",
   "execution_count": 8,
   "id": "42710660",
   "metadata": {},
   "outputs": [
    {
     "data": {
      "text/plain": [
       "[<selenium.webdriver.remote.webelement.WebElement (session=\"1345a951b02e6ea96dce8b6c31ba2346\", element=\"e5fc0af1-bd12-412e-bff2-43d49e8ad45a\")>,\n",
       " <selenium.webdriver.remote.webelement.WebElement (session=\"1345a951b02e6ea96dce8b6c31ba2346\", element=\"42c9e39b-0e6c-4fbb-9dae-dd0e9c0d0d69\")>,\n",
       " <selenium.webdriver.remote.webelement.WebElement (session=\"1345a951b02e6ea96dce8b6c31ba2346\", element=\"7d3f2284-40cb-4c0c-a0b2-c03e66944acf\")>]"
      ]
     },
     "execution_count": 8,
     "metadata": {},
     "output_type": "execute_result"
    }
   ],
   "source": [
    "#extract all web element having product rating\n",
    "product_rating=driver.find_elements_by_xpath('//div[@class=\"_3LWZlK _1BLPMq\"]')\n",
    "len(product_rating)\n",
    "product_rating[0:3]"
   ]
  },
  {
   "cell_type": "code",
   "execution_count": 12,
   "id": "0375b31b",
   "metadata": {},
   "outputs": [
    {
     "data": {
      "text/plain": [
       "['5', '5', '5', '5', '5', '5', '5', '4', '5', '5']"
      ]
     },
     "execution_count": 12,
     "metadata": {},
     "output_type": "execute_result"
    }
   ],
   "source": [
    "#we will run for loop to iterate over the tags and will extract text\n",
    "rating=[]\n",
    "\n",
    "for i in product_rating:\n",
    "    rating.append(i.text)\n",
    "len(rating)\n",
    "rating"
   ]
  },
  {
   "cell_type": "markdown",
   "id": "3ca3e678",
   "metadata": {},
   "source": [
    "# product review summary"
   ]
  },
  {
   "cell_type": "code",
   "execution_count": 13,
   "id": "b0325f44",
   "metadata": {},
   "outputs": [
    {
     "data": {
      "text/plain": [
       "[<selenium.webdriver.remote.webelement.WebElement (session=\"1345a951b02e6ea96dce8b6c31ba2346\", element=\"a3ef85e2-0fbb-447b-b899-cb492e5e8b64\")>,\n",
       " <selenium.webdriver.remote.webelement.WebElement (session=\"1345a951b02e6ea96dce8b6c31ba2346\", element=\"26e6bb03-4e8c-4d63-b6b2-b47b5b8f187c\")>,\n",
       " <selenium.webdriver.remote.webelement.WebElement (session=\"1345a951b02e6ea96dce8b6c31ba2346\", element=\"4a3ce888-2ec6-4341-80db-5ad820b52b28\")>]"
      ]
     },
     "execution_count": 13,
     "metadata": {},
     "output_type": "execute_result"
    }
   ],
   "source": [
    "#extract all web element having product review summary\n",
    "product_review_summary=driver.find_elements_by_xpath('//p[@class=\"_2-N8zT\"]')\n",
    "len(product_review_summary)\n",
    "product_review_summary[0:3]"
   ]
  },
  {
   "cell_type": "code",
   "execution_count": 14,
   "id": "4938fad0",
   "metadata": {},
   "outputs": [
    {
     "data": {
      "text/plain": [
       "['Brilliant',\n",
       " 'Simply awesome',\n",
       " 'Perfect product!',\n",
       " 'Best in the market!',\n",
       " 'Worth every penny',\n",
       " 'Fabulous!',\n",
       " 'Great product',\n",
       " 'Good choice',\n",
       " 'Worth every penny',\n",
       " 'Highly recommended']"
      ]
     },
     "execution_count": 14,
     "metadata": {},
     "output_type": "execute_result"
    }
   ],
   "source": [
    "#we will run for loop to iterate over the tags and will extract text\n",
    "review_summary=[]\n",
    "\n",
    "for i in product_review_summary:\n",
    "    review_summary.append(i.text)\n",
    "len(review_summary)\n",
    "review_summary"
   ]
  },
  {
   "cell_type": "markdown",
   "id": "ee6c3748",
   "metadata": {},
   "source": [
    "# product full review"
   ]
  },
  {
   "cell_type": "code",
   "execution_count": 16,
   "id": "7457b30e",
   "metadata": {},
   "outputs": [
    {
     "data": {
      "text/plain": [
       "[<selenium.webdriver.remote.webelement.WebElement (session=\"1345a951b02e6ea96dce8b6c31ba2346\", element=\"5ebc378e-3a9d-4537-a267-3671709ae547\")>,\n",
       " <selenium.webdriver.remote.webelement.WebElement (session=\"1345a951b02e6ea96dce8b6c31ba2346\", element=\"ea04f2f1-1e28-4f4d-a65c-74fc2c8ee8a0\")>,\n",
       " <selenium.webdriver.remote.webelement.WebElement (session=\"1345a951b02e6ea96dce8b6c31ba2346\", element=\"44de4fc1-d969-4f99-ade2-b205a8438204\")>]"
      ]
     },
     "execution_count": 16,
     "metadata": {},
     "output_type": "execute_result"
    }
   ],
   "source": [
    "#extract all web element having product full review\n",
    "product_full_review=driver.find_elements_by_xpath('//div[@class=\"t-ZTKy\"]')\n",
    "len(product_full_review)\n",
    "product_full_review[0:3]"
   ]
  },
  {
   "cell_type": "code",
   "execution_count": 18,
   "id": "e00e82b9",
   "metadata": {},
   "outputs": [
    {
     "data": {
      "text/plain": [
       "['The Best Phone for the Money\\n\\nThe iPhone 11 offers superb cameras, a more durable design and excellent battery life for an affordable price.\\n\\nCompelling ultra-wide camera\\nNew Night mode is excellent\\nLong battery life',\n",
       " 'Really satisfied with the Product I received... It’s totally genuine and the packaging was also really good so if ur planning to buy just go for it.',\n",
       " 'Amazing phone with great cameras and better battery which gives you the best performance. I just love the camera .']"
      ]
     },
     "execution_count": 18,
     "metadata": {},
     "output_type": "execute_result"
    }
   ],
   "source": [
    "#we will run for loop to iterate over the tags and will extract text\n",
    "full_review=[]\n",
    "\n",
    "for i in product_full_review:\n",
    "    full_review.append(i.text)\n",
    "len(full_review)\n",
    "full_review[0:3]"
   ]
  },
  {
   "cell_type": "code",
   "execution_count": 21,
   "id": "98bbaaf2",
   "metadata": {},
   "outputs": [
    {
     "data": {
      "text/plain": [
       "(10, 10, 10)"
      ]
     },
     "execution_count": 21,
     "metadata": {},
     "output_type": "execute_result"
    }
   ],
   "source": [
    "len(rating),len(review_summary),len(full_review)"
   ]
  },
  {
   "cell_type": "markdown",
   "id": "1c8824e4",
   "metadata": {},
   "source": [
    "# Making Dataframe"
   ]
  },
  {
   "cell_type": "code",
   "execution_count": 23,
   "id": "112879c5",
   "metadata": {},
   "outputs": [
    {
     "data": {
      "text/html": [
       "<div>\n",
       "<style scoped>\n",
       "    .dataframe tbody tr th:only-of-type {\n",
       "        vertical-align: middle;\n",
       "    }\n",
       "\n",
       "    .dataframe tbody tr th {\n",
       "        vertical-align: top;\n",
       "    }\n",
       "\n",
       "    .dataframe thead th {\n",
       "        text-align: right;\n",
       "    }\n",
       "</style>\n",
       "<table border=\"1\" class=\"dataframe\">\n",
       "  <thead>\n",
       "    <tr style=\"text-align: right;\">\n",
       "      <th></th>\n",
       "      <th>Rating</th>\n",
       "      <th>Review summary</th>\n",
       "      <th>Full review</th>\n",
       "    </tr>\n",
       "  </thead>\n",
       "  <tbody>\n",
       "    <tr>\n",
       "      <th>0</th>\n",
       "      <td>5</td>\n",
       "      <td>Brilliant</td>\n",
       "      <td>The Best Phone for the Money\\n\\nThe iPhone 11 ...</td>\n",
       "    </tr>\n",
       "    <tr>\n",
       "      <th>1</th>\n",
       "      <td>5</td>\n",
       "      <td>Simply awesome</td>\n",
       "      <td>Really satisfied with the Product I received.....</td>\n",
       "    </tr>\n",
       "    <tr>\n",
       "      <th>2</th>\n",
       "      <td>5</td>\n",
       "      <td>Perfect product!</td>\n",
       "      <td>Amazing phone with great cameras and better ba...</td>\n",
       "    </tr>\n",
       "    <tr>\n",
       "      <th>3</th>\n",
       "      <td>5</td>\n",
       "      <td>Best in the market!</td>\n",
       "      <td>Great iPhone very snappy experience as apple k...</td>\n",
       "    </tr>\n",
       "    <tr>\n",
       "      <th>4</th>\n",
       "      <td>5</td>\n",
       "      <td>Worth every penny</td>\n",
       "      <td>Previously I was using one plus 3t it was a gr...</td>\n",
       "    </tr>\n",
       "    <tr>\n",
       "      <th>5</th>\n",
       "      <td>5</td>\n",
       "      <td>Fabulous!</td>\n",
       "      <td>This is my first iOS phone. I am very happy wi...</td>\n",
       "    </tr>\n",
       "    <tr>\n",
       "      <th>6</th>\n",
       "      <td>5</td>\n",
       "      <td>Great product</td>\n",
       "      <td>Amazing Powerful and Durable Gadget.\\n\\nI’m am...</td>\n",
       "    </tr>\n",
       "    <tr>\n",
       "      <th>7</th>\n",
       "      <td>4</td>\n",
       "      <td>Good choice</td>\n",
       "      <td>So far it’s been an AMAZING experience coming ...</td>\n",
       "    </tr>\n",
       "    <tr>\n",
       "      <th>8</th>\n",
       "      <td>5</td>\n",
       "      <td>Worth every penny</td>\n",
       "      <td>i11 is worthy to buy, too much happy with the ...</td>\n",
       "    </tr>\n",
       "    <tr>\n",
       "      <th>9</th>\n",
       "      <td>5</td>\n",
       "      <td>Highly recommended</td>\n",
       "      <td>What a camera .....just awesome ..you can feel...</td>\n",
       "    </tr>\n",
       "  </tbody>\n",
       "</table>\n",
       "</div>"
      ],
      "text/plain": [
       "  Rating       Review summary  \\\n",
       "0      5            Brilliant   \n",
       "1      5       Simply awesome   \n",
       "2      5     Perfect product!   \n",
       "3      5  Best in the market!   \n",
       "4      5    Worth every penny   \n",
       "5      5            Fabulous!   \n",
       "6      5        Great product   \n",
       "7      4          Good choice   \n",
       "8      5    Worth every penny   \n",
       "9      5   Highly recommended   \n",
       "\n",
       "                                         Full review  \n",
       "0  The Best Phone for the Money\\n\\nThe iPhone 11 ...  \n",
       "1  Really satisfied with the Product I received.....  \n",
       "2  Amazing phone with great cameras and better ba...  \n",
       "3  Great iPhone very snappy experience as apple k...  \n",
       "4  Previously I was using one plus 3t it was a gr...  \n",
       "5  This is my first iOS phone. I am very happy wi...  \n",
       "6  Amazing Powerful and Durable Gadget.\\n\\nI’m am...  \n",
       "7  So far it’s been an AMAZING experience coming ...  \n",
       "8  i11 is worthy to buy, too much happy with the ...  \n",
       "9  What a camera .....just awesome ..you can feel...  "
      ]
     },
     "execution_count": 23,
     "metadata": {},
     "output_type": "execute_result"
    }
   ],
   "source": [
    "iPhone11=pd.DataFrame()\n",
    "iPhone11['Rating']=rating\n",
    "iPhone11['Review summary']=review_summary\n",
    "iPhone11['Full review']=full_review\n",
    "iPhone11\n"
   ]
  },
  {
   "cell_type": "markdown",
   "id": "34507b9f",
   "metadata": {},
   "source": [
    "# Q6) python program for scrape data for first 100 sneakers-flipkart.com and search for “sneakers” in the search field."
   ]
  },
  {
   "cell_type": "markdown",
   "id": "84bdb0b0",
   "metadata": {},
   "source": [
    "Scrape 4 attributes of each sneaker:\n",
    "1. Brand\n",
    "2. Product Description\n",
    "3. Price"
   ]
  },
  {
   "cell_type": "code",
   "execution_count": 27,
   "id": "3a5cd4eb",
   "metadata": {},
   "outputs": [],
   "source": [
    "#First connect to web driver\n",
    "driver=webdriver.Chrome(r'C:\\Users\\Dell\\Downloads\\chromedriver_win32\\chromedriver.exe')"
   ]
  },
  {
   "cell_type": "code",
   "execution_count": 30,
   "id": "3cb2f8ef",
   "metadata": {},
   "outputs": [],
   "source": [
    "url='https://www.flipkart.com'\n",
    "\n",
    "driver.get(url)"
   ]
  },
  {
   "cell_type": "code",
   "execution_count": 43,
   "id": "7ac264b5",
   "metadata": {},
   "outputs": [
    {
     "data": {
      "text/plain": [
       "<selenium.webdriver.remote.webelement.WebElement (session=\"a873f7bac23aa9f1b41fe3d877bc9a83\", element=\"e27d500e-7877-41f6-ae2a-44840fa2e710\")>"
      ]
     },
     "execution_count": 43,
     "metadata": {},
     "output_type": "execute_result"
    }
   ],
   "source": [
    "#finding web element for search bar using class\n",
    "search_product=driver.find_element_by_class_name(\"_3704LK\")\n",
    "search_product"
   ]
  },
  {
   "cell_type": "code",
   "execution_count": 44,
   "id": "611d317b",
   "metadata": {},
   "outputs": [],
   "source": [
    "#write on seach bar\n",
    "search_product.send_keys('sneakers')"
   ]
  },
  {
   "cell_type": "code",
   "execution_count": 45,
   "id": "e4001da9",
   "metadata": {},
   "outputs": [
    {
     "data": {
      "text/plain": [
       "<selenium.webdriver.remote.webelement.WebElement (session=\"a873f7bac23aa9f1b41fe3d877bc9a83\", element=\"c218f8f7-27aa-4ac6-a23f-deb202e7155b\")>"
      ]
     },
     "execution_count": 45,
     "metadata": {},
     "output_type": "execute_result"
    }
   ],
   "source": [
    "#Clicking using class name\n",
    "search_button=driver.find_element_by_class_name(\"L0Z3Pu\")\n",
    "search_button"
   ]
  },
  {
   "cell_type": "code",
   "execution_count": 46,
   "id": "a0499fd8",
   "metadata": {},
   "outputs": [],
   "source": [
    "search_button.click()"
   ]
  },
  {
   "cell_type": "markdown",
   "id": "1f99be11",
   "metadata": {},
   "source": [
    "# Extracting brand name"
   ]
  },
  {
   "cell_type": "code",
   "execution_count": 47,
   "id": "704148a1",
   "metadata": {},
   "outputs": [
    {
     "data": {
      "text/plain": [
       "[<selenium.webdriver.remote.webelement.WebElement (session=\"a873f7bac23aa9f1b41fe3d877bc9a83\", element=\"37cd0721-e948-4729-912b-0b2c06980c42\")>,\n",
       " <selenium.webdriver.remote.webelement.WebElement (session=\"a873f7bac23aa9f1b41fe3d877bc9a83\", element=\"4ba4a786-5d3f-4bdb-a5d4-5e8826ff49f6\")>,\n",
       " <selenium.webdriver.remote.webelement.WebElement (session=\"a873f7bac23aa9f1b41fe3d877bc9a83\", element=\"eb51b8ef-7909-47a2-b83f-00ed11115cdd\")>]"
      ]
     },
     "execution_count": 47,
     "metadata": {},
     "output_type": "execute_result"
    }
   ],
   "source": [
    "#extract all web element having brand name\n",
    "brand_name=driver.find_elements_by_xpath('//div[@class=\"_2WkVRV\"]')\n",
    "len(brand_name)\n",
    "brand_name[0:3]"
   ]
  },
  {
   "cell_type": "code",
   "execution_count": 50,
   "id": "dfce414b",
   "metadata": {},
   "outputs": [
    {
     "data": {
      "text/plain": [
       "['PEHANOSA', 'PUMA', 'Magnolia']"
      ]
     },
     "execution_count": 50,
     "metadata": {},
     "output_type": "execute_result"
    }
   ],
   "source": [
    "#we will run for loop to iterate over the tags and will extract text\n",
    "brand=[]\n",
    "\n",
    "for i in brand_name:\n",
    "    brand.append(i.text)\n",
    "len(brand)\n",
    "brand[0:3]"
   ]
  },
  {
   "cell_type": "markdown",
   "id": "81ca6761",
   "metadata": {},
   "source": [
    "# Extracting product description"
   ]
  },
  {
   "cell_type": "code",
   "execution_count": 76,
   "id": "b9ecffc1",
   "metadata": {},
   "outputs": [
    {
     "data": {
      "text/plain": [
       "[<selenium.webdriver.remote.webelement.WebElement (session=\"a873f7bac23aa9f1b41fe3d877bc9a83\", element=\"0fd48ca2-c556-411f-95b2-11e4df3906dc\")>,\n",
       " <selenium.webdriver.remote.webelement.WebElement (session=\"a873f7bac23aa9f1b41fe3d877bc9a83\", element=\"cd479cc6-12af-4166-8559-4a46be2a2297\")>,\n",
       " <selenium.webdriver.remote.webelement.WebElement (session=\"a873f7bac23aa9f1b41fe3d877bc9a83\", element=\"acb62cd2-e7b6-45d0-93be-6d106bb3664f\")>]"
      ]
     },
     "execution_count": 76,
     "metadata": {},
     "output_type": "execute_result"
    }
   ],
   "source": [
    "#extract all web element having product_description\n",
    "product_description=driver.find_elements_by_class_name(\"IRpwTa\")\n",
    "len(product_description)\n",
    "product_description[0:3]"
   ]
  },
  {
   "cell_type": "code",
   "execution_count": 80,
   "id": "01c5409c",
   "metadata": {},
   "outputs": [
    {
     "data": {
      "text/plain": [
       "['Sneakers For Men', 'RS-Z Sneakers For Men', 'Sneakers For Men']"
      ]
     },
     "execution_count": 80,
     "metadata": {},
     "output_type": "execute_result"
    }
   ],
   "source": [
    "#we will run for loop to iterate over the tags and will extract text\n",
    "description=[]\n",
    "\n",
    "for i in product_description:\n",
    "    description.append(i.text)\n",
    "len(description)\n",
    "description[0:3]"
   ]
  },
  {
   "cell_type": "markdown",
   "id": "5c162d99",
   "metadata": {},
   "source": [
    "# Extracting product price"
   ]
  },
  {
   "cell_type": "code",
   "execution_count": 83,
   "id": "3c52fc7c",
   "metadata": {},
   "outputs": [
    {
     "data": {
      "text/plain": [
       "[<selenium.webdriver.remote.webelement.WebElement (session=\"a873f7bac23aa9f1b41fe3d877bc9a83\", element=\"7a103ea0-0e06-418e-b65f-8e19adfcf30b\")>,\n",
       " <selenium.webdriver.remote.webelement.WebElement (session=\"a873f7bac23aa9f1b41fe3d877bc9a83\", element=\"4eebe0bf-cb6f-4f25-a090-e52f72087c1c\")>,\n",
       " <selenium.webdriver.remote.webelement.WebElement (session=\"a873f7bac23aa9f1b41fe3d877bc9a83\", element=\"44aa0228-2395-418e-afcf-c46bf81064a3\")>]"
      ]
     },
     "execution_count": 83,
     "metadata": {},
     "output_type": "execute_result"
    }
   ],
   "source": [
    "#extract all web element having product price\n",
    "product_price=driver.find_elements_by_xpath('//div[@class=\"_30jeq3\"]')\n",
    "len(product_price)\n",
    "product_price[0:3]"
   ]
  },
  {
   "cell_type": "code",
   "execution_count": 86,
   "id": "f2a128e1",
   "metadata": {},
   "outputs": [
    {
     "data": {
      "text/plain": [
       "['₹699', '₹9,999', '₹398']"
      ]
     },
     "execution_count": 86,
     "metadata": {},
     "output_type": "execute_result"
    }
   ],
   "source": [
    "#we will run for loop to iterate over the tags and will extract text\n",
    "price=[]\n",
    "\n",
    "for i in product_price:\n",
    "    price.append(i.text)\n",
    "len(price)\n",
    "price[0:3]"
   ]
  },
  {
   "cell_type": "markdown",
   "id": "dfe722ae",
   "metadata": {},
   "source": [
    "# Making Dataframe"
   ]
  },
  {
   "cell_type": "code",
   "execution_count": 87,
   "id": "c9ee8207",
   "metadata": {},
   "outputs": [
    {
     "data": {
      "text/html": [
       "<div>\n",
       "<style scoped>\n",
       "    .dataframe tbody tr th:only-of-type {\n",
       "        vertical-align: middle;\n",
       "    }\n",
       "\n",
       "    .dataframe tbody tr th {\n",
       "        vertical-align: top;\n",
       "    }\n",
       "\n",
       "    .dataframe thead th {\n",
       "        text-align: right;\n",
       "    }\n",
       "</style>\n",
       "<table border=\"1\" class=\"dataframe\">\n",
       "  <thead>\n",
       "    <tr style=\"text-align: right;\">\n",
       "      <th></th>\n",
       "      <th>Brand Name</th>\n",
       "      <th>Product Description</th>\n",
       "      <th>Price</th>\n",
       "    </tr>\n",
       "  </thead>\n",
       "  <tbody>\n",
       "    <tr>\n",
       "      <th>0</th>\n",
       "      <td>PEHANOSA</td>\n",
       "      <td>Sneakers For Men</td>\n",
       "      <td>₹699</td>\n",
       "    </tr>\n",
       "    <tr>\n",
       "      <th>1</th>\n",
       "      <td>PUMA</td>\n",
       "      <td>RS-Z Sneakers For Men</td>\n",
       "      <td>₹9,999</td>\n",
       "    </tr>\n",
       "    <tr>\n",
       "      <th>2</th>\n",
       "      <td>Magnolia</td>\n",
       "      <td>Sneakers For Men</td>\n",
       "      <td>₹398</td>\n",
       "    </tr>\n",
       "    <tr>\n",
       "      <th>3</th>\n",
       "      <td>luxury fashion</td>\n",
       "      <td>Luxury Fashionable casual sneaker shoes Sneake...</td>\n",
       "      <td>₹449</td>\n",
       "    </tr>\n",
       "    <tr>\n",
       "      <th>4</th>\n",
       "      <td>Extoes</td>\n",
       "      <td>Modern Trendy Shoes Combo pack of 4 Sneakers F...</td>\n",
       "      <td>₹898</td>\n",
       "    </tr>\n",
       "    <tr>\n",
       "      <th>5</th>\n",
       "      <td>URBANBOX</td>\n",
       "      <td>Sneakers Sneakers For Men</td>\n",
       "      <td>₹220</td>\n",
       "    </tr>\n",
       "    <tr>\n",
       "      <th>6</th>\n",
       "      <td>Labbin</td>\n",
       "      <td>Sneakers For Men</td>\n",
       "      <td>₹499</td>\n",
       "    </tr>\n",
       "    <tr>\n",
       "      <th>7</th>\n",
       "      <td>hecta</td>\n",
       "      <td>Sneakers For Men</td>\n",
       "      <td>₹489</td>\n",
       "    </tr>\n",
       "    <tr>\n",
       "      <th>8</th>\n",
       "      <td>Stefano Rads</td>\n",
       "      <td>Classy Sneakers For Men</td>\n",
       "      <td>₹242</td>\n",
       "    </tr>\n",
       "    <tr>\n",
       "      <th>9</th>\n",
       "      <td>D-SNEAKERZ</td>\n",
       "      <td>Casual , Partywear Sneakers Shoes For Men's An...</td>\n",
       "      <td>₹348</td>\n",
       "    </tr>\n",
       "    <tr>\n",
       "      <th>10</th>\n",
       "      <td>SCATCHITE</td>\n",
       "      <td>Sneakers Sneakers For Men</td>\n",
       "      <td>₹398</td>\n",
       "    </tr>\n",
       "    <tr>\n",
       "      <th>11</th>\n",
       "      <td>Advick</td>\n",
       "      <td>Sneakers For Men</td>\n",
       "      <td>₹920</td>\n",
       "    </tr>\n",
       "    <tr>\n",
       "      <th>12</th>\n",
       "      <td>ASTEROID</td>\n",
       "      <td>Original Luxury Branded Fashionable Men's Casu...</td>\n",
       "      <td>₹499</td>\n",
       "    </tr>\n",
       "    <tr>\n",
       "      <th>13</th>\n",
       "      <td>Kraasa</td>\n",
       "      <td>Series 7 Sneakers For Men</td>\n",
       "      <td>₹444</td>\n",
       "    </tr>\n",
       "    <tr>\n",
       "      <th>14</th>\n",
       "      <td>Numenzo</td>\n",
       "      <td>411 Casual Sneakers For Men</td>\n",
       "      <td>₹426</td>\n",
       "    </tr>\n",
       "    <tr>\n",
       "      <th>15</th>\n",
       "      <td>PUMA</td>\n",
       "      <td>Ferrari Neo Cat Sneakers For Men</td>\n",
       "      <td>₹3,999</td>\n",
       "    </tr>\n",
       "    <tr>\n",
       "      <th>16</th>\n",
       "      <td>PUMA</td>\n",
       "      <td>Glory Sneakers For Men</td>\n",
       "      <td>₹1,379</td>\n",
       "    </tr>\n",
       "    <tr>\n",
       "      <th>17</th>\n",
       "      <td>Trendmode</td>\n",
       "      <td>Sneakers For Men</td>\n",
       "      <td>₹259</td>\n",
       "    </tr>\n",
       "    <tr>\n",
       "      <th>18</th>\n",
       "      <td>Shoes Bank</td>\n",
       "      <td>White Sneaker For Men's/Boy's Sneakers For Men</td>\n",
       "      <td>₹331</td>\n",
       "    </tr>\n",
       "    <tr>\n",
       "      <th>19</th>\n",
       "      <td>hecta</td>\n",
       "      <td>Sneakers For Men</td>\n",
       "      <td>₹489</td>\n",
       "    </tr>\n",
       "    <tr>\n",
       "      <th>20</th>\n",
       "      <td>BIRDE</td>\n",
       "      <td>Sports Running Shoes Sneakers For Men</td>\n",
       "      <td>₹299</td>\n",
       "    </tr>\n",
       "    <tr>\n",
       "      <th>21</th>\n",
       "      <td>HOTSTYLE</td>\n",
       "      <td>Sneakers For Men</td>\n",
       "      <td>₹298</td>\n",
       "    </tr>\n",
       "    <tr>\n",
       "      <th>22</th>\n",
       "      <td>K- FOOTLANCE</td>\n",
       "      <td>Sneakers For Men</td>\n",
       "      <td>₹489</td>\n",
       "    </tr>\n",
       "    <tr>\n",
       "      <th>23</th>\n",
       "      <td>hecta</td>\n",
       "      <td>Sneakers For Men</td>\n",
       "      <td>₹489</td>\n",
       "    </tr>\n",
       "    <tr>\n",
       "      <th>24</th>\n",
       "      <td>ganpati traders</td>\n",
       "      <td>Sneakers For Men</td>\n",
       "      <td>₹189</td>\n",
       "    </tr>\n",
       "    <tr>\n",
       "      <th>25</th>\n",
       "      <td>Echor</td>\n",
       "      <td>Men's Sneakers Fashion Lightweight Running Sho...</td>\n",
       "      <td>₹499</td>\n",
       "    </tr>\n",
       "    <tr>\n",
       "      <th>26</th>\n",
       "      <td>Kraasa</td>\n",
       "      <td>Shark-41 Sneakers For Men</td>\n",
       "      <td>₹444</td>\n",
       "    </tr>\n",
       "    <tr>\n",
       "      <th>27</th>\n",
       "      <td>hecta</td>\n",
       "      <td>Sneakers For Men</td>\n",
       "      <td>₹489</td>\n",
       "    </tr>\n",
       "    <tr>\n",
       "      <th>28</th>\n",
       "      <td>TR</td>\n",
       "      <td>Sneakers For Men</td>\n",
       "      <td>₹599</td>\n",
       "    </tr>\n",
       "    <tr>\n",
       "      <th>29</th>\n",
       "      <td>DUNKASTON</td>\n",
       "      <td>Sneakers For Men</td>\n",
       "      <td>₹449</td>\n",
       "    </tr>\n",
       "    <tr>\n",
       "      <th>30</th>\n",
       "      <td>BRUTON</td>\n",
       "      <td>Modern Trendy Sneakers Shoes Sneakers For Men</td>\n",
       "      <td>₹339</td>\n",
       "    </tr>\n",
       "    <tr>\n",
       "      <th>31</th>\n",
       "      <td>hecta</td>\n",
       "      <td>Sneakers For Men</td>\n",
       "      <td>₹489</td>\n",
       "    </tr>\n",
       "    <tr>\n",
       "      <th>32</th>\n",
       "      <td>India hub</td>\n",
       "      <td>Luxury Fashionable casual sneaker shoes Sneake...</td>\n",
       "      <td>₹499</td>\n",
       "    </tr>\n",
       "    <tr>\n",
       "      <th>33</th>\n",
       "      <td>Numenzo</td>\n",
       "      <td>White Sneaker For Men Sneakers For Men</td>\n",
       "      <td>₹407</td>\n",
       "    </tr>\n",
       "    <tr>\n",
       "      <th>34</th>\n",
       "      <td>Robbie jones</td>\n",
       "      <td>Casual Sneakers Black Shoes For Men Sneakers F...</td>\n",
       "      <td>₹451</td>\n",
       "    </tr>\n",
       "    <tr>\n",
       "      <th>35</th>\n",
       "      <td>PUMA</td>\n",
       "      <td>RS-X Mix Sneakers For Men</td>\n",
       "      <td>₹5,399</td>\n",
       "    </tr>\n",
       "    <tr>\n",
       "      <th>36</th>\n",
       "      <td>CLYMB</td>\n",
       "      <td>Sneakers For Men</td>\n",
       "      <td>₹649</td>\n",
       "    </tr>\n",
       "    <tr>\n",
       "      <th>37</th>\n",
       "      <td>Rzisbo</td>\n",
       "      <td>Sneakers For Men</td>\n",
       "      <td>₹549</td>\n",
       "    </tr>\n",
       "    <tr>\n",
       "      <th>38</th>\n",
       "      <td>PUMA</td>\n",
       "      <td>Glory Sneakers For Men</td>\n",
       "      <td>₹1,379</td>\n",
       "    </tr>\n",
       "    <tr>\n",
       "      <th>39</th>\n",
       "      <td>GVR</td>\n",
       "      <td>Sneakers For Men</td>\n",
       "      <td>₹549</td>\n",
       "    </tr>\n",
       "  </tbody>\n",
       "</table>\n",
       "</div>"
      ],
      "text/plain": [
       "         Brand Name                                Product Description   Price\n",
       "0          PEHANOSA                                   Sneakers For Men    ₹699\n",
       "1              PUMA                              RS-Z Sneakers For Men  ₹9,999\n",
       "2          Magnolia                                   Sneakers For Men    ₹398\n",
       "3    luxury fashion  Luxury Fashionable casual sneaker shoes Sneake...    ₹449\n",
       "4            Extoes  Modern Trendy Shoes Combo pack of 4 Sneakers F...    ₹898\n",
       "5          URBANBOX                          Sneakers Sneakers For Men    ₹220\n",
       "6            Labbin                                   Sneakers For Men    ₹499\n",
       "7             hecta                                   Sneakers For Men    ₹489\n",
       "8      Stefano Rads                            Classy Sneakers For Men    ₹242\n",
       "9        D-SNEAKERZ  Casual , Partywear Sneakers Shoes For Men's An...    ₹348\n",
       "10        SCATCHITE                          Sneakers Sneakers For Men    ₹398\n",
       "11           Advick                                   Sneakers For Men    ₹920\n",
       "12         ASTEROID  Original Luxury Branded Fashionable Men's Casu...    ₹499\n",
       "13           Kraasa                          Series 7 Sneakers For Men    ₹444\n",
       "14          Numenzo                        411 Casual Sneakers For Men    ₹426\n",
       "15             PUMA                   Ferrari Neo Cat Sneakers For Men  ₹3,999\n",
       "16             PUMA                             Glory Sneakers For Men  ₹1,379\n",
       "17        Trendmode                                   Sneakers For Men    ₹259\n",
       "18       Shoes Bank     White Sneaker For Men's/Boy's Sneakers For Men    ₹331\n",
       "19            hecta                                   Sneakers For Men    ₹489\n",
       "20            BIRDE              Sports Running Shoes Sneakers For Men    ₹299\n",
       "21         HOTSTYLE                                   Sneakers For Men    ₹298\n",
       "22     K- FOOTLANCE                                   Sneakers For Men    ₹489\n",
       "23            hecta                                   Sneakers For Men    ₹489\n",
       "24  ganpati traders                                   Sneakers For Men    ₹189\n",
       "25            Echor  Men's Sneakers Fashion Lightweight Running Sho...    ₹499\n",
       "26           Kraasa                          Shark-41 Sneakers For Men    ₹444\n",
       "27            hecta                                   Sneakers For Men    ₹489\n",
       "28               TR                                   Sneakers For Men    ₹599\n",
       "29        DUNKASTON                                   Sneakers For Men    ₹449\n",
       "30           BRUTON      Modern Trendy Sneakers Shoes Sneakers For Men    ₹339\n",
       "31            hecta                                   Sneakers For Men    ₹489\n",
       "32        India hub  Luxury Fashionable casual sneaker shoes Sneake...    ₹499\n",
       "33          Numenzo             White Sneaker For Men Sneakers For Men    ₹407\n",
       "34     Robbie jones  Casual Sneakers Black Shoes For Men Sneakers F...    ₹451\n",
       "35             PUMA                          RS-X Mix Sneakers For Men  ₹5,399\n",
       "36            CLYMB                                   Sneakers For Men    ₹649\n",
       "37           Rzisbo                                   Sneakers For Men    ₹549\n",
       "38             PUMA                             Glory Sneakers For Men  ₹1,379\n",
       "39              GVR                                   Sneakers For Men    ₹549"
      ]
     },
     "execution_count": 87,
     "metadata": {},
     "output_type": "execute_result"
    }
   ],
   "source": [
    "sneakers=pd.DataFrame()\n",
    "sneakers['Brand Name']=brand\n",
    "sneakers['Product Description']=description\n",
    "sneakers['Price']=price\n",
    "sneakers"
   ]
  },
  {
   "cell_type": "markdown",
   "id": "21b5f1bf",
   "metadata": {},
   "source": [
    "# Q7)python program for scrap First 100 shoes data. The data should include “Brand” of the shoes, Short Shoe description, price from https://www.myntra.com/shoes."
   ]
  },
  {
   "cell_type": "markdown",
   "id": "1efc628d",
   "metadata": {},
   "source": [
    "Go to the link - https://www.myntra.com/shoes\n",
    "Set Price filter to “Rs. 7149 to Rs. 14099 ” , Color filter to “Black”,"
   ]
  },
  {
   "cell_type": "code",
   "execution_count": 5,
   "id": "c0971141",
   "metadata": {},
   "outputs": [],
   "source": [
    "#First connect to web driver\n",
    "driver=webdriver.Chrome(r'C:\\Users\\Dell\\Downloads\\chromedriver_win32\\chromedriver.exe')"
   ]
  },
  {
   "cell_type": "code",
   "execution_count": 6,
   "id": "e227bb3d",
   "metadata": {},
   "outputs": [],
   "source": [
    "url='https://www.myntra.com/shoes'\n",
    "\n",
    "driver.get(url)"
   ]
  },
  {
   "cell_type": "markdown",
   "id": "a1e2d231",
   "metadata": {},
   "source": [
    "Clicking filters by selecting check boxes using absolute xpath"
   ]
  },
  {
   "cell_type": "code",
   "execution_count": 7,
   "id": "65291a7e",
   "metadata": {},
   "outputs": [
    {
     "data": {
      "text/plain": [
       "<selenium.webdriver.remote.webelement.WebElement (session=\"40a0544df18870ca2516f93188c4f5cb\", element=\"328ab424-eefb-4da1-bf48-c7267b47ba4b\")>"
      ]
     },
     "execution_count": 7,
     "metadata": {},
     "output_type": "execute_result"
    }
   ],
   "source": [
    "price_range=driver.find_element_by_xpath('/html/body/div[2]/div/div[1]/main/div[3]/div[1]/section/div/div[5]/ul/li[2]/label')\n",
    "price_range"
   ]
  },
  {
   "cell_type": "code",
   "execution_count": 8,
   "id": "3cb6cf1c",
   "metadata": {},
   "outputs": [
    {
     "data": {
      "text/plain": [
       "<selenium.webdriver.remote.webelement.WebElement (session=\"40a0544df18870ca2516f93188c4f5cb\", element=\"af4c510e-e16a-467f-9f65-91c4818a0e32\")>"
      ]
     },
     "execution_count": 8,
     "metadata": {},
     "output_type": "execute_result"
    }
   ],
   "source": [
    "product_color=driver.find_element_by_xpath('/html/body/div[2]/div/div[1]/main/div[3]/div[1]/section/div/div[6]/ul/li[1]/label')\n",
    "product_color"
   ]
  },
  {
   "cell_type": "markdown",
   "id": "c61ca229",
   "metadata": {},
   "source": [
    "Now first create 3 empty lists. In thee lists the data will be stored while scrapping"
   ]
  },
  {
   "cell_type": "markdown",
   "id": "a28455c3",
   "metadata": {},
   "source": [
    "# Extracting Brand Name"
   ]
  },
  {
   "cell_type": "code",
   "execution_count": 11,
   "id": "099cf6dd",
   "metadata": {},
   "outputs": [
    {
     "data": {
      "text/plain": [
       "[<selenium.webdriver.remote.webelement.WebElement (session=\"40a0544df18870ca2516f93188c4f5cb\", element=\"0a91d274-161a-4870-a514-49735cef79c6\")>,\n",
       " <selenium.webdriver.remote.webelement.WebElement (session=\"40a0544df18870ca2516f93188c4f5cb\", element=\"f251d817-fff2-461d-b0e0-774e7f621652\")>,\n",
       " <selenium.webdriver.remote.webelement.WebElement (session=\"40a0544df18870ca2516f93188c4f5cb\", element=\"ccebf4ad-3450-4af3-97d1-b38457683fab\")>]"
      ]
     },
     "execution_count": 11,
     "metadata": {},
     "output_type": "execute_result"
    }
   ],
   "source": [
    "#extract all web element having brand name \n",
    "brand_name=driver.find_elements_by_xpath('//h3[@class=\"product-brand\"]')\n",
    "len(brand_name)\n",
    "brand_name[0:3]"
   ]
  },
  {
   "cell_type": "code",
   "execution_count": 14,
   "id": "8a1a713f",
   "metadata": {},
   "outputs": [
    {
     "data": {
      "text/plain": [
       "['PUMA Motorsport', 'Puma', 'Puma']"
      ]
     },
     "execution_count": 14,
     "metadata": {},
     "output_type": "execute_result"
    }
   ],
   "source": [
    "#we will run for loop to iterate over the tags and will extract text\n",
    "brand=[]\n",
    "\n",
    "for i in brand_name:\n",
    "    brand.append(i.text)\n",
    "len(brand)\n",
    "brand[0:3]"
   ]
  },
  {
   "cell_type": "markdown",
   "id": "35ff6504",
   "metadata": {},
   "source": [
    "# Extracting , Short Shoe description"
   ]
  },
  {
   "cell_type": "code",
   "execution_count": 16,
   "id": "8963427c",
   "metadata": {},
   "outputs": [
    {
     "data": {
      "text/plain": [
       "[<selenium.webdriver.remote.webelement.WebElement (session=\"40a0544df18870ca2516f93188c4f5cb\", element=\"d4e64f6d-616b-438d-8758-04a37cdd05fc\")>,\n",
       " <selenium.webdriver.remote.webelement.WebElement (session=\"40a0544df18870ca2516f93188c4f5cb\", element=\"bf6bb01b-c896-482a-a2a3-a098d455d5b2\")>,\n",
       " <selenium.webdriver.remote.webelement.WebElement (session=\"40a0544df18870ca2516f93188c4f5cb\", element=\"dc4d58ab-fbd4-47d8-aa27-97147f6cb3de\")>]"
      ]
     },
     "execution_count": 16,
     "metadata": {},
     "output_type": "execute_result"
    }
   ],
   "source": [
    "#extract all web element having short_shoe_description \n",
    "short_shoe_description=driver.find_elements_by_xpath('//h4[@class=\"product-product\"]')\n",
    "len(short_shoe_description)\n",
    "short_shoe_description[0:3]"
   ]
  },
  {
   "cell_type": "code",
   "execution_count": 17,
   "id": "29598778",
   "metadata": {},
   "outputs": [
    {
     "data": {
      "text/plain": [
       "['Unisex Mercedes F1 Sneakers',\n",
       " 'Men Running Shoes',\n",
       " 'Men Magnify Nitro Running']"
      ]
     },
     "execution_count": 17,
     "metadata": {},
     "output_type": "execute_result"
    }
   ],
   "source": [
    "#we will run for loop to iterate over the tags and will extract text\n",
    "shoe_description=[]\n",
    "\n",
    "for i in short_shoe_description:\n",
    "    shoe_description.append(i.text)\n",
    "len(shoe_description)\n",
    "shoe_description[0:3]"
   ]
  },
  {
   "cell_type": "markdown",
   "id": "fc5329ea",
   "metadata": {},
   "source": [
    "# Extracting product price"
   ]
  },
  {
   "cell_type": "code",
   "execution_count": 76,
   "id": "c6d2a148",
   "metadata": {},
   "outputs": [
    {
     "data": {
      "text/plain": [
       "[<selenium.webdriver.remote.webelement.WebElement (session=\"40a0544df18870ca2516f93188c4f5cb\", element=\"197a5864-0b1b-41fd-b7ea-f7670df9c93c\")>,\n",
       " <selenium.webdriver.remote.webelement.WebElement (session=\"40a0544df18870ca2516f93188c4f5cb\", element=\"d5dfe7b5-f879-4b9f-b36a-cc01258bd1a7\")>,\n",
       " <selenium.webdriver.remote.webelement.WebElement (session=\"40a0544df18870ca2516f93188c4f5cb\", element=\"3d15cf5e-1373-484e-b49a-e3a03728324f\")>]"
      ]
     },
     "execution_count": 76,
     "metadata": {},
     "output_type": "execute_result"
    }
   ],
   "source": [
    "#extract all web element having product_price\n",
    "product_price=driver.find_elements_by_xpath('//div[@class=\"product-price\"]')\n",
    "len(product_price)\n",
    "product_price[0:3]"
   ]
  },
  {
   "cell_type": "code",
   "execution_count": 77,
   "id": "7ca8d055",
   "metadata": {},
   "outputs": [
    {
     "data": {
      "text/plain": [
       "['Rs. 7999Rs. 9999(20% OFF)',\n",
       " 'Rs. 7149Rs. 12999(45% OFF)',\n",
       " 'Rs. 8449Rs. 12999(35% OFF)']"
      ]
     },
     "execution_count": 77,
     "metadata": {},
     "output_type": "execute_result"
    }
   ],
   "source": [
    "#we will run for loop to iterate over the tags and will extract text\n",
    "price=[]\n",
    "\n",
    "for i in product_price:\n",
    "    price.append(i.text)\n",
    "len(price)\n",
    "price[0:3]"
   ]
  },
  {
   "cell_type": "markdown",
   "id": "b0f1876c",
   "metadata": {},
   "source": [
    "# Making Dataframe"
   ]
  },
  {
   "cell_type": "code",
   "execution_count": 78,
   "id": "2fadfede",
   "metadata": {},
   "outputs": [
    {
     "data": {
      "text/html": [
       "<div>\n",
       "<style scoped>\n",
       "    .dataframe tbody tr th:only-of-type {\n",
       "        vertical-align: middle;\n",
       "    }\n",
       "\n",
       "    .dataframe tbody tr th {\n",
       "        vertical-align: top;\n",
       "    }\n",
       "\n",
       "    .dataframe thead th {\n",
       "        text-align: right;\n",
       "    }\n",
       "</style>\n",
       "<table border=\"1\" class=\"dataframe\">\n",
       "  <thead>\n",
       "    <tr style=\"text-align: right;\">\n",
       "      <th></th>\n",
       "      <th>Brand Name</th>\n",
       "      <th>Short Shoe description</th>\n",
       "      <th>Shoe price</th>\n",
       "    </tr>\n",
       "  </thead>\n",
       "  <tbody>\n",
       "    <tr>\n",
       "      <th>0</th>\n",
       "      <td>PUMA Motorsport</td>\n",
       "      <td>Unisex Mercedes F1 Sneakers</td>\n",
       "      <td>Rs. 7999Rs. 9999(20% OFF)</td>\n",
       "    </tr>\n",
       "    <tr>\n",
       "      <th>1</th>\n",
       "      <td>Puma</td>\n",
       "      <td>Men Running Shoes</td>\n",
       "      <td>Rs. 7149Rs. 12999(45% OFF)</td>\n",
       "    </tr>\n",
       "    <tr>\n",
       "      <th>2</th>\n",
       "      <td>Puma</td>\n",
       "      <td>Men Magnify Nitro Running</td>\n",
       "      <td>Rs. 8449Rs. 12999(35% OFF)</td>\n",
       "    </tr>\n",
       "    <tr>\n",
       "      <th>3</th>\n",
       "      <td>Puma</td>\n",
       "      <td>Men Electrify Nitro Running</td>\n",
       "      <td>Rs. 7499Rs. 9999(25% OFF)</td>\n",
       "    </tr>\n",
       "    <tr>\n",
       "      <th>4</th>\n",
       "      <td>Saint G</td>\n",
       "      <td>Men Mid-Top Chelsea Boots</td>\n",
       "      <td>Rs. 9810Rs. 10900(10% OFF)</td>\n",
       "    </tr>\n",
       "    <tr>\n",
       "      <th>5</th>\n",
       "      <td>Puma</td>\n",
       "      <td>Women Magnify Nitro Shoes</td>\n",
       "      <td>Rs. 8449Rs. 12999(35% OFF)</td>\n",
       "    </tr>\n",
       "    <tr>\n",
       "      <th>6</th>\n",
       "      <td>RARE RABBIT</td>\n",
       "      <td>Men Leather Flat Boots</td>\n",
       "      <td>Rs. 7999Rs. 9999(20% OFF)</td>\n",
       "    </tr>\n",
       "    <tr>\n",
       "      <th>7</th>\n",
       "      <td>Cole Haan</td>\n",
       "      <td>Men GENERATION ZEROGRAND STITCHLITE</td>\n",
       "      <td>Rs. 11999</td>\n",
       "    </tr>\n",
       "    <tr>\n",
       "      <th>8</th>\n",
       "      <td>Calvin Klein</td>\n",
       "      <td>Men Solid Suede Sneakers</td>\n",
       "      <td>Rs. 7999</td>\n",
       "    </tr>\n",
       "    <tr>\n",
       "      <th>9</th>\n",
       "      <td>ASICS</td>\n",
       "      <td>Men Colourblocked PU Sneakers</td>\n",
       "      <td>Rs. 9999</td>\n",
       "    </tr>\n",
       "    <tr>\n",
       "      <th>10</th>\n",
       "      <td>Bugatti</td>\n",
       "      <td>Men Running Shoes</td>\n",
       "      <td>Rs. 7999Rs. 9999(20% OFF)</td>\n",
       "    </tr>\n",
       "    <tr>\n",
       "      <th>11</th>\n",
       "      <td>Bugatti</td>\n",
       "      <td>Men Textured Leather High-Top Flat Boots</td>\n",
       "      <td>Rs. 8399Rs. 11999(30% OFF)</td>\n",
       "    </tr>\n",
       "    <tr>\n",
       "      <th>12</th>\n",
       "      <td>Saint G</td>\n",
       "      <td>Men Leather Chelsea Boots</td>\n",
       "      <td>Rs. 10710Rs. 11900(10% OFF)</td>\n",
       "    </tr>\n",
       "    <tr>\n",
       "      <th>13</th>\n",
       "      <td>DAVINCHI</td>\n",
       "      <td>Men Solid Leather Formal Derbys</td>\n",
       "      <td>Rs. 8990</td>\n",
       "    </tr>\n",
       "    <tr>\n",
       "      <th>14</th>\n",
       "      <td>DAVINCHI</td>\n",
       "      <td>Men Textured Formal Leather Loafers</td>\n",
       "      <td>Rs. 8990</td>\n",
       "    </tr>\n",
       "    <tr>\n",
       "      <th>15</th>\n",
       "      <td>Geox</td>\n",
       "      <td>Men Leather Flat Boots</td>\n",
       "      <td>Rs. 8399Rs. 11999(30% OFF)</td>\n",
       "    </tr>\n",
       "    <tr>\n",
       "      <th>16</th>\n",
       "      <td>RARE RABBIT</td>\n",
       "      <td>Men Textured Leather Loafers</td>\n",
       "      <td>Rs. 7149Rs. 10999(35% OFF)</td>\n",
       "    </tr>\n",
       "    <tr>\n",
       "      <th>17</th>\n",
       "      <td>Saint G</td>\n",
       "      <td>Leather Wedge Heeled Boots with Buckles</td>\n",
       "      <td>Rs. 13410Rs. 14900(10% OFF)</td>\n",
       "    </tr>\n",
       "    <tr>\n",
       "      <th>18</th>\n",
       "      <td>Heel &amp; Buckle London</td>\n",
       "      <td>Men Formal Leather Derby</td>\n",
       "      <td>Rs. 7990</td>\n",
       "    </tr>\n",
       "    <tr>\n",
       "      <th>19</th>\n",
       "      <td>Saint G</td>\n",
       "      <td>Suede High-Top Flatform Heeled Boots</td>\n",
       "      <td>Rs. 12150Rs. 13500(10% OFF)</td>\n",
       "    </tr>\n",
       "    <tr>\n",
       "      <th>20</th>\n",
       "      <td>Saint G</td>\n",
       "      <td>Embellished Leather Block Heeled Boots</td>\n",
       "      <td>Rs. 9546Rs. 12900(26% OFF)</td>\n",
       "    </tr>\n",
       "    <tr>\n",
       "      <th>21</th>\n",
       "      <td>Puma</td>\n",
       "      <td>Women Velocity NITRO Runners</td>\n",
       "      <td>Rs. 7699Rs. 10999(30% OFF)</td>\n",
       "    </tr>\n",
       "    <tr>\n",
       "      <th>22</th>\n",
       "      <td>Geox</td>\n",
       "      <td>Women Leather Pumps</td>\n",
       "      <td>Rs. 8999</td>\n",
       "    </tr>\n",
       "    <tr>\n",
       "      <th>23</th>\n",
       "      <td>Columbia</td>\n",
       "      <td>PEAKFREAK OUTDRY Trekking Shoe</td>\n",
       "      <td>Rs. 9999</td>\n",
       "    </tr>\n",
       "    <tr>\n",
       "      <th>24</th>\n",
       "      <td>Bugatti</td>\n",
       "      <td>Men Black Walking Shoes</td>\n",
       "      <td>Rs. 7199Rs. 8999(20% OFF)</td>\n",
       "    </tr>\n",
       "    <tr>\n",
       "      <th>25</th>\n",
       "      <td>Tommy Hilfiger</td>\n",
       "      <td>Women Hybrid Leather Sneakers</td>\n",
       "      <td>Rs. 7999</td>\n",
       "    </tr>\n",
       "    <tr>\n",
       "      <th>26</th>\n",
       "      <td>Xtep</td>\n",
       "      <td>Men Running Shoes</td>\n",
       "      <td>Rs. 7699</td>\n",
       "    </tr>\n",
       "    <tr>\n",
       "      <th>27</th>\n",
       "      <td>J.FONTINI</td>\n",
       "      <td>Men Textured Leather Loafers</td>\n",
       "      <td>Rs. 7990</td>\n",
       "    </tr>\n",
       "    <tr>\n",
       "      <th>28</th>\n",
       "      <td>J.FONTINI</td>\n",
       "      <td>Men Textured Leather Loafers</td>\n",
       "      <td>Rs. 7990</td>\n",
       "    </tr>\n",
       "    <tr>\n",
       "      <th>29</th>\n",
       "      <td>J.FONTINI</td>\n",
       "      <td>Men Black Leather Loafers</td>\n",
       "      <td>Rs. 8490</td>\n",
       "    </tr>\n",
       "    <tr>\n",
       "      <th>30</th>\n",
       "      <td>Geox</td>\n",
       "      <td>Men Leather Loafers</td>\n",
       "      <td>Rs. 9999</td>\n",
       "    </tr>\n",
       "    <tr>\n",
       "      <th>31</th>\n",
       "      <td>DAVINCHI</td>\n",
       "      <td>Ustraa black</td>\n",
       "      <td>Rs. 8990</td>\n",
       "    </tr>\n",
       "    <tr>\n",
       "      <th>32</th>\n",
       "      <td>DAVINCHI</td>\n",
       "      <td>Men Formal Leather Slip-Ons</td>\n",
       "      <td>Rs. 8990</td>\n",
       "    </tr>\n",
       "    <tr>\n",
       "      <th>33</th>\n",
       "      <td>Louis Philippe</td>\n",
       "      <td>Men Leather Formal Slip-Ons</td>\n",
       "      <td>Rs. 8499</td>\n",
       "    </tr>\n",
       "    <tr>\n",
       "      <th>34</th>\n",
       "      <td>DAVINCHI</td>\n",
       "      <td>Men Textured Formal Leather Loafers</td>\n",
       "      <td>Rs. 8990</td>\n",
       "    </tr>\n",
       "    <tr>\n",
       "      <th>35</th>\n",
       "      <td>Geox</td>\n",
       "      <td>Women Solid Leather Pumps</td>\n",
       "      <td>Rs. 7999</td>\n",
       "    </tr>\n",
       "    <tr>\n",
       "      <th>36</th>\n",
       "      <td>Geox</td>\n",
       "      <td>Women Solid Leather Pumps</td>\n",
       "      <td>Rs. 10990</td>\n",
       "    </tr>\n",
       "    <tr>\n",
       "      <th>37</th>\n",
       "      <td>Pavers England</td>\n",
       "      <td>Men Leather Driving Shoes</td>\n",
       "      <td>Rs. 7499</td>\n",
       "    </tr>\n",
       "    <tr>\n",
       "      <th>38</th>\n",
       "      <td>Saint G</td>\n",
       "      <td>Women Leather Heeled Boots</td>\n",
       "      <td>Rs. 10710Rs. 11900(10% OFF)</td>\n",
       "    </tr>\n",
       "    <tr>\n",
       "      <th>39</th>\n",
       "      <td>Cole Haan</td>\n",
       "      <td>Women Open Toe Flats</td>\n",
       "      <td>Rs. 11999</td>\n",
       "    </tr>\n",
       "    <tr>\n",
       "      <th>40</th>\n",
       "      <td>Geox</td>\n",
       "      <td>Women Solid Leather Ballerinas</td>\n",
       "      <td>Rs. 8999</td>\n",
       "    </tr>\n",
       "    <tr>\n",
       "      <th>41</th>\n",
       "      <td>Cole Haan</td>\n",
       "      <td>Women Solid Leather Ballerinas</td>\n",
       "      <td>Rs. 13999</td>\n",
       "    </tr>\n",
       "    <tr>\n",
       "      <th>42</th>\n",
       "      <td>DAVINCHI</td>\n",
       "      <td>Men Textured Leather Formal Slip-Ons</td>\n",
       "      <td>Rs. 8990</td>\n",
       "    </tr>\n",
       "    <tr>\n",
       "      <th>43</th>\n",
       "      <td>Pavers England</td>\n",
       "      <td>Men Solid Leather Formal Loafers</td>\n",
       "      <td>Rs. 7999</td>\n",
       "    </tr>\n",
       "    <tr>\n",
       "      <th>44</th>\n",
       "      <td>Pavers England</td>\n",
       "      <td>Men Textured Leather Formal Slip-On Shoes</td>\n",
       "      <td>Rs. 9999</td>\n",
       "    </tr>\n",
       "    <tr>\n",
       "      <th>45</th>\n",
       "      <td>Saint G</td>\n",
       "      <td>Leather Block Heeled Boots</td>\n",
       "      <td>Rs. 8550Rs. 9500(Rs. 950 OFF)</td>\n",
       "    </tr>\n",
       "    <tr>\n",
       "      <th>46</th>\n",
       "      <td>Pavers England</td>\n",
       "      <td>Men Solid Leather Formal Derbys</td>\n",
       "      <td>Rs. 8999</td>\n",
       "    </tr>\n",
       "    <tr>\n",
       "      <th>47</th>\n",
       "      <td>Saint G</td>\n",
       "      <td>Leather Kitten Heeled Boots</td>\n",
       "      <td>Rs. 8910Rs. 9900(Rs. 990 OFF)</td>\n",
       "    </tr>\n",
       "    <tr>\n",
       "      <th>48</th>\n",
       "      <td>Saint G</td>\n",
       "      <td>Suede Party High-Top Block Heeled Boots</td>\n",
       "      <td>Rs. 9450Rs. 10500(10% OFF)</td>\n",
       "    </tr>\n",
       "    <tr>\n",
       "      <th>49</th>\n",
       "      <td>Saint G</td>\n",
       "      <td>Leather Block Heeled Boots with Bows</td>\n",
       "      <td>Rs. 12510Rs. 13900(10% OFF)</td>\n",
       "    </tr>\n",
       "  </tbody>\n",
       "</table>\n",
       "</div>"
      ],
      "text/plain": [
       "              Brand Name                     Short Shoe description  \\\n",
       "0        PUMA Motorsport                Unisex Mercedes F1 Sneakers   \n",
       "1                   Puma                          Men Running Shoes   \n",
       "2                   Puma                  Men Magnify Nitro Running   \n",
       "3                   Puma                Men Electrify Nitro Running   \n",
       "4                Saint G                  Men Mid-Top Chelsea Boots   \n",
       "5                   Puma                  Women Magnify Nitro Shoes   \n",
       "6            RARE RABBIT                     Men Leather Flat Boots   \n",
       "7              Cole Haan        Men GENERATION ZEROGRAND STITCHLITE   \n",
       "8           Calvin Klein                   Men Solid Suede Sneakers   \n",
       "9                  ASICS              Men Colourblocked PU Sneakers   \n",
       "10               Bugatti                          Men Running Shoes   \n",
       "11               Bugatti   Men Textured Leather High-Top Flat Boots   \n",
       "12               Saint G                  Men Leather Chelsea Boots   \n",
       "13              DAVINCHI            Men Solid Leather Formal Derbys   \n",
       "14              DAVINCHI        Men Textured Formal Leather Loafers   \n",
       "15                  Geox                     Men Leather Flat Boots   \n",
       "16           RARE RABBIT               Men Textured Leather Loafers   \n",
       "17               Saint G    Leather Wedge Heeled Boots with Buckles   \n",
       "18  Heel & Buckle London                   Men Formal Leather Derby   \n",
       "19               Saint G       Suede High-Top Flatform Heeled Boots   \n",
       "20               Saint G     Embellished Leather Block Heeled Boots   \n",
       "21                  Puma               Women Velocity NITRO Runners   \n",
       "22                  Geox                        Women Leather Pumps   \n",
       "23              Columbia             PEAKFREAK OUTDRY Trekking Shoe   \n",
       "24               Bugatti                    Men Black Walking Shoes   \n",
       "25        Tommy Hilfiger              Women Hybrid Leather Sneakers   \n",
       "26                  Xtep                          Men Running Shoes   \n",
       "27             J.FONTINI               Men Textured Leather Loafers   \n",
       "28             J.FONTINI               Men Textured Leather Loafers   \n",
       "29             J.FONTINI                  Men Black Leather Loafers   \n",
       "30                  Geox                        Men Leather Loafers   \n",
       "31              DAVINCHI                               Ustraa black   \n",
       "32              DAVINCHI                Men Formal Leather Slip-Ons   \n",
       "33        Louis Philippe                Men Leather Formal Slip-Ons   \n",
       "34              DAVINCHI        Men Textured Formal Leather Loafers   \n",
       "35                  Geox                  Women Solid Leather Pumps   \n",
       "36                  Geox                  Women Solid Leather Pumps   \n",
       "37        Pavers England                  Men Leather Driving Shoes   \n",
       "38               Saint G                 Women Leather Heeled Boots   \n",
       "39             Cole Haan                       Women Open Toe Flats   \n",
       "40                  Geox             Women Solid Leather Ballerinas   \n",
       "41             Cole Haan             Women Solid Leather Ballerinas   \n",
       "42              DAVINCHI       Men Textured Leather Formal Slip-Ons   \n",
       "43        Pavers England           Men Solid Leather Formal Loafers   \n",
       "44        Pavers England  Men Textured Leather Formal Slip-On Shoes   \n",
       "45               Saint G                 Leather Block Heeled Boots   \n",
       "46        Pavers England            Men Solid Leather Formal Derbys   \n",
       "47               Saint G                Leather Kitten Heeled Boots   \n",
       "48               Saint G    Suede Party High-Top Block Heeled Boots   \n",
       "49               Saint G       Leather Block Heeled Boots with Bows   \n",
       "\n",
       "                       Shoe price  \n",
       "0       Rs. 7999Rs. 9999(20% OFF)  \n",
       "1      Rs. 7149Rs. 12999(45% OFF)  \n",
       "2      Rs. 8449Rs. 12999(35% OFF)  \n",
       "3       Rs. 7499Rs. 9999(25% OFF)  \n",
       "4      Rs. 9810Rs. 10900(10% OFF)  \n",
       "5      Rs. 8449Rs. 12999(35% OFF)  \n",
       "6       Rs. 7999Rs. 9999(20% OFF)  \n",
       "7                       Rs. 11999  \n",
       "8                        Rs. 7999  \n",
       "9                        Rs. 9999  \n",
       "10      Rs. 7999Rs. 9999(20% OFF)  \n",
       "11     Rs. 8399Rs. 11999(30% OFF)  \n",
       "12    Rs. 10710Rs. 11900(10% OFF)  \n",
       "13                       Rs. 8990  \n",
       "14                       Rs. 8990  \n",
       "15     Rs. 8399Rs. 11999(30% OFF)  \n",
       "16     Rs. 7149Rs. 10999(35% OFF)  \n",
       "17    Rs. 13410Rs. 14900(10% OFF)  \n",
       "18                       Rs. 7990  \n",
       "19    Rs. 12150Rs. 13500(10% OFF)  \n",
       "20     Rs. 9546Rs. 12900(26% OFF)  \n",
       "21     Rs. 7699Rs. 10999(30% OFF)  \n",
       "22                       Rs. 8999  \n",
       "23                       Rs. 9999  \n",
       "24      Rs. 7199Rs. 8999(20% OFF)  \n",
       "25                       Rs. 7999  \n",
       "26                       Rs. 7699  \n",
       "27                       Rs. 7990  \n",
       "28                       Rs. 7990  \n",
       "29                       Rs. 8490  \n",
       "30                       Rs. 9999  \n",
       "31                       Rs. 8990  \n",
       "32                       Rs. 8990  \n",
       "33                       Rs. 8499  \n",
       "34                       Rs. 8990  \n",
       "35                       Rs. 7999  \n",
       "36                      Rs. 10990  \n",
       "37                       Rs. 7499  \n",
       "38    Rs. 10710Rs. 11900(10% OFF)  \n",
       "39                      Rs. 11999  \n",
       "40                       Rs. 8999  \n",
       "41                      Rs. 13999  \n",
       "42                       Rs. 8990  \n",
       "43                       Rs. 7999  \n",
       "44                       Rs. 9999  \n",
       "45  Rs. 8550Rs. 9500(Rs. 950 OFF)  \n",
       "46                       Rs. 8999  \n",
       "47  Rs. 8910Rs. 9900(Rs. 990 OFF)  \n",
       "48     Rs. 9450Rs. 10500(10% OFF)  \n",
       "49    Rs. 12510Rs. 13900(10% OFF)  "
      ]
     },
     "execution_count": 78,
     "metadata": {},
     "output_type": "execute_result"
    }
   ],
   "source": [
    "Shoe=pd.DataFrame()\n",
    "Shoe['Brand Name']=brand\n",
    "Shoe['Short Shoe description']=shoe_description\n",
    "Shoe['Shoe price']=price\n",
    "Shoe\n"
   ]
  },
  {
   "cell_type": "markdown",
   "id": "a560c228",
   "metadata": {},
   "source": [
    "# Q8)python program for scrap First 10 Laptop data."
   ]
  },
  {
   "cell_type": "markdown",
   "id": "936379f3",
   "metadata": {},
   "source": [
    "Go to webpage https://www.amazon.in/\n",
    "Enter “Laptop” in the search field and then click the search icon.\n",
    "Then set CPU Type filter to “Intel Core i7” and “Intel Core i9”\n",
    "After setting the filters scrape first 10 laptops data. You have to scrape 3 attributesfor each laptop:\n",
    "1. Title\n",
    "2. Ratings\n",
    "3. Price"
   ]
  },
  {
   "cell_type": "code",
   "execution_count": 36,
   "id": "1269c357",
   "metadata": {},
   "outputs": [],
   "source": [
    "#First connec to web driver\n",
    "driver=webdriver.Chrome(r'C:\\Users\\Dell\\Downloads\\chromedriver_win32\\chromedriver.exe')"
   ]
  },
  {
   "cell_type": "code",
   "execution_count": 37,
   "id": "0b91124b",
   "metadata": {},
   "outputs": [],
   "source": [
    "url='https://www.amazon.in/'\n",
    "\n",
    "driver.get(url)"
   ]
  },
  {
   "cell_type": "code",
   "execution_count": 40,
   "id": "b37f0d59",
   "metadata": {},
   "outputs": [
    {
     "data": {
      "text/plain": [
       "<selenium.webdriver.remote.webelement.WebElement (session=\"fe36ff81f7c7e862423169885c0da2df\", element=\"96c9798f-21a9-4f1a-8b51-fba7321fecd9\")>"
      ]
     },
     "execution_count": 40,
     "metadata": {},
     "output_type": "execute_result"
    }
   ],
   "source": [
    "#finding weblement for search bar using id\n",
    "search_product=driver.find_element_by_id(\"twotabsearchtextbox\")\n",
    "search_product"
   ]
  },
  {
   "cell_type": "code",
   "execution_count": 41,
   "id": "b440ea4c",
   "metadata": {},
   "outputs": [],
   "source": [
    "#write on search bar\n",
    "search_product.send_keys(\"Laptop\")"
   ]
  },
  {
   "cell_type": "code",
   "execution_count": 42,
   "id": "f7ea7c0a",
   "metadata": {},
   "outputs": [
    {
     "data": {
      "text/plain": [
       "<selenium.webdriver.remote.webelement.WebElement (session=\"fe36ff81f7c7e862423169885c0da2df\", element=\"38098b73-b3eb-42b3-b7c4-dfcc509bd71f\")>"
      ]
     },
     "execution_count": 42,
     "metadata": {},
     "output_type": "execute_result"
    }
   ],
   "source": [
    "#Clicking using relative xpath function\n",
    "search_button=driver.find_element_by_xpath(\"/html/body/div[1]/header/div/div[1]/div[2]/div/form/div[3]/div/span/input\")\n",
    "search_button"
   ]
  },
  {
   "cell_type": "code",
   "execution_count": 43,
   "id": "e57bec52",
   "metadata": {},
   "outputs": [],
   "source": [
    "search_button.click()"
   ]
  },
  {
   "cell_type": "markdown",
   "id": "2a98b477",
   "metadata": {},
   "source": [
    "Clicking filters by selecting check boxes using absolute xpath"
   ]
  },
  {
   "cell_type": "code",
   "execution_count": 44,
   "id": "c2dfc1a5",
   "metadata": {},
   "outputs": [
    {
     "data": {
      "text/plain": [
       "<selenium.webdriver.remote.webelement.WebElement (session=\"fe36ff81f7c7e862423169885c0da2df\", element=\"94e53b8b-4597-43ce-b57c-460dcc08a4d2\")>"
      ]
     },
     "execution_count": 44,
     "metadata": {},
     "output_type": "execute_result"
    }
   ],
   "source": [
    "Intel_Core_i7=driver.find_element_by_xpath('/html/body/div[1]/div[2]/div[1]/div[2]/div/div[3]/span/div[1]/span/div/div/div[6]/div/div/div[1]/div/span/a[2]/div/span')\n",
    "Intel_Core_i7\n"
   ]
  },
  {
   "cell_type": "markdown",
   "id": "7564ee47",
   "metadata": {},
   "source": [
    "Now first create 3 empty lists. In the lists the data will be stored while scrapping"
   ]
  },
  {
   "cell_type": "markdown",
   "id": "feaee6f4",
   "metadata": {},
   "source": [
    "# Extracting product titles"
   ]
  },
  {
   "cell_type": "code",
   "execution_count": 61,
   "id": "a177a3eb",
   "metadata": {},
   "outputs": [
    {
     "data": {
      "text/plain": [
       "29"
      ]
     },
     "execution_count": 61,
     "metadata": {},
     "output_type": "execute_result"
    }
   ],
   "source": [
    "#extract all web element having product titles\n",
    "product_titles=driver.find_elements_by_xpath('//h2[@class=\"a-size-mini a-spacing-none a-color-base s-line-clamp-4\"]')\n",
    "len(product_titles)\n",
    "\n"
   ]
  },
  {
   "cell_type": "code",
   "execution_count": 62,
   "id": "f502fec0",
   "metadata": {},
   "outputs": [
    {
     "data": {
      "text/plain": [
       "['Mi Notebook Horizon Edition 14 Intel Core i7-10510U 10th Gen Thin and Light Laptop(8GB/512GB SSD/Windows 10/Nvidia MX350 2GB Graphics/Grey/1.35Kg)(Without Webcam) XMA1904-AF',\n",
       " 'ASUS VivoBook 14 (2021), 14-inch (35.56 cms) FHD, Intel Core i7-1065G7 10th Gen, Thin and Light Laptop (16GB/512GB SSD/Integrated Graphics/Office 2021/Windows 11/Silver/1.6 Kg), X415JA-EK701WS',\n",
       " 'MSI GF75 Thin Gaming, Intel i7-10750H, 17.3\" (43.9 cm) FHD IPS-Level 144Hz Panel Laptop (8GB/512GB NVMe SSD/Windows 10 Home/Nvidia GTX1650 4GB GDDR6/Black/2.2Kg), 10SCXR-654IN',\n",
       " 'Acer Nitro 5 AN515-57 Gaming Laptop | Intel Core i7-11800H |NVIDIA GeForce RTX 3050 Ti Laptop Graphics |15.6\" FHD 144Hz IPS Display |16GB DDR4 |256GB SSD+1TB HDD |Killer Wi-Fi 6 |RGB Backlit Keyboard',\n",
       " 'Mi Notebook Horizon Edition 14 Intel Core i7-10510U 10th Gen Thin and Light Laptop(8GB/512GB SSD/Windows 10/Nvidia MX350 2GB Graphics/Grey/1.35Kg)(Without Webcam) XMA1904-AF',\n",
       " 'ASUS VivoBook 14 (2021), 14-inch (35.56 cms) FHD, Intel Core i7-1065G7 10th Gen, Thin and Light Laptop (16GB/512GB SSD/Integrated Graphics/Office 2021/Windows 11/Silver/1.6 Kg), X415JA-EK701WS',\n",
       " 'Lenovo ThinkBook 13s Intel 11th Gen Core i7 13.3\"(33.78 cm) WQXGA IPS 300 nits 100% sRGB Dolby Vision Thin and Light Laptop (16GB/512GB SSD/Windows 10/MS Office/FPR/Mineral Grey/1.26 Kg), 20V9A05FIH',\n",
       " 'Dell 14 (2021) i7-1195G7 2in1 Touch Screen Laptop, 16GB, 512Gb SSD, Win 11 + MSO\\'21, 14\" (35.56 cms) FHD, Platinum Silver Color, FPR + Backlit KB & Active Pen (Inspiron 5410, D560629WIN9S)',\n",
       " 'Fujitsu UH-X 11th Gen Intel i7 Core 13.3” (33.78cm) FHD IPS 400Nits Thin & Light Laptop (16GB/512GB SSD/Windows 11/Office 2021/Iris Xe Graphics/Backlit Kb/ Fingerprint Reader/Black/878gms), 4ZR1F38024',\n",
       " 'HP Pavilion x360 11th Gen Intel Core i7-16GB RAM/512GB SSD 14-inch(35.6 cm) FHD, IPS, Convertible Laptop (B&O/Win 11/Backlit keyboard/FPR/ Alexa-Built in/MS Office/Natural Silver/1.52 Kg) -14-dy1013TU']"
      ]
     },
     "execution_count": 62,
     "metadata": {},
     "output_type": "execute_result"
    }
   ],
   "source": [
    "#we will run for loop to iterate over the tags and will extract text\n",
    "titles=[]\n",
    "\n",
    "for i in product_titles[:10]:\n",
    "    titles.append(i.text)\n",
    "len(titles)\n",
    "titles\n"
   ]
  },
  {
   "cell_type": "markdown",
   "id": "6451943d",
   "metadata": {},
   "source": [
    "# Extracting product rating"
   ]
  },
  {
   "cell_type": "code",
   "execution_count": 107,
   "id": "cc6f3ebc",
   "metadata": {},
   "outputs": [
    {
     "data": {
      "text/plain": [
       "26"
      ]
     },
     "execution_count": 107,
     "metadata": {},
     "output_type": "execute_result"
    }
   ],
   "source": [
    "#extract all web element having product rating\n",
    "product_rating=driver.find_elements_by_xpath('//span[@class=\"a-icon-alt\"]')\n",
    "len(product_rating)\n"
   ]
  },
  {
   "cell_type": "code",
   "execution_count": 108,
   "id": "ecbc53f3",
   "metadata": {},
   "outputs": [
    {
     "data": {
      "text/plain": [
       "['', '', '', '', '', '', '', '', '', '']"
      ]
     },
     "execution_count": 108,
     "metadata": {},
     "output_type": "execute_result"
    }
   ],
   "source": [
    "#we will run for loop to iterate over the tags and will extract text\n",
    "rating=[]\n",
    "\n",
    "for i in product_rating[:10]:\n",
    "    rating.append(i.text)\n",
    "len(rating)\n",
    "rating"
   ]
  },
  {
   "cell_type": "markdown",
   "id": "10ff4d04",
   "metadata": {},
   "source": [
    "# Extracting product price"
   ]
  },
  {
   "cell_type": "code",
   "execution_count": 100,
   "id": "5f0424c6",
   "metadata": {},
   "outputs": [
    {
     "data": {
      "text/plain": [
       "27"
      ]
     },
     "execution_count": 100,
     "metadata": {},
     "output_type": "execute_result"
    }
   ],
   "source": [
    "#extract all web element having product price\n",
    "product_price=driver.find_elements_by_xpath('//span[@class=\"a-price\"]')\n",
    "len(product_price)\n"
   ]
  },
  {
   "cell_type": "code",
   "execution_count": 101,
   "id": "e9a6648b",
   "metadata": {},
   "outputs": [
    {
     "data": {
      "text/plain": [
       "['₹49,990',\n",
       " '₹59,990',\n",
       " '₹69,990',\n",
       " '₹89,490',\n",
       " '₹49,990',\n",
       " '₹59,990',\n",
       " '₹79,990',\n",
       " '₹88,890',\n",
       " '₹87,490',\n",
       " '₹84,990']"
      ]
     },
     "execution_count": 101,
     "metadata": {},
     "output_type": "execute_result"
    }
   ],
   "source": [
    "price=[]\n",
    "\n",
    "for i in product_price[:10]:\n",
    "    price.append(i.text)\n",
    "len(price)\n",
    "price\n"
   ]
  },
  {
   "cell_type": "markdown",
   "id": "b9c698fd",
   "metadata": {},
   "source": [
    "# Making Dataframe Intel Core i7"
   ]
  },
  {
   "cell_type": "code",
   "execution_count": 109,
   "id": "8f23879f",
   "metadata": {},
   "outputs": [
    {
     "data": {
      "text/html": [
       "<div>\n",
       "<style scoped>\n",
       "    .dataframe tbody tr th:only-of-type {\n",
       "        vertical-align: middle;\n",
       "    }\n",
       "\n",
       "    .dataframe tbody tr th {\n",
       "        vertical-align: top;\n",
       "    }\n",
       "\n",
       "    .dataframe thead th {\n",
       "        text-align: right;\n",
       "    }\n",
       "</style>\n",
       "<table border=\"1\" class=\"dataframe\">\n",
       "  <thead>\n",
       "    <tr style=\"text-align: right;\">\n",
       "      <th></th>\n",
       "      <th>Product Tilte</th>\n",
       "      <th>Product Rating</th>\n",
       "      <th>Product Price</th>\n",
       "    </tr>\n",
       "  </thead>\n",
       "  <tbody>\n",
       "    <tr>\n",
       "      <th>0</th>\n",
       "      <td>Mi Notebook Horizon Edition 14 Intel Core i7-1...</td>\n",
       "      <td></td>\n",
       "      <td>₹49,990</td>\n",
       "    </tr>\n",
       "    <tr>\n",
       "      <th>1</th>\n",
       "      <td>ASUS VivoBook 14 (2021), 14-inch (35.56 cms) F...</td>\n",
       "      <td></td>\n",
       "      <td>₹59,990</td>\n",
       "    </tr>\n",
       "    <tr>\n",
       "      <th>2</th>\n",
       "      <td>MSI GF75 Thin Gaming, Intel i7-10750H, 17.3\" (...</td>\n",
       "      <td></td>\n",
       "      <td>₹69,990</td>\n",
       "    </tr>\n",
       "    <tr>\n",
       "      <th>3</th>\n",
       "      <td>Acer Nitro 5 AN515-57 Gaming Laptop | Intel Co...</td>\n",
       "      <td></td>\n",
       "      <td>₹89,490</td>\n",
       "    </tr>\n",
       "    <tr>\n",
       "      <th>4</th>\n",
       "      <td>Mi Notebook Horizon Edition 14 Intel Core i7-1...</td>\n",
       "      <td></td>\n",
       "      <td>₹49,990</td>\n",
       "    </tr>\n",
       "    <tr>\n",
       "      <th>5</th>\n",
       "      <td>ASUS VivoBook 14 (2021), 14-inch (35.56 cms) F...</td>\n",
       "      <td></td>\n",
       "      <td>₹59,990</td>\n",
       "    </tr>\n",
       "    <tr>\n",
       "      <th>6</th>\n",
       "      <td>Lenovo ThinkBook 13s Intel 11th Gen Core i7 13...</td>\n",
       "      <td></td>\n",
       "      <td>₹79,990</td>\n",
       "    </tr>\n",
       "    <tr>\n",
       "      <th>7</th>\n",
       "      <td>Dell 14 (2021) i7-1195G7 2in1 Touch Screen Lap...</td>\n",
       "      <td></td>\n",
       "      <td>₹88,890</td>\n",
       "    </tr>\n",
       "    <tr>\n",
       "      <th>8</th>\n",
       "      <td>Fujitsu UH-X 11th Gen Intel i7 Core 13.3” (33....</td>\n",
       "      <td></td>\n",
       "      <td>₹87,490</td>\n",
       "    </tr>\n",
       "    <tr>\n",
       "      <th>9</th>\n",
       "      <td>HP Pavilion x360 11th Gen Intel Core i7-16GB R...</td>\n",
       "      <td></td>\n",
       "      <td>₹84,990</td>\n",
       "    </tr>\n",
       "  </tbody>\n",
       "</table>\n",
       "</div>"
      ],
      "text/plain": [
       "                                       Product Tilte Product Rating  \\\n",
       "0  Mi Notebook Horizon Edition 14 Intel Core i7-1...                  \n",
       "1  ASUS VivoBook 14 (2021), 14-inch (35.56 cms) F...                  \n",
       "2  MSI GF75 Thin Gaming, Intel i7-10750H, 17.3\" (...                  \n",
       "3  Acer Nitro 5 AN515-57 Gaming Laptop | Intel Co...                  \n",
       "4  Mi Notebook Horizon Edition 14 Intel Core i7-1...                  \n",
       "5  ASUS VivoBook 14 (2021), 14-inch (35.56 cms) F...                  \n",
       "6  Lenovo ThinkBook 13s Intel 11th Gen Core i7 13...                  \n",
       "7  Dell 14 (2021) i7-1195G7 2in1 Touch Screen Lap...                  \n",
       "8  Fujitsu UH-X 11th Gen Intel i7 Core 13.3” (33....                  \n",
       "9  HP Pavilion x360 11th Gen Intel Core i7-16GB R...                  \n",
       "\n",
       "  Product Price  \n",
       "0       ₹49,990  \n",
       "1       ₹59,990  \n",
       "2       ₹69,990  \n",
       "3       ₹89,490  \n",
       "4       ₹49,990  \n",
       "5       ₹59,990  \n",
       "6       ₹79,990  \n",
       "7       ₹88,890  \n",
       "8       ₹87,490  \n",
       "9       ₹84,990  "
      ]
     },
     "execution_count": 109,
     "metadata": {},
     "output_type": "execute_result"
    }
   ],
   "source": [
    "laptop=pd.DataFrame()\n",
    "laptop['Product Tilte']=titles\n",
    "laptop['Product Rating']=rating\n",
    "laptop['Product Price']=price\n",
    "laptop\n"
   ]
  },
  {
   "cell_type": "markdown",
   "id": "a7554135",
   "metadata": {},
   "source": [
    "Clicking filters by selecting check boxes using absolute xpath"
   ]
  },
  {
   "cell_type": "code",
   "execution_count": 60,
   "id": "bab6a957",
   "metadata": {},
   "outputs": [
    {
     "data": {
      "text/plain": [
       "<selenium.webdriver.remote.webelement.WebElement (session=\"fe36ff81f7c7e862423169885c0da2df\", element=\"52e2a745-dbb7-425f-96f9-fa250674d957\")>"
      ]
     },
     "execution_count": 60,
     "metadata": {},
     "output_type": "execute_result"
    }
   ],
   "source": [
    "Intel_Core_i9=driver.find_element_by_xpath('/html/body/div[1]/div[2]/div[1]/div[2]/div/div[3]/span/div[1]/span/div/div/div[6]/div/div/div[1]/div/span/a/div/span')\n",
    "Intel_Core_i9"
   ]
  },
  {
   "cell_type": "markdown",
   "id": "38d4fbda",
   "metadata": {},
   "source": [
    "Now first create 3 empty lists. In the lists the data will be stored while scrapping"
   ]
  },
  {
   "cell_type": "markdown",
   "id": "ab22a2ae",
   "metadata": {},
   "source": [
    "# Extracting product titles"
   ]
  },
  {
   "cell_type": "code",
   "execution_count": 113,
   "id": "37df3909",
   "metadata": {},
   "outputs": [
    {
     "data": {
      "text/plain": [
       "[<selenium.webdriver.remote.webelement.WebElement (session=\"fe36ff81f7c7e862423169885c0da2df\", element=\"7ad5e15a-22d7-42bf-b601-499996a4d7a1\")>,\n",
       " <selenium.webdriver.remote.webelement.WebElement (session=\"fe36ff81f7c7e862423169885c0da2df\", element=\"f2176a52-ad5c-414b-a45f-930b25f36aed\")>,\n",
       " <selenium.webdriver.remote.webelement.WebElement (session=\"fe36ff81f7c7e862423169885c0da2df\", element=\"3bcfd20c-f8d0-4393-97cf-febb70f96a01\")>]"
      ]
     },
     "execution_count": 113,
     "metadata": {},
     "output_type": "execute_result"
    }
   ],
   "source": [
    "#extract all web element having product title\n",
    "product_title=driver.find_elements_by_xpath('//span[@class=\"a-size-base-plus a-color-base a-text-normal\"]')\n",
    "len(product_title)\n",
    "product_title[0:3]"
   ]
  },
  {
   "cell_type": "code",
   "execution_count": 114,
   "id": "8950e8ed",
   "metadata": {},
   "outputs": [
    {
     "data": {
      "text/plain": [
       "['ASUS TUF Gaming F15 (2021), 15.6-inch (39.62 cms) FHD 240Hz/3ms, Intel Core i9-11900H 11th Gen, RTX 3060 6GB Graphics Gaming Laptop (16GB/1TB SSD/Office 2019/Windows 10/Black/2.3 kg), FX506HM-AZ099TS',\n",
       " 'ASUS TUF Gaming F15 (2021), 15.6\" (39.62 cms) FHD 240Hz, Intel Core i9-11900H 11th Gen, GeForce RTX 3060 6GB Graphics, Gaming Laptop(16GB/1TB SSD/Office 2019/Windows 10/Gray/2.3 Kg), FX566HM-AZ096TS',\n",
       " 'ASUS TUF Gaming F15 (2021), 15.6-inch (39.62 cms) FHD 144Hz, Intel Core i9-11900H 11th Gen, RTX 3060 6GB Graphics Gaming Laptop (16GB RAM/1TB SSD/Office 2019/Windows 10/Gray/2.3 kg), FX566HM-HN097TS',\n",
       " 'Lenovo Legion 7 10th Gen Intel Core i9 15.6 inch Full HD Gaming Laptop (16GB/1TB SSD/Windows 10/MS Office 2019/144 Hz/NVIDIA RTX 2080 8GB GDDR6 Graphics/Slate Grey/2.25Kg), 81YU006HIN',\n",
       " 'ASUS ROG Strix Scar III G531GW 15.6\" FHD 240Hz Gaming Laptop RTX 2070 8GB Graphics (Core i9-9880H 9th Gen/32GB RAM/1TB PCIe SSD/Windows 10/Scar Gunmetal/2.57 Kg), G531GW-AZ113T',\n",
       " '(Renewed) Dell G7 7500 15.6inch FHD 300 Hz Display Gaming Laptop (10th Gen i9-10885H / 16 GB / 1TB SSD / NVIDIA RTX 2070 8GB Graphics / 1Yr Premium Warranty / Win 10 + MS Office H&S 2019) D560233WIN9B, Black',\n",
       " 'Dell Precision 5550 || i9 -10885H || 16GB || 1TB NVMe || T2000 4 GB || Win 10 Pro (Free Upgrade Win 11Pro) / 15.6 FHD+ / 3 Year ADP',\n",
       " 'HP ZBOOK Power G8/ Intel core i9-11900H 8 Core/32GB DDR4 3200 RAM/1TB PCIe NVMe TLC SSD /15.6” FHD /Nvidia Quadro T1200 Dedicated Graphics 4GB DDR6 /Windows 10 Pro / 3 Year Warranty',\n",
       " 'Z2 G5 Workstation 700W /Core i9-10900 (2.8GHz 10C) /16GB RAM/512GB SSD+1TB SATA/Nvidia RTX 3070 8GB Graphics/DVDRW/Windows 10 Pro/3 Year Warranty']"
      ]
     },
     "execution_count": 114,
     "metadata": {},
     "output_type": "execute_result"
    }
   ],
   "source": [
    "#we will run for loop to iterate over the tags and will extract text\n",
    "title=[]\n",
    "\n",
    "for i in product_title[:9]:\n",
    "    title.append(i.text)\n",
    "len(title)\n",
    "title"
   ]
  },
  {
   "cell_type": "markdown",
   "id": "1a670479",
   "metadata": {},
   "source": [
    "# Extracting product rating"
   ]
  },
  {
   "cell_type": "code",
   "execution_count": 178,
   "id": "4609fbd1",
   "metadata": {},
   "outputs": [
    {
     "data": {
      "text/plain": [
       "6"
      ]
     },
     "execution_count": 178,
     "metadata": {},
     "output_type": "execute_result"
    }
   ],
   "source": [
    "#extract all web element having product rating\n",
    "product_ratings1=driver.find_elements_by_xpath('//span[@class=\"a-icon-alt\"]')\n",
    "len(product_ratings1)"
   ]
  },
  {
   "cell_type": "code",
   "execution_count": 179,
   "id": "993728f3",
   "metadata": {},
   "outputs": [
    {
     "data": {
      "text/plain": [
       "['', '', '', '', '', '']"
      ]
     },
     "execution_count": 179,
     "metadata": {},
     "output_type": "execute_result"
    }
   ],
   "source": [
    "#we will run for loop to iterate over the tags and will extract text\n",
    "ratings1=[]\n",
    "\n",
    "for i in product_ratings1[:10]:\n",
    "    ratings1.append(i.text)\n",
    "len(ratings1)\n",
    "ratings1"
   ]
  },
  {
   "cell_type": "markdown",
   "id": "a88a9206",
   "metadata": {},
   "source": [
    "# Extracting product price"
   ]
  },
  {
   "cell_type": "code",
   "execution_count": 167,
   "id": "e055e5c8",
   "metadata": {},
   "outputs": [
    {
     "data": {
      "text/plain": [
       "10"
      ]
     },
     "execution_count": 167,
     "metadata": {},
     "output_type": "execute_result"
    }
   ],
   "source": [
    "#extract all web element having product price\n",
    "product_price1=driver.find_elements_by_xpath('//span[@class=\"a-price-whole\"]')\n",
    "len(product_price1)"
   ]
  },
  {
   "cell_type": "code",
   "execution_count": 168,
   "id": "bcbcd457",
   "metadata": {},
   "outputs": [
    {
     "data": {
      "text/plain": [
       "['1,43,990',\n",
       " '1,44,990',\n",
       " '1,39,990',\n",
       " '2,65,999',\n",
       " '1,89,000',\n",
       " '2,25,000',\n",
       " '2,00,000',\n",
       " '2,45,000',\n",
       " '2,39,000']"
      ]
     },
     "execution_count": 168,
     "metadata": {},
     "output_type": "execute_result"
    }
   ],
   "source": [
    "price1=[]\n",
    "\n",
    "for i in product_price1[:9]:\n",
    "    price1.append(i.text)\n",
    "len(price1)\n",
    "price1"
   ]
  },
  {
   "cell_type": "markdown",
   "id": "f6bbc5e0",
   "metadata": {},
   "source": [
    "# Making Dataframe Intel Core i9"
   ]
  },
  {
   "cell_type": "code",
   "execution_count": 181,
   "id": "df913657",
   "metadata": {},
   "outputs": [
    {
     "data": {
      "text/html": [
       "<div>\n",
       "<style scoped>\n",
       "    .dataframe tbody tr th:only-of-type {\n",
       "        vertical-align: middle;\n",
       "    }\n",
       "\n",
       "    .dataframe tbody tr th {\n",
       "        vertical-align: top;\n",
       "    }\n",
       "\n",
       "    .dataframe thead th {\n",
       "        text-align: right;\n",
       "    }\n",
       "</style>\n",
       "<table border=\"1\" class=\"dataframe\">\n",
       "  <thead>\n",
       "    <tr style=\"text-align: right;\">\n",
       "      <th></th>\n",
       "      <th>Product Tilte</th>\n",
       "      <th>Product Price</th>\n",
       "    </tr>\n",
       "  </thead>\n",
       "  <tbody>\n",
       "    <tr>\n",
       "      <th>0</th>\n",
       "      <td>ASUS TUF Gaming F15 (2021), 15.6-inch (39.62 c...</td>\n",
       "      <td>1,43,990</td>\n",
       "    </tr>\n",
       "    <tr>\n",
       "      <th>1</th>\n",
       "      <td>ASUS TUF Gaming F15 (2021), 15.6\" (39.62 cms) ...</td>\n",
       "      <td>1,44,990</td>\n",
       "    </tr>\n",
       "    <tr>\n",
       "      <th>2</th>\n",
       "      <td>ASUS TUF Gaming F15 (2021), 15.6-inch (39.62 c...</td>\n",
       "      <td>1,39,990</td>\n",
       "    </tr>\n",
       "    <tr>\n",
       "      <th>3</th>\n",
       "      <td>Lenovo Legion 7 10th Gen Intel Core i9 15.6 in...</td>\n",
       "      <td>2,65,999</td>\n",
       "    </tr>\n",
       "    <tr>\n",
       "      <th>4</th>\n",
       "      <td>ASUS ROG Strix Scar III G531GW 15.6\" FHD 240Hz...</td>\n",
       "      <td>1,89,000</td>\n",
       "    </tr>\n",
       "    <tr>\n",
       "      <th>5</th>\n",
       "      <td>(Renewed) Dell G7 7500 15.6inch FHD 300 Hz Dis...</td>\n",
       "      <td>2,25,000</td>\n",
       "    </tr>\n",
       "    <tr>\n",
       "      <th>6</th>\n",
       "      <td>Dell Precision 5550 || i9 -10885H || 16GB || 1...</td>\n",
       "      <td>2,00,000</td>\n",
       "    </tr>\n",
       "    <tr>\n",
       "      <th>7</th>\n",
       "      <td>HP ZBOOK Power G8/ Intel core i9-11900H 8 Core...</td>\n",
       "      <td>2,45,000</td>\n",
       "    </tr>\n",
       "    <tr>\n",
       "      <th>8</th>\n",
       "      <td>Z2 G5 Workstation 700W /Core i9-10900 (2.8GHz ...</td>\n",
       "      <td>2,39,000</td>\n",
       "    </tr>\n",
       "  </tbody>\n",
       "</table>\n",
       "</div>"
      ],
      "text/plain": [
       "                                       Product Tilte Product Price\n",
       "0  ASUS TUF Gaming F15 (2021), 15.6-inch (39.62 c...      1,43,990\n",
       "1  ASUS TUF Gaming F15 (2021), 15.6\" (39.62 cms) ...      1,44,990\n",
       "2  ASUS TUF Gaming F15 (2021), 15.6-inch (39.62 c...      1,39,990\n",
       "3  Lenovo Legion 7 10th Gen Intel Core i9 15.6 in...      2,65,999\n",
       "4  ASUS ROG Strix Scar III G531GW 15.6\" FHD 240Hz...      1,89,000\n",
       "5  (Renewed) Dell G7 7500 15.6inch FHD 300 Hz Dis...      2,25,000\n",
       "6  Dell Precision 5550 || i9 -10885H || 16GB || 1...      2,00,000\n",
       "7  HP ZBOOK Power G8/ Intel core i9-11900H 8 Core...      2,45,000\n",
       "8  Z2 G5 Workstation 700W /Core i9-10900 (2.8GHz ...      2,39,000"
      ]
     },
     "execution_count": 181,
     "metadata": {},
     "output_type": "execute_result"
    }
   ],
   "source": [
    "laptopi9=pd.DataFrame()\n",
    "laptopi9['Product Tilte']=title\n",
    "#laptopi9['Product Rating']=ratings\n",
    "laptopi9['Product Price']=price1\n",
    "laptopi9"
   ]
  },
  {
   "cell_type": "markdown",
   "id": "54bc4f79",
   "metadata": {},
   "source": [
    "# Q9) python program to scrape data for first 10 job results for Data Scientist Designation in Noida location."
   ]
  },
  {
   "cell_type": "markdown",
   "id": "6f29a857",
   "metadata": {},
   "source": [
    "You have to scrape company name, No. of days ago when job was posted, Rating of the company.\n",
    "This task will be done in following steps:\n",
    "1. First get the webpage https://www.ambitionbox.com/\n",
    "2. Click on the Job option as shown in the image\n",
    "3. After reaching to the next webpage, In place of “Search by Designations, Companies, Skills” enter\n",
    "“Data Scientist” and click on search button.\n",
    "4. You will reach to the following web page click on location and in place of “Search location” enter\n",
    "“Noida” and select location “Noida”."
   ]
  },
  {
   "cell_type": "code",
   "execution_count": 3,
   "id": "bab05348",
   "metadata": {},
   "outputs": [],
   "source": [
    "#First connect to web driver\n",
    "driver=webdriver.Chrome(r'C:\\Users\\Dell\\Downloads\\chromedriver_win32\\chromedriver.exe')"
   ]
  },
  {
   "cell_type": "code",
   "execution_count": 4,
   "id": "b51e388f",
   "metadata": {},
   "outputs": [],
   "source": [
    "url='https://www.ambitionbox.com/'\n",
    "\n",
    "driver.get(url)"
   ]
  },
  {
   "cell_type": "code",
   "execution_count": 7,
   "id": "d0f130a0",
   "metadata": {},
   "outputs": [
    {
     "data": {
      "text/plain": [
       "<selenium.webdriver.remote.webelement.WebElement (session=\"6929d7054c02fbe4c8ce8f88ee868369\", element=\"f531d04b-08c8-440a-a90d-650cc377d94d\")>"
      ]
     },
     "execution_count": 7,
     "metadata": {},
     "output_type": "execute_result"
    }
   ],
   "source": [
    "#finding web element for search bar using class name\n",
    "search_role=driver.find_element_by_class_name(\"twitter-typeahead\")\n",
    "search_role"
   ]
  },
  {
   "cell_type": "code",
   "execution_count": 8,
   "id": "03d9bd96",
   "metadata": {},
   "outputs": [
    {
     "ename": "ElementNotInteractableException",
     "evalue": "Message: element not interactable\n  (Session info: chrome=97.0.4692.71)\nStacktrace:\nBacktrace:\n\tOrdinal0 [0x00E0FDC3+2555331]\n\tOrdinal0 [0x00DA77F1+2127857]\n\tOrdinal0 [0x00CA2CD0+1060048]\n\tOrdinal0 [0x00CC99F3+1219059]\n\tOrdinal0 [0x00CC913F+1216831]\n\tOrdinal0 [0x00CE7B0C+1342220]\n\tOrdinal0 [0x00CC4984+1198468]\n\tOrdinal0 [0x00CE7C14+1342484]\n\tOrdinal0 [0x00CF75FA+1406458]\n\tOrdinal0 [0x00CE7976+1341814]\n\tOrdinal0 [0x00CC36B6+1193654]\n\tOrdinal0 [0x00CC4546+1197382]\n\tGetHandleVerifier [0x00FA9622+1619522]\n\tGetHandleVerifier [0x0105882C+2336844]\n\tGetHandleVerifier [0x00EA23E1+541697]\n\tGetHandleVerifier [0x00EA1443+537699]\n\tOrdinal0 [0x00DAD18E+2150798]\n\tOrdinal0 [0x00DB1518+2168088]\n\tOrdinal0 [0x00DB1660+2168416]\n\tOrdinal0 [0x00DBB330+2208560]\n\tBaseThreadInitThunk [0x75D2FA29+25]\n\tRtlGetAppContainerNamedObjectPath [0x76EF7A9E+286]\n\tRtlGetAppContainerNamedObjectPath [0x76EF7A6E+238]\n",
     "output_type": "error",
     "traceback": [
      "\u001b[1;31m---------------------------------------------------------------------------\u001b[0m",
      "\u001b[1;31mElementNotInteractableException\u001b[0m           Traceback (most recent call last)",
      "\u001b[1;32m<ipython-input-8-0ec045af24bf>\u001b[0m in \u001b[0;36m<module>\u001b[1;34m\u001b[0m\n\u001b[0;32m      1\u001b[0m \u001b[1;31m#write on search bar\u001b[0m\u001b[1;33m\u001b[0m\u001b[1;33m\u001b[0m\u001b[1;33m\u001b[0m\u001b[0m\n\u001b[1;32m----> 2\u001b[1;33m \u001b[0msearch_role\u001b[0m\u001b[1;33m.\u001b[0m\u001b[0msend_keys\u001b[0m\u001b[1;33m(\u001b[0m\u001b[1;34m\"Data Scientist\"\u001b[0m\u001b[1;33m)\u001b[0m\u001b[1;33m\u001b[0m\u001b[1;33m\u001b[0m\u001b[0m\n\u001b[0m",
      "\u001b[1;32m~\\anaconda3\\lib\\site-packages\\selenium\\webdriver\\remote\\webelement.py\u001b[0m in \u001b[0;36msend_keys\u001b[1;34m(self, *value)\u001b[0m\n\u001b[0;32m    538\u001b[0m                 \u001b[0mvalue\u001b[0m \u001b[1;33m=\u001b[0m \u001b[1;34m'\\n'\u001b[0m\u001b[1;33m.\u001b[0m\u001b[0mjoin\u001b[0m\u001b[1;33m(\u001b[0m\u001b[0mremote_files\u001b[0m\u001b[1;33m)\u001b[0m\u001b[1;33m\u001b[0m\u001b[1;33m\u001b[0m\u001b[0m\n\u001b[0;32m    539\u001b[0m \u001b[1;33m\u001b[0m\u001b[0m\n\u001b[1;32m--> 540\u001b[1;33m         self._execute(Command.SEND_KEYS_TO_ELEMENT,\n\u001b[0m\u001b[0;32m    541\u001b[0m                       {'text': \"\".join(keys_to_typing(value)),\n\u001b[0;32m    542\u001b[0m                        'value': keys_to_typing(value)})\n",
      "\u001b[1;32m~\\anaconda3\\lib\\site-packages\\selenium\\webdriver\\remote\\webelement.py\u001b[0m in \u001b[0;36m_execute\u001b[1;34m(self, command, params)\u001b[0m\n\u001b[0;32m    708\u001b[0m             \u001b[0mparams\u001b[0m \u001b[1;33m=\u001b[0m \u001b[1;33m{\u001b[0m\u001b[1;33m}\u001b[0m\u001b[1;33m\u001b[0m\u001b[1;33m\u001b[0m\u001b[0m\n\u001b[0;32m    709\u001b[0m         \u001b[0mparams\u001b[0m\u001b[1;33m[\u001b[0m\u001b[1;34m'id'\u001b[0m\u001b[1;33m]\u001b[0m \u001b[1;33m=\u001b[0m \u001b[0mself\u001b[0m\u001b[1;33m.\u001b[0m\u001b[0m_id\u001b[0m\u001b[1;33m\u001b[0m\u001b[1;33m\u001b[0m\u001b[0m\n\u001b[1;32m--> 710\u001b[1;33m         \u001b[1;32mreturn\u001b[0m \u001b[0mself\u001b[0m\u001b[1;33m.\u001b[0m\u001b[0m_parent\u001b[0m\u001b[1;33m.\u001b[0m\u001b[0mexecute\u001b[0m\u001b[1;33m(\u001b[0m\u001b[0mcommand\u001b[0m\u001b[1;33m,\u001b[0m \u001b[0mparams\u001b[0m\u001b[1;33m)\u001b[0m\u001b[1;33m\u001b[0m\u001b[1;33m\u001b[0m\u001b[0m\n\u001b[0m\u001b[0;32m    711\u001b[0m \u001b[1;33m\u001b[0m\u001b[0m\n\u001b[0;32m    712\u001b[0m     \u001b[1;32mdef\u001b[0m \u001b[0mfind_element\u001b[0m\u001b[1;33m(\u001b[0m\u001b[0mself\u001b[0m\u001b[1;33m,\u001b[0m \u001b[0mby\u001b[0m\u001b[1;33m=\u001b[0m\u001b[0mBy\u001b[0m\u001b[1;33m.\u001b[0m\u001b[0mID\u001b[0m\u001b[1;33m,\u001b[0m \u001b[0mvalue\u001b[0m\u001b[1;33m=\u001b[0m\u001b[1;32mNone\u001b[0m\u001b[1;33m)\u001b[0m\u001b[1;33m:\u001b[0m\u001b[1;33m\u001b[0m\u001b[1;33m\u001b[0m\u001b[0m\n",
      "\u001b[1;32m~\\anaconda3\\lib\\site-packages\\selenium\\webdriver\\remote\\webdriver.py\u001b[0m in \u001b[0;36mexecute\u001b[1;34m(self, driver_command, params)\u001b[0m\n\u001b[0;32m    422\u001b[0m         \u001b[0mresponse\u001b[0m \u001b[1;33m=\u001b[0m \u001b[0mself\u001b[0m\u001b[1;33m.\u001b[0m\u001b[0mcommand_executor\u001b[0m\u001b[1;33m.\u001b[0m\u001b[0mexecute\u001b[0m\u001b[1;33m(\u001b[0m\u001b[0mdriver_command\u001b[0m\u001b[1;33m,\u001b[0m \u001b[0mparams\u001b[0m\u001b[1;33m)\u001b[0m\u001b[1;33m\u001b[0m\u001b[1;33m\u001b[0m\u001b[0m\n\u001b[0;32m    423\u001b[0m         \u001b[1;32mif\u001b[0m \u001b[0mresponse\u001b[0m\u001b[1;33m:\u001b[0m\u001b[1;33m\u001b[0m\u001b[1;33m\u001b[0m\u001b[0m\n\u001b[1;32m--> 424\u001b[1;33m             \u001b[0mself\u001b[0m\u001b[1;33m.\u001b[0m\u001b[0merror_handler\u001b[0m\u001b[1;33m.\u001b[0m\u001b[0mcheck_response\u001b[0m\u001b[1;33m(\u001b[0m\u001b[0mresponse\u001b[0m\u001b[1;33m)\u001b[0m\u001b[1;33m\u001b[0m\u001b[1;33m\u001b[0m\u001b[0m\n\u001b[0m\u001b[0;32m    425\u001b[0m             response['value'] = self._unwrap_value(\n\u001b[0;32m    426\u001b[0m                 response.get('value', None))\n",
      "\u001b[1;32m~\\anaconda3\\lib\\site-packages\\selenium\\webdriver\\remote\\errorhandler.py\u001b[0m in \u001b[0;36mcheck_response\u001b[1;34m(self, response)\u001b[0m\n\u001b[0;32m    245\u001b[0m                 \u001b[0malert_text\u001b[0m \u001b[1;33m=\u001b[0m \u001b[0mvalue\u001b[0m\u001b[1;33m[\u001b[0m\u001b[1;34m'alert'\u001b[0m\u001b[1;33m]\u001b[0m\u001b[1;33m.\u001b[0m\u001b[0mget\u001b[0m\u001b[1;33m(\u001b[0m\u001b[1;34m'text'\u001b[0m\u001b[1;33m)\u001b[0m\u001b[1;33m\u001b[0m\u001b[1;33m\u001b[0m\u001b[0m\n\u001b[0;32m    246\u001b[0m             \u001b[1;32mraise\u001b[0m \u001b[0mexception_class\u001b[0m\u001b[1;33m(\u001b[0m\u001b[0mmessage\u001b[0m\u001b[1;33m,\u001b[0m \u001b[0mscreen\u001b[0m\u001b[1;33m,\u001b[0m \u001b[0mstacktrace\u001b[0m\u001b[1;33m,\u001b[0m \u001b[0malert_text\u001b[0m\u001b[1;33m)\u001b[0m  \u001b[1;31m# type: ignore[call-arg]  # mypy is not smart enough here\u001b[0m\u001b[1;33m\u001b[0m\u001b[1;33m\u001b[0m\u001b[0m\n\u001b[1;32m--> 247\u001b[1;33m         \u001b[1;32mraise\u001b[0m \u001b[0mexception_class\u001b[0m\u001b[1;33m(\u001b[0m\u001b[0mmessage\u001b[0m\u001b[1;33m,\u001b[0m \u001b[0mscreen\u001b[0m\u001b[1;33m,\u001b[0m \u001b[0mstacktrace\u001b[0m\u001b[1;33m)\u001b[0m\u001b[1;33m\u001b[0m\u001b[1;33m\u001b[0m\u001b[0m\n\u001b[0m\u001b[0;32m    248\u001b[0m \u001b[1;33m\u001b[0m\u001b[0m\n\u001b[0;32m    249\u001b[0m     \u001b[1;32mdef\u001b[0m \u001b[0m_value_or_default\u001b[0m\u001b[1;33m(\u001b[0m\u001b[0mself\u001b[0m\u001b[1;33m,\u001b[0m \u001b[0mobj\u001b[0m\u001b[1;33m:\u001b[0m \u001b[0mMapping\u001b[0m\u001b[1;33m[\u001b[0m\u001b[0m_KT\u001b[0m\u001b[1;33m,\u001b[0m \u001b[0m_VT\u001b[0m\u001b[1;33m]\u001b[0m\u001b[1;33m,\u001b[0m \u001b[0mkey\u001b[0m\u001b[1;33m:\u001b[0m \u001b[0m_KT\u001b[0m\u001b[1;33m,\u001b[0m \u001b[0mdefault\u001b[0m\u001b[1;33m:\u001b[0m \u001b[0m_VT\u001b[0m\u001b[1;33m)\u001b[0m \u001b[1;33m->\u001b[0m \u001b[0m_VT\u001b[0m\u001b[1;33m:\u001b[0m\u001b[1;33m\u001b[0m\u001b[1;33m\u001b[0m\u001b[0m\n",
      "\u001b[1;31mElementNotInteractableException\u001b[0m: Message: element not interactable\n  (Session info: chrome=97.0.4692.71)\nStacktrace:\nBacktrace:\n\tOrdinal0 [0x00E0FDC3+2555331]\n\tOrdinal0 [0x00DA77F1+2127857]\n\tOrdinal0 [0x00CA2CD0+1060048]\n\tOrdinal0 [0x00CC99F3+1219059]\n\tOrdinal0 [0x00CC913F+1216831]\n\tOrdinal0 [0x00CE7B0C+1342220]\n\tOrdinal0 [0x00CC4984+1198468]\n\tOrdinal0 [0x00CE7C14+1342484]\n\tOrdinal0 [0x00CF75FA+1406458]\n\tOrdinal0 [0x00CE7976+1341814]\n\tOrdinal0 [0x00CC36B6+1193654]\n\tOrdinal0 [0x00CC4546+1197382]\n\tGetHandleVerifier [0x00FA9622+1619522]\n\tGetHandleVerifier [0x0105882C+2336844]\n\tGetHandleVerifier [0x00EA23E1+541697]\n\tGetHandleVerifier [0x00EA1443+537699]\n\tOrdinal0 [0x00DAD18E+2150798]\n\tOrdinal0 [0x00DB1518+2168088]\n\tOrdinal0 [0x00DB1660+2168416]\n\tOrdinal0 [0x00DBB330+2208560]\n\tBaseThreadInitThunk [0x75D2FA29+25]\n\tRtlGetAppContainerNamedObjectPath [0x76EF7A9E+286]\n\tRtlGetAppContainerNamedObjectPath [0x76EF7A6E+238]\n"
     ]
    }
   ],
   "source": [
    "#write on search bar\n",
    "search_role.send_keys(\"Data Scientist\")"
   ]
  },
  {
   "cell_type": "code",
   "execution_count": 9,
   "id": "40ced632",
   "metadata": {},
   "outputs": [
    {
     "data": {
      "text/plain": [
       "<selenium.webdriver.remote.webelement.WebElement (session=\"6929d7054c02fbe4c8ce8f88ee868369\", element=\"870f4bc1-3c63-4ed9-b8ee-1ae6a68019ad\")>"
      ]
     },
     "execution_count": 9,
     "metadata": {},
     "output_type": "execute_result"
    }
   ],
   "source": [
    "#Clicking using relative xpath function\n",
    "search_button=driver.find_element_by_xpath(\"/html/body/div/div/div/div[2]/div[1]/div/div/div/button/span\")\n",
    "search_button"
   ]
  },
  {
   "cell_type": "code",
   "execution_count": 10,
   "id": "89bf8950",
   "metadata": {},
   "outputs": [],
   "source": [
    "search_button.click()"
   ]
  },
  {
   "cell_type": "markdown",
   "id": "b127bec7",
   "metadata": {},
   "source": [
    "Clicking filters by selecting check boxes using absolute xpath"
   ]
  },
  {
   "cell_type": "code",
   "execution_count": 11,
   "id": "8d1ad6c2",
   "metadata": {},
   "outputs": [
    {
     "data": {
      "text/plain": [
       "<selenium.webdriver.remote.webelement.WebElement (session=\"6929d7054c02fbe4c8ce8f88ee868369\", element=\"2fcabc89-09bf-452e-85e1-456a6fccb21c\")>"
      ]
     },
     "execution_count": 11,
     "metadata": {},
     "output_type": "execute_result"
    }
   ],
   "source": [
    "search_location=driver.find_element_by_xpath('/html/body/div/div/div/div[2]/div[2]/div[1]/div/div/div/div[2]/div[1]/p')\n",
    "search_location\n"
   ]
  },
  {
   "cell_type": "code",
   "execution_count": 12,
   "id": "45c0e972",
   "metadata": {},
   "outputs": [
    {
     "ename": "ElementNotInteractableException",
     "evalue": "Message: element not interactable\n  (Session info: chrome=97.0.4692.71)\nStacktrace:\nBacktrace:\n\tOrdinal0 [0x00E0FDC3+2555331]\n\tOrdinal0 [0x00DA77F1+2127857]\n\tOrdinal0 [0x00CA2CD0+1060048]\n\tOrdinal0 [0x00CC99F3+1219059]\n\tOrdinal0 [0x00CC913F+1216831]\n\tOrdinal0 [0x00CE7B0C+1342220]\n\tOrdinal0 [0x00CC4984+1198468]\n\tOrdinal0 [0x00CE7C14+1342484]\n\tOrdinal0 [0x00CF75FA+1406458]\n\tOrdinal0 [0x00CE7976+1341814]\n\tOrdinal0 [0x00CC36B6+1193654]\n\tOrdinal0 [0x00CC4546+1197382]\n\tGetHandleVerifier [0x00FA9622+1619522]\n\tGetHandleVerifier [0x0105882C+2336844]\n\tGetHandleVerifier [0x00EA23E1+541697]\n\tGetHandleVerifier [0x00EA1443+537699]\n\tOrdinal0 [0x00DAD18E+2150798]\n\tOrdinal0 [0x00DB1518+2168088]\n\tOrdinal0 [0x00DB1660+2168416]\n\tOrdinal0 [0x00DBB330+2208560]\n\tBaseThreadInitThunk [0x75D2FA29+25]\n\tRtlGetAppContainerNamedObjectPath [0x76EF7A9E+286]\n\tRtlGetAppContainerNamedObjectPath [0x76EF7A6E+238]\n",
     "output_type": "error",
     "traceback": [
      "\u001b[1;31m---------------------------------------------------------------------------\u001b[0m",
      "\u001b[1;31mElementNotInteractableException\u001b[0m           Traceback (most recent call last)",
      "\u001b[1;32m<ipython-input-12-c7867ccab4c8>\u001b[0m in \u001b[0;36m<module>\u001b[1;34m\u001b[0m\n\u001b[0;32m      1\u001b[0m \u001b[1;31m#finding web element for job location bar\u001b[0m\u001b[1;33m\u001b[0m\u001b[1;33m\u001b[0m\u001b[1;33m\u001b[0m\u001b[0m\n\u001b[1;32m----> 2\u001b[1;33m \u001b[0msearch_location\u001b[0m\u001b[1;33m.\u001b[0m\u001b[0msend_keys\u001b[0m\u001b[1;33m(\u001b[0m\u001b[1;34m\"Noida\"\u001b[0m\u001b[1;33m)\u001b[0m\u001b[1;33m\u001b[0m\u001b[1;33m\u001b[0m\u001b[0m\n\u001b[0m",
      "\u001b[1;32m~\\anaconda3\\lib\\site-packages\\selenium\\webdriver\\remote\\webelement.py\u001b[0m in \u001b[0;36msend_keys\u001b[1;34m(self, *value)\u001b[0m\n\u001b[0;32m    538\u001b[0m                 \u001b[0mvalue\u001b[0m \u001b[1;33m=\u001b[0m \u001b[1;34m'\\n'\u001b[0m\u001b[1;33m.\u001b[0m\u001b[0mjoin\u001b[0m\u001b[1;33m(\u001b[0m\u001b[0mremote_files\u001b[0m\u001b[1;33m)\u001b[0m\u001b[1;33m\u001b[0m\u001b[1;33m\u001b[0m\u001b[0m\n\u001b[0;32m    539\u001b[0m \u001b[1;33m\u001b[0m\u001b[0m\n\u001b[1;32m--> 540\u001b[1;33m         self._execute(Command.SEND_KEYS_TO_ELEMENT,\n\u001b[0m\u001b[0;32m    541\u001b[0m                       {'text': \"\".join(keys_to_typing(value)),\n\u001b[0;32m    542\u001b[0m                        'value': keys_to_typing(value)})\n",
      "\u001b[1;32m~\\anaconda3\\lib\\site-packages\\selenium\\webdriver\\remote\\webelement.py\u001b[0m in \u001b[0;36m_execute\u001b[1;34m(self, command, params)\u001b[0m\n\u001b[0;32m    708\u001b[0m             \u001b[0mparams\u001b[0m \u001b[1;33m=\u001b[0m \u001b[1;33m{\u001b[0m\u001b[1;33m}\u001b[0m\u001b[1;33m\u001b[0m\u001b[1;33m\u001b[0m\u001b[0m\n\u001b[0;32m    709\u001b[0m         \u001b[0mparams\u001b[0m\u001b[1;33m[\u001b[0m\u001b[1;34m'id'\u001b[0m\u001b[1;33m]\u001b[0m \u001b[1;33m=\u001b[0m \u001b[0mself\u001b[0m\u001b[1;33m.\u001b[0m\u001b[0m_id\u001b[0m\u001b[1;33m\u001b[0m\u001b[1;33m\u001b[0m\u001b[0m\n\u001b[1;32m--> 710\u001b[1;33m         \u001b[1;32mreturn\u001b[0m \u001b[0mself\u001b[0m\u001b[1;33m.\u001b[0m\u001b[0m_parent\u001b[0m\u001b[1;33m.\u001b[0m\u001b[0mexecute\u001b[0m\u001b[1;33m(\u001b[0m\u001b[0mcommand\u001b[0m\u001b[1;33m,\u001b[0m \u001b[0mparams\u001b[0m\u001b[1;33m)\u001b[0m\u001b[1;33m\u001b[0m\u001b[1;33m\u001b[0m\u001b[0m\n\u001b[0m\u001b[0;32m    711\u001b[0m \u001b[1;33m\u001b[0m\u001b[0m\n\u001b[0;32m    712\u001b[0m     \u001b[1;32mdef\u001b[0m \u001b[0mfind_element\u001b[0m\u001b[1;33m(\u001b[0m\u001b[0mself\u001b[0m\u001b[1;33m,\u001b[0m \u001b[0mby\u001b[0m\u001b[1;33m=\u001b[0m\u001b[0mBy\u001b[0m\u001b[1;33m.\u001b[0m\u001b[0mID\u001b[0m\u001b[1;33m,\u001b[0m \u001b[0mvalue\u001b[0m\u001b[1;33m=\u001b[0m\u001b[1;32mNone\u001b[0m\u001b[1;33m)\u001b[0m\u001b[1;33m:\u001b[0m\u001b[1;33m\u001b[0m\u001b[1;33m\u001b[0m\u001b[0m\n",
      "\u001b[1;32m~\\anaconda3\\lib\\site-packages\\selenium\\webdriver\\remote\\webdriver.py\u001b[0m in \u001b[0;36mexecute\u001b[1;34m(self, driver_command, params)\u001b[0m\n\u001b[0;32m    422\u001b[0m         \u001b[0mresponse\u001b[0m \u001b[1;33m=\u001b[0m \u001b[0mself\u001b[0m\u001b[1;33m.\u001b[0m\u001b[0mcommand_executor\u001b[0m\u001b[1;33m.\u001b[0m\u001b[0mexecute\u001b[0m\u001b[1;33m(\u001b[0m\u001b[0mdriver_command\u001b[0m\u001b[1;33m,\u001b[0m \u001b[0mparams\u001b[0m\u001b[1;33m)\u001b[0m\u001b[1;33m\u001b[0m\u001b[1;33m\u001b[0m\u001b[0m\n\u001b[0;32m    423\u001b[0m         \u001b[1;32mif\u001b[0m \u001b[0mresponse\u001b[0m\u001b[1;33m:\u001b[0m\u001b[1;33m\u001b[0m\u001b[1;33m\u001b[0m\u001b[0m\n\u001b[1;32m--> 424\u001b[1;33m             \u001b[0mself\u001b[0m\u001b[1;33m.\u001b[0m\u001b[0merror_handler\u001b[0m\u001b[1;33m.\u001b[0m\u001b[0mcheck_response\u001b[0m\u001b[1;33m(\u001b[0m\u001b[0mresponse\u001b[0m\u001b[1;33m)\u001b[0m\u001b[1;33m\u001b[0m\u001b[1;33m\u001b[0m\u001b[0m\n\u001b[0m\u001b[0;32m    425\u001b[0m             response['value'] = self._unwrap_value(\n\u001b[0;32m    426\u001b[0m                 response.get('value', None))\n",
      "\u001b[1;32m~\\anaconda3\\lib\\site-packages\\selenium\\webdriver\\remote\\errorhandler.py\u001b[0m in \u001b[0;36mcheck_response\u001b[1;34m(self, response)\u001b[0m\n\u001b[0;32m    245\u001b[0m                 \u001b[0malert_text\u001b[0m \u001b[1;33m=\u001b[0m \u001b[0mvalue\u001b[0m\u001b[1;33m[\u001b[0m\u001b[1;34m'alert'\u001b[0m\u001b[1;33m]\u001b[0m\u001b[1;33m.\u001b[0m\u001b[0mget\u001b[0m\u001b[1;33m(\u001b[0m\u001b[1;34m'text'\u001b[0m\u001b[1;33m)\u001b[0m\u001b[1;33m\u001b[0m\u001b[1;33m\u001b[0m\u001b[0m\n\u001b[0;32m    246\u001b[0m             \u001b[1;32mraise\u001b[0m \u001b[0mexception_class\u001b[0m\u001b[1;33m(\u001b[0m\u001b[0mmessage\u001b[0m\u001b[1;33m,\u001b[0m \u001b[0mscreen\u001b[0m\u001b[1;33m,\u001b[0m \u001b[0mstacktrace\u001b[0m\u001b[1;33m,\u001b[0m \u001b[0malert_text\u001b[0m\u001b[1;33m)\u001b[0m  \u001b[1;31m# type: ignore[call-arg]  # mypy is not smart enough here\u001b[0m\u001b[1;33m\u001b[0m\u001b[1;33m\u001b[0m\u001b[0m\n\u001b[1;32m--> 247\u001b[1;33m         \u001b[1;32mraise\u001b[0m \u001b[0mexception_class\u001b[0m\u001b[1;33m(\u001b[0m\u001b[0mmessage\u001b[0m\u001b[1;33m,\u001b[0m \u001b[0mscreen\u001b[0m\u001b[1;33m,\u001b[0m \u001b[0mstacktrace\u001b[0m\u001b[1;33m)\u001b[0m\u001b[1;33m\u001b[0m\u001b[1;33m\u001b[0m\u001b[0m\n\u001b[0m\u001b[0;32m    248\u001b[0m \u001b[1;33m\u001b[0m\u001b[0m\n\u001b[0;32m    249\u001b[0m     \u001b[1;32mdef\u001b[0m \u001b[0m_value_or_default\u001b[0m\u001b[1;33m(\u001b[0m\u001b[0mself\u001b[0m\u001b[1;33m,\u001b[0m \u001b[0mobj\u001b[0m\u001b[1;33m:\u001b[0m \u001b[0mMapping\u001b[0m\u001b[1;33m[\u001b[0m\u001b[0m_KT\u001b[0m\u001b[1;33m,\u001b[0m \u001b[0m_VT\u001b[0m\u001b[1;33m]\u001b[0m\u001b[1;33m,\u001b[0m \u001b[0mkey\u001b[0m\u001b[1;33m:\u001b[0m \u001b[0m_KT\u001b[0m\u001b[1;33m,\u001b[0m \u001b[0mdefault\u001b[0m\u001b[1;33m:\u001b[0m \u001b[0m_VT\u001b[0m\u001b[1;33m)\u001b[0m \u001b[1;33m->\u001b[0m \u001b[0m_VT\u001b[0m\u001b[1;33m:\u001b[0m\u001b[1;33m\u001b[0m\u001b[1;33m\u001b[0m\u001b[0m\n",
      "\u001b[1;31mElementNotInteractableException\u001b[0m: Message: element not interactable\n  (Session info: chrome=97.0.4692.71)\nStacktrace:\nBacktrace:\n\tOrdinal0 [0x00E0FDC3+2555331]\n\tOrdinal0 [0x00DA77F1+2127857]\n\tOrdinal0 [0x00CA2CD0+1060048]\n\tOrdinal0 [0x00CC99F3+1219059]\n\tOrdinal0 [0x00CC913F+1216831]\n\tOrdinal0 [0x00CE7B0C+1342220]\n\tOrdinal0 [0x00CC4984+1198468]\n\tOrdinal0 [0x00CE7C14+1342484]\n\tOrdinal0 [0x00CF75FA+1406458]\n\tOrdinal0 [0x00CE7976+1341814]\n\tOrdinal0 [0x00CC36B6+1193654]\n\tOrdinal0 [0x00CC4546+1197382]\n\tGetHandleVerifier [0x00FA9622+1619522]\n\tGetHandleVerifier [0x0105882C+2336844]\n\tGetHandleVerifier [0x00EA23E1+541697]\n\tGetHandleVerifier [0x00EA1443+537699]\n\tOrdinal0 [0x00DAD18E+2150798]\n\tOrdinal0 [0x00DB1518+2168088]\n\tOrdinal0 [0x00DB1660+2168416]\n\tOrdinal0 [0x00DBB330+2208560]\n\tBaseThreadInitThunk [0x75D2FA29+25]\n\tRtlGetAppContainerNamedObjectPath [0x76EF7A9E+286]\n\tRtlGetAppContainerNamedObjectPath [0x76EF7A6E+238]\n"
     ]
    }
   ],
   "source": [
    "#finding web element for job location bar\n",
    "search_location.send_keys(\"Noida\")"
   ]
  },
  {
   "cell_type": "markdown",
   "id": "d0f15362",
   "metadata": {},
   "source": [
    "Now first create 3 empty lists. In thee lists the data will be stored while scrapping"
   ]
  },
  {
   "cell_type": "markdown",
   "id": "ce12ee82",
   "metadata": {},
   "source": [
    "# Extracting Company Names"
   ]
  },
  {
   "cell_type": "code",
   "execution_count": 27,
   "id": "ef07bf74",
   "metadata": {},
   "outputs": [
    {
     "data": {
      "text/plain": [
       "[<selenium.webdriver.remote.webelement.WebElement (session=\"6929d7054c02fbe4c8ce8f88ee868369\", element=\"5bb11bb0-a6e4-4495-9f44-b5d3a5adf249\")>,\n",
       " <selenium.webdriver.remote.webelement.WebElement (session=\"6929d7054c02fbe4c8ce8f88ee868369\", element=\"3c89e342-021b-409a-93a9-6de54a9b1fe8\")>,\n",
       " <selenium.webdriver.remote.webelement.WebElement (session=\"6929d7054c02fbe4c8ce8f88ee868369\", element=\"9ad5bd92-9eea-47e6-beeb-2ceea42569cb\")>]"
      ]
     },
     "execution_count": 27,
     "metadata": {},
     "output_type": "execute_result"
    }
   ],
   "source": [
    "#extract all web element having company names\n",
    "company_tags=driver.find_elements_by_xpath('//p[@class=\"company body-medium\"]')\n",
    "len(company_tags)\n",
    "company_tags[0:3]"
   ]
  },
  {
   "cell_type": "code",
   "execution_count": 28,
   "id": "be609a67",
   "metadata": {},
   "outputs": [
    {
     "data": {
      "text/plain": [
       "['HCL',\n",
       " 'Jubilant Foodworks Limited',\n",
       " 'Ameriprise Financial',\n",
       " 'Paytm',\n",
       " 'CHT Sapiense',\n",
       " 'CHT Sapiense',\n",
       " 'GI Group',\n",
       " 'GI Group',\n",
       " 'GI Group',\n",
       " 'Cargoflash']"
      ]
     },
     "execution_count": 28,
     "metadata": {},
     "output_type": "execute_result"
    }
   ],
   "source": [
    "#we will run for loop to iterate over the tags and will extract text\n",
    "company_names=[]\n",
    "\n",
    "for i in company_tags[:10]:\n",
    "    company_names.append(i.text)\n",
    "len(company_names)\n",
    "company_names"
   ]
  },
  {
   "cell_type": "markdown",
   "id": "77bf2edb",
   "metadata": {},
   "source": [
    "# Extracting No. of days ago when job was posted"
   ]
  },
  {
   "cell_type": "code",
   "execution_count": 22,
   "id": "6e8bc45b",
   "metadata": {},
   "outputs": [
    {
     "data": {
      "text/plain": [
       "30"
      ]
     },
     "execution_count": 22,
     "metadata": {},
     "output_type": "execute_result"
    }
   ],
   "source": [
    "#extract all web element having No. of days ago when job was posted\n",
    "No_of_days_ago=driver.find_elements_by_xpath('//div[@class=\"other-info\"]/span')\n",
    "len(No_of_days_ago)\n"
   ]
  },
  {
   "cell_type": "code",
   "execution_count": 23,
   "id": "93155471",
   "metadata": {},
   "outputs": [
    {
     "data": {
      "text/plain": [
       "['2d ago',\n",
       " '·',\n",
       " 'via hirist.com',\n",
       " '2d ago',\n",
       " '·',\n",
       " 'via naukri.com',\n",
       " '4d ago',\n",
       " '·',\n",
       " 'via naukri.com',\n",
       " '10d ago']"
      ]
     },
     "execution_count": 23,
     "metadata": {},
     "output_type": "execute_result"
    }
   ],
   "source": [
    "#we will run for loop to iterate over the tags and will extract text\n",
    "days=[]\n",
    "\n",
    "for i in No_of_days_ago[:10]:\n",
    "    days.append(i.text)\n",
    "len(days)\n",
    "days"
   ]
  },
  {
   "cell_type": "markdown",
   "id": "ce9c7a21",
   "metadata": {},
   "source": [
    "# Extracting Rating of the company"
   ]
  },
  {
   "cell_type": "code",
   "execution_count": 24,
   "id": "fd9ba0b5",
   "metadata": {},
   "outputs": [
    {
     "data": {
      "text/plain": [
       "10"
      ]
     },
     "execution_count": 24,
     "metadata": {},
     "output_type": "execute_result"
    }
   ],
   "source": [
    "#extract all web element having No. of days ago when job was posted\n",
    "rating_of_company=driver.find_elements_by_xpath('//span[@class=\"body-small\"]')\n",
    "len(rating_of_company)"
   ]
  },
  {
   "cell_type": "code",
   "execution_count": 25,
   "id": "0864ae35",
   "metadata": {},
   "outputs": [
    {
     "data": {
      "text/plain": [
       "['3.8', '3.9', '4.0', '3.7', '3.8', '3.8', '4.1', '4.1', '4.1', '3.8']"
      ]
     },
     "execution_count": 25,
     "metadata": {},
     "output_type": "execute_result"
    }
   ],
   "source": [
    "#we will run for loop to iterate over the tags and will extract text\n",
    "ratings=[]\n",
    "\n",
    "for i in rating_of_company[:10]:\n",
    "    ratings.append(i.text)\n",
    "len(ratings)\n",
    "ratings"
   ]
  },
  {
   "cell_type": "markdown",
   "id": "b491d971",
   "metadata": {},
   "source": [
    "# Making Dataframe"
   ]
  },
  {
   "cell_type": "code",
   "execution_count": 29,
   "id": "a15e22da",
   "metadata": {},
   "outputs": [
    {
     "data": {
      "text/html": [
       "<div>\n",
       "<style scoped>\n",
       "    .dataframe tbody tr th:only-of-type {\n",
       "        vertical-align: middle;\n",
       "    }\n",
       "\n",
       "    .dataframe tbody tr th {\n",
       "        vertical-align: top;\n",
       "    }\n",
       "\n",
       "    .dataframe thead th {\n",
       "        text-align: right;\n",
       "    }\n",
       "</style>\n",
       "<table border=\"1\" class=\"dataframe\">\n",
       "  <thead>\n",
       "    <tr style=\"text-align: right;\">\n",
       "      <th></th>\n",
       "      <th>Company name</th>\n",
       "      <th>No. of days ago when job was posted</th>\n",
       "      <th>Rating of the company</th>\n",
       "    </tr>\n",
       "  </thead>\n",
       "  <tbody>\n",
       "    <tr>\n",
       "      <th>0</th>\n",
       "      <td>HCL</td>\n",
       "      <td>2d ago</td>\n",
       "      <td>3.8</td>\n",
       "    </tr>\n",
       "    <tr>\n",
       "      <th>1</th>\n",
       "      <td>Jubilant Foodworks Limited</td>\n",
       "      <td>·</td>\n",
       "      <td>3.9</td>\n",
       "    </tr>\n",
       "    <tr>\n",
       "      <th>2</th>\n",
       "      <td>Ameriprise Financial</td>\n",
       "      <td>via hirist.com</td>\n",
       "      <td>4.0</td>\n",
       "    </tr>\n",
       "    <tr>\n",
       "      <th>3</th>\n",
       "      <td>Paytm</td>\n",
       "      <td>2d ago</td>\n",
       "      <td>3.7</td>\n",
       "    </tr>\n",
       "    <tr>\n",
       "      <th>4</th>\n",
       "      <td>CHT Sapiense</td>\n",
       "      <td>·</td>\n",
       "      <td>3.8</td>\n",
       "    </tr>\n",
       "    <tr>\n",
       "      <th>5</th>\n",
       "      <td>CHT Sapiense</td>\n",
       "      <td>via naukri.com</td>\n",
       "      <td>3.8</td>\n",
       "    </tr>\n",
       "    <tr>\n",
       "      <th>6</th>\n",
       "      <td>GI Group</td>\n",
       "      <td>4d ago</td>\n",
       "      <td>4.1</td>\n",
       "    </tr>\n",
       "    <tr>\n",
       "      <th>7</th>\n",
       "      <td>GI Group</td>\n",
       "      <td>·</td>\n",
       "      <td>4.1</td>\n",
       "    </tr>\n",
       "    <tr>\n",
       "      <th>8</th>\n",
       "      <td>GI Group</td>\n",
       "      <td>via naukri.com</td>\n",
       "      <td>4.1</td>\n",
       "    </tr>\n",
       "    <tr>\n",
       "      <th>9</th>\n",
       "      <td>Cargoflash</td>\n",
       "      <td>10d ago</td>\n",
       "      <td>3.8</td>\n",
       "    </tr>\n",
       "  </tbody>\n",
       "</table>\n",
       "</div>"
      ],
      "text/plain": [
       "                 Company name No. of days ago when job was posted  \\\n",
       "0                         HCL                              2d ago   \n",
       "1  Jubilant Foodworks Limited                                   ·   \n",
       "2        Ameriprise Financial                      via hirist.com   \n",
       "3                       Paytm                              2d ago   \n",
       "4                CHT Sapiense                                   ·   \n",
       "5                CHT Sapiense                      via naukri.com   \n",
       "6                    GI Group                              4d ago   \n",
       "7                    GI Group                                   ·   \n",
       "8                    GI Group                      via naukri.com   \n",
       "9                  Cargoflash                             10d ago   \n",
       "\n",
       "  Rating of the company  \n",
       "0                   3.8  \n",
       "1                   3.9  \n",
       "2                   4.0  \n",
       "3                   3.7  \n",
       "4                   3.8  \n",
       "5                   3.8  \n",
       "6                   4.1  \n",
       "7                   4.1  \n",
       "8                   4.1  \n",
       "9                   3.8  "
      ]
     },
     "execution_count": 29,
     "metadata": {},
     "output_type": "execute_result"
    }
   ],
   "source": [
    "Data_Scientist=pd.DataFrame()\n",
    "Data_Scientist['Company name']=company_names\n",
    "Data_Scientist['No. of days ago when job was posted']=days\n",
    "Data_Scientist['Rating of the company']=ratings\n",
    "Data_Scientist"
   ]
  },
  {
   "cell_type": "markdown",
   "id": "6883c071",
   "metadata": {},
   "source": [
    "# Q10) python program to scrape the salary data for Data Scientist designation."
   ]
  },
  {
   "cell_type": "markdown",
   "id": "24b3f2a7",
   "metadata": {},
   "source": [
    "You have to scrape Company name, Number of salaries, Average salary, Minsalary, Max Salary.\n",
    "The above task will be, done as shown in the below steps:\n",
    "1. First get the webpage https://www.ambitionbox.com/\n",
    "2. Click on the salaries option.\n",
    "3. After reaching to the following webpage, In place of “Search Job Profile” enters “Data Scientist” and then click on “Data Scientist”.\n",
    "4. Scrape the data for the first 10 companies. Scrape the company name, total salary record, average salary, minimum salary, maximum salary, experience required.\n",
    "5. Store the data in a dataframe."
   ]
  },
  {
   "cell_type": "code",
   "execution_count": 182,
   "id": "9fe4a38a",
   "metadata": {},
   "outputs": [],
   "source": [
    "#First connect to web driver\n",
    "driver=webdriver.Chrome(r'C:\\Users\\Dell\\Downloads\\chromedriver_win32\\chromedriver.exe')"
   ]
  },
  {
   "cell_type": "code",
   "execution_count": 183,
   "id": "b12da464",
   "metadata": {},
   "outputs": [],
   "source": [
    "url='https://www.ambitionbox.com/'\n",
    "\n",
    "driver.get(url)"
   ]
  },
  {
   "cell_type": "markdown",
   "id": "94d534a1",
   "metadata": {},
   "source": [
    "# Extracting company name"
   ]
  },
  {
   "cell_type": "code",
   "execution_count": 196,
   "id": "9a30232c",
   "metadata": {},
   "outputs": [
    {
     "data": {
      "text/plain": [
       "10"
      ]
     },
     "execution_count": 196,
     "metadata": {},
     "output_type": "execute_result"
    }
   ],
   "source": [
    "#extract all web element having company name\n",
    "company_name=driver.find_elements_by_xpath('//div[@class=\"name\"]')\n",
    "len(company_name)\n"
   ]
  },
  {
   "cell_type": "code",
   "execution_count": 213,
   "id": "3c77ee4d",
   "metadata": {},
   "outputs": [
    {
     "data": {
      "text/plain": [
       "['Tekion, based on 10 salaries',\n",
       " 'Microsoft Corporation, based on 224 salaries',\n",
       " 'Goldman Sachs, based on 11 salaries',\n",
       " 'Flipkart, based on 54 salaries',\n",
       " 'Amazon, based on 85 salaries',\n",
       " 'Arcesium, based on 37 salaries',\n",
       " 'PayPal, based on 12 salaries',\n",
       " 'Servicenow Software Development India, based on 27 salaries',\n",
       " 'Walmart, based on 79 salaries',\n",
       " 'ServiceNow, based on 16 salaries']"
      ]
     },
     "execution_count": 213,
     "metadata": {},
     "output_type": "execute_result"
    }
   ],
   "source": [
    "#we will run for loop to iterate over the tags and will extract text\n",
    "cname=[]\n",
    "\n",
    "for i in company_name[:10]:\n",
    "    cname.append(i.text.replace('\\n',', '))\n",
    "len(cname)\n",
    "cname"
   ]
  },
  {
   "cell_type": "markdown",
   "id": "c0b69037",
   "metadata": {},
   "source": [
    "# Extracting average salary"
   ]
  },
  {
   "cell_type": "code",
   "execution_count": 199,
   "id": "6b87fc62",
   "metadata": {},
   "outputs": [
    {
     "data": {
      "text/plain": [
       "10"
      ]
     },
     "execution_count": 199,
     "metadata": {},
     "output_type": "execute_result"
    }
   ],
   "source": [
    "#extract all web element having average salary\n",
    "average_salary=driver.find_elements_by_xpath('//p[@class=\"averageCtc\"]')\n",
    "len(average_salary)"
   ]
  },
  {
   "cell_type": "code",
   "execution_count": 200,
   "id": "ac226840",
   "metadata": {},
   "outputs": [
    {
     "data": {
      "text/plain": [
       "['₹ 23.3L',\n",
       " '₹ 22.4L',\n",
       " '₹ 21.9L',\n",
       " '₹ 20.6L',\n",
       " '₹ 19.4L',\n",
       " '₹ 18.5L',\n",
       " '₹ 18.4L',\n",
       " '₹ 18.3L',\n",
       " '₹ 17.9L',\n",
       " '₹ 17.8L']"
      ]
     },
     "execution_count": 200,
     "metadata": {},
     "output_type": "execute_result"
    }
   ],
   "source": [
    "#we will run for loop to iterate over the tags and will extract text\n",
    "asalary=[]\n",
    "\n",
    "for i in average_salary[:10]:\n",
    "    asalary.append(i.text)\n",
    "len(asalary)\n",
    "asalary"
   ]
  },
  {
   "cell_type": "markdown",
   "id": "f6f53f9a",
   "metadata": {},
   "source": [
    "# Extracting minimum salary"
   ]
  },
  {
   "cell_type": "code",
   "execution_count": 203,
   "id": "269a566d",
   "metadata": {},
   "outputs": [
    {
     "data": {
      "text/plain": [
       "10"
      ]
     },
     "execution_count": 203,
     "metadata": {},
     "output_type": "execute_result"
    }
   ],
   "source": [
    "#extract all web element having minimum salar\n",
    "minimum_salary=driver.find_elements_by_xpath('//div[@class=\"salary-values\"]')\n",
    "len(minimum_salary)"
   ]
  },
  {
   "cell_type": "code",
   "execution_count": 205,
   "id": "e266972f",
   "metadata": {},
   "outputs": [
    {
     "data": {
      "text/plain": [
       "['₹ 14.0L-₹ 32.0L',\n",
       " '₹ 12.0L-₹ 45.0L',\n",
       " '₹ 16.0L-₹ 30.0L',\n",
       " '₹ 7.0L-₹ 30.0L',\n",
       " '₹ 8.0L-₹ 41.5L',\n",
       " '₹ 12.0L-₹ 30.0L',\n",
       " '₹ 12.0L-₹ 25.0L',\n",
       " '₹ 12.0L-₹ 25.0L',\n",
       " '₹ 10.0L-₹ 32.0L',\n",
       " '₹ 11.2L-₹ 23.0L']"
      ]
     },
     "execution_count": 205,
     "metadata": {},
     "output_type": "execute_result"
    }
   ],
   "source": [
    "#we will run for loop to iterate over the tags and will extract text\n",
    "msalary=[]\n",
    "\n",
    "for i in minimum_salary[:10]:\n",
    "    msalary.append(i.text.replace('\\n','-'))\n",
    "len(msalary)\n",
    "msalary"
   ]
  },
  {
   "cell_type": "markdown",
   "id": "df83d1cc",
   "metadata": {},
   "source": [
    "# Extracting experience required"
   ]
  },
  {
   "cell_type": "code",
   "execution_count": 206,
   "id": "17602a39",
   "metadata": {},
   "outputs": [
    {
     "data": {
      "text/plain": [
       "10"
      ]
     },
     "execution_count": 206,
     "metadata": {},
     "output_type": "execute_result"
    }
   ],
   "source": [
    "#extract all web element having experience required\n",
    "experience_required=driver.find_elements_by_xpath('//div[@class=\"salaries sbold-list-header\"]')\n",
    "len(experience_required)"
   ]
  },
  {
   "cell_type": "code",
   "execution_count": 210,
   "id": "20438117",
   "metadata": {},
   "outputs": [
    {
     "data": {
      "text/plain": [
       "[' 4 yrs exp',\n",
       " ' 1-4 yrs exp',\n",
       " ' 2 yrs exp',\n",
       " ' 1-4 yrs exp',\n",
       " ' 1-4 yrs exp',\n",
       " ' 1 yr exp',\n",
       " ' 1 yr exp',\n",
       " ' 2-3 yrs exp',\n",
       " ' 1-4 yrs exp',\n",
       " ' 3 yrs exp']"
      ]
     },
     "execution_count": 210,
     "metadata": {},
     "output_type": "execute_result"
    }
   ],
   "source": [
    "#we will run for loop to iterate over the tags and will extract text\n",
    "experience=[]\n",
    "\n",
    "for i in experience_required[:10]:\n",
    "    experience.append(i.text.replace('Software Engineer\\n . \\n',' '))\n",
    "len(experience)\n",
    "experience"
   ]
  },
  {
   "cell_type": "markdown",
   "id": "d6b96c57",
   "metadata": {},
   "source": [
    "# Making Dataframe"
   ]
  },
  {
   "cell_type": "code",
   "execution_count": 214,
   "id": "fb3a6aea",
   "metadata": {},
   "outputs": [
    {
     "data": {
      "text/html": [
       "<div>\n",
       "<style scoped>\n",
       "    .dataframe tbody tr th:only-of-type {\n",
       "        vertical-align: middle;\n",
       "    }\n",
       "\n",
       "    .dataframe tbody tr th {\n",
       "        vertical-align: top;\n",
       "    }\n",
       "\n",
       "    .dataframe thead th {\n",
       "        text-align: right;\n",
       "    }\n",
       "</style>\n",
       "<table border=\"1\" class=\"dataframe\">\n",
       "  <thead>\n",
       "    <tr style=\"text-align: right;\">\n",
       "      <th></th>\n",
       "      <th>Company Name(total salary record)</th>\n",
       "      <th>Average Salary</th>\n",
       "      <th>Minimum salary-Maximum salary</th>\n",
       "      <th>Experience Required</th>\n",
       "    </tr>\n",
       "  </thead>\n",
       "  <tbody>\n",
       "    <tr>\n",
       "      <th>0</th>\n",
       "      <td>Tekion, based on 10 salaries</td>\n",
       "      <td>₹ 23.3L</td>\n",
       "      <td>₹ 14.0L-₹ 32.0L</td>\n",
       "      <td>4 yrs exp</td>\n",
       "    </tr>\n",
       "    <tr>\n",
       "      <th>1</th>\n",
       "      <td>Microsoft Corporation, based on 224 salaries</td>\n",
       "      <td>₹ 22.4L</td>\n",
       "      <td>₹ 12.0L-₹ 45.0L</td>\n",
       "      <td>1-4 yrs exp</td>\n",
       "    </tr>\n",
       "    <tr>\n",
       "      <th>2</th>\n",
       "      <td>Goldman Sachs, based on 11 salaries</td>\n",
       "      <td>₹ 21.9L</td>\n",
       "      <td>₹ 16.0L-₹ 30.0L</td>\n",
       "      <td>2 yrs exp</td>\n",
       "    </tr>\n",
       "    <tr>\n",
       "      <th>3</th>\n",
       "      <td>Flipkart, based on 54 salaries</td>\n",
       "      <td>₹ 20.6L</td>\n",
       "      <td>₹ 7.0L-₹ 30.0L</td>\n",
       "      <td>1-4 yrs exp</td>\n",
       "    </tr>\n",
       "    <tr>\n",
       "      <th>4</th>\n",
       "      <td>Amazon, based on 85 salaries</td>\n",
       "      <td>₹ 19.4L</td>\n",
       "      <td>₹ 8.0L-₹ 41.5L</td>\n",
       "      <td>1-4 yrs exp</td>\n",
       "    </tr>\n",
       "    <tr>\n",
       "      <th>5</th>\n",
       "      <td>Arcesium, based on 37 salaries</td>\n",
       "      <td>₹ 18.5L</td>\n",
       "      <td>₹ 12.0L-₹ 30.0L</td>\n",
       "      <td>1 yr exp</td>\n",
       "    </tr>\n",
       "    <tr>\n",
       "      <th>6</th>\n",
       "      <td>PayPal, based on 12 salaries</td>\n",
       "      <td>₹ 18.4L</td>\n",
       "      <td>₹ 12.0L-₹ 25.0L</td>\n",
       "      <td>1 yr exp</td>\n",
       "    </tr>\n",
       "    <tr>\n",
       "      <th>7</th>\n",
       "      <td>Servicenow Software Development India, based o...</td>\n",
       "      <td>₹ 18.3L</td>\n",
       "      <td>₹ 12.0L-₹ 25.0L</td>\n",
       "      <td>2-3 yrs exp</td>\n",
       "    </tr>\n",
       "    <tr>\n",
       "      <th>8</th>\n",
       "      <td>Walmart, based on 79 salaries</td>\n",
       "      <td>₹ 17.9L</td>\n",
       "      <td>₹ 10.0L-₹ 32.0L</td>\n",
       "      <td>1-4 yrs exp</td>\n",
       "    </tr>\n",
       "    <tr>\n",
       "      <th>9</th>\n",
       "      <td>ServiceNow, based on 16 salaries</td>\n",
       "      <td>₹ 17.8L</td>\n",
       "      <td>₹ 11.2L-₹ 23.0L</td>\n",
       "      <td>3 yrs exp</td>\n",
       "    </tr>\n",
       "  </tbody>\n",
       "</table>\n",
       "</div>"
      ],
      "text/plain": [
       "                   Company Name(total salary record) Average Salary  \\\n",
       "0                       Tekion, based on 10 salaries        ₹ 23.3L   \n",
       "1       Microsoft Corporation, based on 224 salaries        ₹ 22.4L   \n",
       "2                Goldman Sachs, based on 11 salaries        ₹ 21.9L   \n",
       "3                     Flipkart, based on 54 salaries        ₹ 20.6L   \n",
       "4                       Amazon, based on 85 salaries        ₹ 19.4L   \n",
       "5                     Arcesium, based on 37 salaries        ₹ 18.5L   \n",
       "6                       PayPal, based on 12 salaries        ₹ 18.4L   \n",
       "7  Servicenow Software Development India, based o...        ₹ 18.3L   \n",
       "8                      Walmart, based on 79 salaries        ₹ 17.9L   \n",
       "9                   ServiceNow, based on 16 salaries        ₹ 17.8L   \n",
       "\n",
       "  Minimum salary-Maximum salary Experience Required  \n",
       "0               ₹ 14.0L-₹ 32.0L           4 yrs exp  \n",
       "1               ₹ 12.0L-₹ 45.0L         1-4 yrs exp  \n",
       "2               ₹ 16.0L-₹ 30.0L           2 yrs exp  \n",
       "3                ₹ 7.0L-₹ 30.0L         1-4 yrs exp  \n",
       "4                ₹ 8.0L-₹ 41.5L         1-4 yrs exp  \n",
       "5               ₹ 12.0L-₹ 30.0L            1 yr exp  \n",
       "6               ₹ 12.0L-₹ 25.0L            1 yr exp  \n",
       "7               ₹ 12.0L-₹ 25.0L         2-3 yrs exp  \n",
       "8               ₹ 10.0L-₹ 32.0L         1-4 yrs exp  \n",
       "9               ₹ 11.2L-₹ 23.0L           3 yrs exp  "
      ]
     },
     "execution_count": 214,
     "metadata": {},
     "output_type": "execute_result"
    }
   ],
   "source": [
    "salary=pd.DataFrame()\n",
    "salary['Company Name(total salary record)']=cname\n",
    "salary['Average Salary']=asalary\n",
    "salary['Minimum salary-Maximum salary']=msalary\n",
    "salary['Experience Required']=experience\n",
    "salary"
   ]
  },
  {
   "cell_type": "code",
   "execution_count": null,
   "id": "5581e0f7",
   "metadata": {},
   "outputs": [],
   "source": []
  }
 ],
 "metadata": {
  "kernelspec": {
   "display_name": "Python 3",
   "language": "python",
   "name": "python3"
  },
  "language_info": {
   "codemirror_mode": {
    "name": "ipython",
    "version": 3
   },
   "file_extension": ".py",
   "mimetype": "text/x-python",
   "name": "python",
   "nbconvert_exporter": "python",
   "pygments_lexer": "ipython3",
   "version": "3.8.8"
  }
 },
 "nbformat": 4,
 "nbformat_minor": 5
}
